{
 "cells": [
  {
   "cell_type": "markdown",
   "id": "82ae0b22-e300-4d81-a6e2-d7dca67be34a",
   "metadata": {},
   "source": [
    "# Проект \"Статистический анализ данных\"\n",
    "Вы аналитик популярного сервиса аренды самокатов GoFast. Вам передали данные о некоторых пользователях из нескольких городов, а также об их поездках. Проанализируйте данные и проверьте некоторые гипотезы, которые могут помочь бизнесу вырасти.  \n",
    "Чтобы совершать поездки по городу, пользователи сервиса GoFast пользуются мобильным приложением, в котором есть вариант подписки.\n",
    "\n",
    "__Цель исследования:__  \n",
    "Проверить ряд гипотез об использовании приложения пользователей с подпиской и без нее  \n",
    "\n",
    "__Ход исследования:__  \n",
    "Получаем данные из файлов: 'users_go.csv','rides_go.csv' и 'subscriptions_go.csv' и проверяем их на пропуски. Предобрабатываем данные, избавляя их от дубликатов и изменяя тип в столбцах на нужный. Исследуем распределения данные для понимания общей картины и поиска точек роста для бизнеса. Объединяем и строим агрегирующие таблицы, с помощью которых находим выручку для разных групп пользователей. Проверяем гипотезы и ,наконец, пишем выводы и рекомендации.  \n",
    "Таким образом, мое исследование пройдет в 7 этапов:\n",
    "- Обзор данных\n",
    "- Предобработка данных\n",
    "- Исследовательский анализ данных\n",
    "- Объединение данных\n",
    "- Подсчет выручки\n",
    "- Проверка гипотез\n",
    "- Заключение"
   ]
  },
  {
   "cell_type": "markdown",
   "id": "a6c1c535-ca97-4a46-8b18-10f9cb1ff8d6",
   "metadata": {},
   "source": [
    "## Исходные данные"
   ]
  },
  {
   "cell_type": "code",
   "execution_count": 1,
   "id": "77bb9373-a374-4cce-ba55-906a1f3845c4",
   "metadata": {},
   "outputs": [],
   "source": [
    "# подключаем библиотеки\n",
    "import pandas as pd\n",
    "import matplotlib.pyplot as plt\n",
    "import seaborn as sns\n",
    "import math\n",
    "import numpy as np\n",
    "import random as rn\n",
    "from scipy import stats as st"
   ]
  },
  {
   "cell_type": "code",
   "execution_count": 2,
   "id": "699d6968-a6e2-42e2-9425-9386c4d0a5b5",
   "metadata": {},
   "outputs": [],
   "source": [
    "# прочитаем csv файлы\n",
    "try:\n",
    "    users = pd.read_csv('users_go.csv')\n",
    "    rides = pd.read_csv('rides_go.csv')\n",
    "    subscriptions = pd.read_csv('subscriptions_go.csv')\n",
    "except:\n",
    "    users = pd.read_csv('/datasets/users_go.csv')\n",
    "    rides = pd.read_csv('/datasets/rides_go.csv')\n",
    "    subscriptions = pd.read_csv('/datasets/subscriptions_go.csv')"
   ]
  },
  {
   "cell_type": "code",
   "execution_count": 3,
   "id": "c715f04c-2e4e-4dc3-b0db-287bb5f772ef",
   "metadata": {},
   "outputs": [
    {
     "data": {
      "text/html": [
       "<div>\n",
       "<style scoped>\n",
       "    .dataframe tbody tr th:only-of-type {\n",
       "        vertical-align: middle;\n",
       "    }\n",
       "\n",
       "    .dataframe tbody tr th {\n",
       "        vertical-align: top;\n",
       "    }\n",
       "\n",
       "    .dataframe thead th {\n",
       "        text-align: right;\n",
       "    }\n",
       "</style>\n",
       "<table border=\"1\" class=\"dataframe\">\n",
       "  <thead>\n",
       "    <tr style=\"text-align: right;\">\n",
       "      <th></th>\n",
       "      <th>user_id</th>\n",
       "      <th>name</th>\n",
       "      <th>age</th>\n",
       "      <th>city</th>\n",
       "      <th>subscription_type</th>\n",
       "    </tr>\n",
       "  </thead>\n",
       "  <tbody>\n",
       "    <tr>\n",
       "      <th>0</th>\n",
       "      <td>1</td>\n",
       "      <td>Кира</td>\n",
       "      <td>22</td>\n",
       "      <td>Тюмень</td>\n",
       "      <td>ultra</td>\n",
       "    </tr>\n",
       "    <tr>\n",
       "      <th>1</th>\n",
       "      <td>2</td>\n",
       "      <td>Станислав</td>\n",
       "      <td>31</td>\n",
       "      <td>Омск</td>\n",
       "      <td>ultra</td>\n",
       "    </tr>\n",
       "    <tr>\n",
       "      <th>2</th>\n",
       "      <td>3</td>\n",
       "      <td>Алексей</td>\n",
       "      <td>20</td>\n",
       "      <td>Москва</td>\n",
       "      <td>ultra</td>\n",
       "    </tr>\n",
       "    <tr>\n",
       "      <th>3</th>\n",
       "      <td>4</td>\n",
       "      <td>Константин</td>\n",
       "      <td>26</td>\n",
       "      <td>Ростов-на-Дону</td>\n",
       "      <td>ultra</td>\n",
       "    </tr>\n",
       "    <tr>\n",
       "      <th>4</th>\n",
       "      <td>5</td>\n",
       "      <td>Адель</td>\n",
       "      <td>28</td>\n",
       "      <td>Омск</td>\n",
       "      <td>ultra</td>\n",
       "    </tr>\n",
       "  </tbody>\n",
       "</table>\n",
       "</div>"
      ],
      "text/plain": [
       "   user_id        name  age            city subscription_type\n",
       "0        1        Кира   22          Тюмень             ultra\n",
       "1        2   Станислав   31            Омск             ultra\n",
       "2        3     Алексей   20          Москва             ultra\n",
       "3        4  Константин   26  Ростов-на-Дону             ultra\n",
       "4        5       Адель   28            Омск             ultra"
      ]
     },
     "metadata": {},
     "output_type": "display_data"
    },
    {
     "name": "stdout",
     "output_type": "stream",
     "text": [
      "<class 'pandas.core.frame.DataFrame'>\n",
      "RangeIndex: 1565 entries, 0 to 1564\n",
      "Data columns (total 5 columns):\n",
      " #   Column             Non-Null Count  Dtype \n",
      "---  ------             --------------  ----- \n",
      " 0   user_id            1565 non-null   int64 \n",
      " 1   name               1565 non-null   object\n",
      " 2   age                1565 non-null   int64 \n",
      " 3   city               1565 non-null   object\n",
      " 4   subscription_type  1565 non-null   object\n",
      "dtypes: int64(2), object(3)\n",
      "memory usage: 61.3+ KB\n"
     ]
    }
   ],
   "source": [
    "# выведем первые строки и общую информацию для каждого датафрейма\n",
    "display(users.head())\n",
    "users.info()"
   ]
  },
  {
   "cell_type": "code",
   "execution_count": 4,
   "id": "e99fc312-4e8d-4cc4-ad4a-281dfce52b2a",
   "metadata": {},
   "outputs": [
    {
     "data": {
      "text/html": [
       "<div>\n",
       "<style scoped>\n",
       "    .dataframe tbody tr th:only-of-type {\n",
       "        vertical-align: middle;\n",
       "    }\n",
       "\n",
       "    .dataframe tbody tr th {\n",
       "        vertical-align: top;\n",
       "    }\n",
       "\n",
       "    .dataframe thead th {\n",
       "        text-align: right;\n",
       "    }\n",
       "</style>\n",
       "<table border=\"1\" class=\"dataframe\">\n",
       "  <thead>\n",
       "    <tr style=\"text-align: right;\">\n",
       "      <th></th>\n",
       "      <th>user_id</th>\n",
       "      <th>distance</th>\n",
       "      <th>duration</th>\n",
       "      <th>date</th>\n",
       "    </tr>\n",
       "  </thead>\n",
       "  <tbody>\n",
       "    <tr>\n",
       "      <th>0</th>\n",
       "      <td>1</td>\n",
       "      <td>4409.919140</td>\n",
       "      <td>25.599769</td>\n",
       "      <td>2021-01-01</td>\n",
       "    </tr>\n",
       "    <tr>\n",
       "      <th>1</th>\n",
       "      <td>1</td>\n",
       "      <td>2617.592153</td>\n",
       "      <td>15.816871</td>\n",
       "      <td>2021-01-18</td>\n",
       "    </tr>\n",
       "    <tr>\n",
       "      <th>2</th>\n",
       "      <td>1</td>\n",
       "      <td>754.159807</td>\n",
       "      <td>6.232113</td>\n",
       "      <td>2021-04-20</td>\n",
       "    </tr>\n",
       "    <tr>\n",
       "      <th>3</th>\n",
       "      <td>1</td>\n",
       "      <td>2694.783254</td>\n",
       "      <td>18.511000</td>\n",
       "      <td>2021-08-11</td>\n",
       "    </tr>\n",
       "    <tr>\n",
       "      <th>4</th>\n",
       "      <td>1</td>\n",
       "      <td>4028.687306</td>\n",
       "      <td>26.265803</td>\n",
       "      <td>2021-08-28</td>\n",
       "    </tr>\n",
       "  </tbody>\n",
       "</table>\n",
       "</div>"
      ],
      "text/plain": [
       "   user_id     distance   duration        date\n",
       "0        1  4409.919140  25.599769  2021-01-01\n",
       "1        1  2617.592153  15.816871  2021-01-18\n",
       "2        1   754.159807   6.232113  2021-04-20\n",
       "3        1  2694.783254  18.511000  2021-08-11\n",
       "4        1  4028.687306  26.265803  2021-08-28"
      ]
     },
     "metadata": {},
     "output_type": "display_data"
    },
    {
     "name": "stdout",
     "output_type": "stream",
     "text": [
      "<class 'pandas.core.frame.DataFrame'>\n",
      "RangeIndex: 18068 entries, 0 to 18067\n",
      "Data columns (total 4 columns):\n",
      " #   Column    Non-Null Count  Dtype  \n",
      "---  ------    --------------  -----  \n",
      " 0   user_id   18068 non-null  int64  \n",
      " 1   distance  18068 non-null  float64\n",
      " 2   duration  18068 non-null  float64\n",
      " 3   date      18068 non-null  object \n",
      "dtypes: float64(2), int64(1), object(1)\n",
      "memory usage: 564.8+ KB\n"
     ]
    }
   ],
   "source": [
    "display(rides.head())\n",
    "rides.info()"
   ]
  },
  {
   "cell_type": "code",
   "execution_count": 5,
   "id": "b049caa8-ed1b-4b3f-8c79-2d19c41a1963",
   "metadata": {},
   "outputs": [
    {
     "data": {
      "text/html": [
       "<div>\n",
       "<style scoped>\n",
       "    .dataframe tbody tr th:only-of-type {\n",
       "        vertical-align: middle;\n",
       "    }\n",
       "\n",
       "    .dataframe tbody tr th {\n",
       "        vertical-align: top;\n",
       "    }\n",
       "\n",
       "    .dataframe thead th {\n",
       "        text-align: right;\n",
       "    }\n",
       "</style>\n",
       "<table border=\"1\" class=\"dataframe\">\n",
       "  <thead>\n",
       "    <tr style=\"text-align: right;\">\n",
       "      <th></th>\n",
       "      <th>subscription_type</th>\n",
       "      <th>minute_price</th>\n",
       "      <th>start_ride_price</th>\n",
       "      <th>subscription_fee</th>\n",
       "    </tr>\n",
       "  </thead>\n",
       "  <tbody>\n",
       "    <tr>\n",
       "      <th>0</th>\n",
       "      <td>free</td>\n",
       "      <td>8</td>\n",
       "      <td>50</td>\n",
       "      <td>0</td>\n",
       "    </tr>\n",
       "    <tr>\n",
       "      <th>1</th>\n",
       "      <td>ultra</td>\n",
       "      <td>6</td>\n",
       "      <td>0</td>\n",
       "      <td>199</td>\n",
       "    </tr>\n",
       "  </tbody>\n",
       "</table>\n",
       "</div>"
      ],
      "text/plain": [
       "  subscription_type  minute_price  start_ride_price  subscription_fee\n",
       "0              free             8                50                 0\n",
       "1             ultra             6                 0               199"
      ]
     },
     "metadata": {},
     "output_type": "display_data"
    },
    {
     "name": "stdout",
     "output_type": "stream",
     "text": [
      "<class 'pandas.core.frame.DataFrame'>\n",
      "RangeIndex: 2 entries, 0 to 1\n",
      "Data columns (total 4 columns):\n",
      " #   Column             Non-Null Count  Dtype \n",
      "---  ------             --------------  ----- \n",
      " 0   subscription_type  2 non-null      object\n",
      " 1   minute_price       2 non-null      int64 \n",
      " 2   start_ride_price   2 non-null      int64 \n",
      " 3   subscription_fee   2 non-null      int64 \n",
      "dtypes: int64(3), object(1)\n",
      "memory usage: 192.0+ bytes\n"
     ]
    }
   ],
   "source": [
    "display(subscriptions.head())\n",
    "subscriptions.info()"
   ]
  },
  {
   "cell_type": "markdown",
   "id": "16262337-ec13-4036-91f2-f81f8f9af81d",
   "metadata": {},
   "source": [
    "__Выводы__  \n",
    "В данной части проекта были выгруженные исходные данные. В результате также было установлено отсутствие пустые строк в данных датафреймах"
   ]
  },
  {
   "cell_type": "markdown",
   "id": "06b69967-eb63-43a6-ac2b-e3e28d2d3d44",
   "metadata": {},
   "source": [
    "## Предобработка данных"
   ]
  },
  {
   "cell_type": "code",
   "execution_count": 6,
   "id": "87adf018-66ac-41e6-a638-1fd96839cc8d",
   "metadata": {},
   "outputs": [
    {
     "name": "stdout",
     "output_type": "stream",
     "text": [
      "<class 'pandas.core.frame.DataFrame'>\n",
      "RangeIndex: 18068 entries, 0 to 18067\n",
      "Data columns (total 4 columns):\n",
      " #   Column    Non-Null Count  Dtype         \n",
      "---  ------    --------------  -----         \n",
      " 0   user_id   18068 non-null  int64         \n",
      " 1   distance  18068 non-null  float64       \n",
      " 2   duration  18068 non-null  float64       \n",
      " 3   date      18068 non-null  datetime64[ns]\n",
      "dtypes: datetime64[ns](1), float64(2), int64(1)\n",
      "memory usage: 564.8 KB\n"
     ]
    }
   ],
   "source": [
    "# приводим стобец date к типу даты pandas\n",
    "rides['date'] = pd.to_datetime(rides['date'])\n",
    "rides.info()"
   ]
  },
  {
   "cell_type": "code",
   "execution_count": 7,
   "id": "f835a04d-ab6a-4368-a076-14656c9ab8f2",
   "metadata": {},
   "outputs": [
    {
     "data": {
      "text/html": [
       "<div>\n",
       "<style scoped>\n",
       "    .dataframe tbody tr th:only-of-type {\n",
       "        vertical-align: middle;\n",
       "    }\n",
       "\n",
       "    .dataframe tbody tr th {\n",
       "        vertical-align: top;\n",
       "    }\n",
       "\n",
       "    .dataframe thead th {\n",
       "        text-align: right;\n",
       "    }\n",
       "</style>\n",
       "<table border=\"1\" class=\"dataframe\">\n",
       "  <thead>\n",
       "    <tr style=\"text-align: right;\">\n",
       "      <th></th>\n",
       "      <th>user_id</th>\n",
       "      <th>distance</th>\n",
       "      <th>duration</th>\n",
       "      <th>date</th>\n",
       "      <th>month</th>\n",
       "    </tr>\n",
       "  </thead>\n",
       "  <tbody>\n",
       "    <tr>\n",
       "      <th>0</th>\n",
       "      <td>1</td>\n",
       "      <td>4409.919140</td>\n",
       "      <td>25.599769</td>\n",
       "      <td>2021-01-01</td>\n",
       "      <td>1</td>\n",
       "    </tr>\n",
       "    <tr>\n",
       "      <th>1</th>\n",
       "      <td>1</td>\n",
       "      <td>2617.592153</td>\n",
       "      <td>15.816871</td>\n",
       "      <td>2021-01-18</td>\n",
       "      <td>1</td>\n",
       "    </tr>\n",
       "    <tr>\n",
       "      <th>2</th>\n",
       "      <td>1</td>\n",
       "      <td>754.159807</td>\n",
       "      <td>6.232113</td>\n",
       "      <td>2021-04-20</td>\n",
       "      <td>4</td>\n",
       "    </tr>\n",
       "    <tr>\n",
       "      <th>3</th>\n",
       "      <td>1</td>\n",
       "      <td>2694.783254</td>\n",
       "      <td>18.511000</td>\n",
       "      <td>2021-08-11</td>\n",
       "      <td>8</td>\n",
       "    </tr>\n",
       "    <tr>\n",
       "      <th>4</th>\n",
       "      <td>1</td>\n",
       "      <td>4028.687306</td>\n",
       "      <td>26.265803</td>\n",
       "      <td>2021-08-28</td>\n",
       "      <td>8</td>\n",
       "    </tr>\n",
       "  </tbody>\n",
       "</table>\n",
       "</div>"
      ],
      "text/plain": [
       "   user_id     distance   duration       date  month\n",
       "0        1  4409.919140  25.599769 2021-01-01      1\n",
       "1        1  2617.592153  15.816871 2021-01-18      1\n",
       "2        1   754.159807   6.232113 2021-04-20      4\n",
       "3        1  2694.783254  18.511000 2021-08-11      8\n",
       "4        1  4028.687306  26.265803 2021-08-28      8"
      ]
     },
     "execution_count": 7,
     "metadata": {},
     "output_type": "execute_result"
    }
   ],
   "source": [
    "# создаем новый стобец с номером месяца\n",
    "rides['month'] = rides['date'].dt.month\n",
    "rides.head()"
   ]
  },
  {
   "cell_type": "code",
   "execution_count": 8,
   "id": "0ce789c4-4d94-448d-9aec-754013a75c1c",
   "metadata": {},
   "outputs": [
    {
     "name": "stdout",
     "output_type": "stream",
     "text": [
      "<class 'pandas.core.frame.DataFrame'>\n",
      "RangeIndex: 1565 entries, 0 to 1564\n",
      "Data columns (total 5 columns):\n",
      " #   Column             Non-Null Count  Dtype \n",
      "---  ------             --------------  ----- \n",
      " 0   user_id            1565 non-null   int64 \n",
      " 1   name               1565 non-null   object\n",
      " 2   age                1565 non-null   int64 \n",
      " 3   city               1565 non-null   object\n",
      " 4   subscription_type  1565 non-null   object\n",
      "dtypes: int64(2), object(3)\n",
      "memory usage: 61.3+ KB\n",
      "<class 'pandas.core.frame.DataFrame'>\n",
      "RangeIndex: 18068 entries, 0 to 18067\n",
      "Data columns (total 5 columns):\n",
      " #   Column    Non-Null Count  Dtype         \n",
      "---  ------    --------------  -----         \n",
      " 0   user_id   18068 non-null  int64         \n",
      " 1   distance  18068 non-null  float64       \n",
      " 2   duration  18068 non-null  float64       \n",
      " 3   date      18068 non-null  datetime64[ns]\n",
      " 4   month     18068 non-null  int64         \n",
      "dtypes: datetime64[ns](1), float64(2), int64(2)\n",
      "memory usage: 705.9 KB\n",
      "<class 'pandas.core.frame.DataFrame'>\n",
      "RangeIndex: 2 entries, 0 to 1\n",
      "Data columns (total 4 columns):\n",
      " #   Column             Non-Null Count  Dtype \n",
      "---  ------             --------------  ----- \n",
      " 0   subscription_type  2 non-null      object\n",
      " 1   minute_price       2 non-null      int64 \n",
      " 2   start_ride_price   2 non-null      int64 \n",
      " 3   subscription_fee   2 non-null      int64 \n",
      "dtypes: int64(3), object(1)\n",
      "memory usage: 192.0+ bytes\n"
     ]
    }
   ],
   "source": [
    "#  еще раз проверим пропущенные значения в датафреймах\n",
    "users.info()\n",
    "rides.info()\n",
    "subscriptions.info()"
   ]
  },
  {
   "cell_type": "markdown",
   "id": "d6f3f703-afef-44ce-a201-e09779e85e35",
   "metadata": {},
   "source": [
    "### Проверка на дубликаты"
   ]
  },
  {
   "cell_type": "code",
   "execution_count": 9,
   "id": "17d06a2e-8918-4ae6-b85d-fbf5ca605ab9",
   "metadata": {},
   "outputs": [
    {
     "name": "stdout",
     "output_type": "stream",
     "text": [
      "users = 31\n",
      "rides =  0\n",
      "subscriptions =  0\n"
     ]
    }
   ],
   "source": [
    "# проверим на явные дубликаты и удалим их при обнаружении\n",
    "print('users =', users.duplicated().sum())\n",
    "users = users.drop_duplicates()\n",
    "\n",
    "print('rides = ',rides.duplicated().sum())\n",
    "\n",
    "print('subscriptions = ',subscriptions.duplicated().sum())"
   ]
  },
  {
   "cell_type": "code",
   "execution_count": 10,
   "id": "78b9aadd-976b-48e4-b3ea-2de31184c6a0",
   "metadata": {},
   "outputs": [
    {
     "data": {
      "text/plain": [
       "array(['Тюмень', 'Омск', 'Москва', 'Ростов-на-Дону', 'Краснодар',\n",
       "       'Пятигорск', 'Екатеринбург', 'Сочи'], dtype=object)"
      ]
     },
     "execution_count": 10,
     "metadata": {},
     "output_type": "execute_result"
    }
   ],
   "source": [
    "# проверим неявные дубликаты\n",
    "users['city'].unique()"
   ]
  },
  {
   "cell_type": "code",
   "execution_count": 11,
   "id": "9d3db2ea-bbcc-44dc-9e23-83ee16a807fb",
   "metadata": {},
   "outputs": [
    {
     "data": {
      "text/plain": [
       "array(['Кира', 'Станислав', 'Алексей', 'Константин', 'Адель', 'Регина',\n",
       "       'Игорь', 'Юрий', 'Ян', 'Валерий', 'Агата', 'Марк', 'Ева',\n",
       "       'Антонина', 'Валерия', 'Амалия', 'Даниил', 'Аделина', 'Святогор',\n",
       "       'Борис', 'Вероника', 'Ростислав', 'Назар', 'Эдуард', 'Василий',\n",
       "       'Денис', 'Тамара', 'Николай', 'Эвелина', 'Федор', 'Руслан', 'Иван',\n",
       "       'Любовь', 'Ярослава', 'Майя', 'Ильдар', 'Данила', 'Нина',\n",
       "       'Стефания', 'Ясмина', 'Дмитрий', 'Александр', 'Одиссей', 'Арсений',\n",
       "       'Алла', 'Таисия', 'Максим', 'Юлиана', 'Павел', 'Карина', 'Алиса',\n",
       "       'Лидия', 'Рамиль', 'Родион', 'Ника', 'Оксана', 'Анастасия',\n",
       "       'Маргарита', 'Вера', 'Тимур', 'Никита', 'Лев', 'Влад', 'Артур',\n",
       "       'Анна', 'Ольга', 'Вячеслав', 'Ксения', 'Виталина', 'Владислав',\n",
       "       'Тамерлан', 'Амина', 'Вадим', 'Олеся', 'Зарина', 'Егор', 'Гордей',\n",
       "       'Лилия', 'Святослав', 'Роберт', 'Амир', 'Влада', 'Богдан',\n",
       "       'Полина', 'Марат', 'Елисей', 'Макар', 'Алина', 'Глеб', 'Андрей',\n",
       "       'Альбина', 'Людмила', 'Марсель', 'Милена', 'Диана', 'Дарина',\n",
       "       'Данил', 'Артемий', 'Лиана', 'Альберт', 'Герман', 'Жанна', 'Нелли',\n",
       "       'Евгения', 'Ариана', 'Самира', 'Захар', 'Эльвира', 'Екатерина',\n",
       "       'Инна', 'Демид', 'Яна', 'Михаил', 'Татьяна', 'Степан', 'Мелания',\n",
       "       'Тимофей', 'Ирина', 'Анжелика', 'Владислава', 'Елизавета',\n",
       "       'Мадина', 'Снежана', 'Даниэль', 'Рустам', 'Каролина', 'Ангелина',\n",
       "       'Владимир', 'Виктория', 'Валентина', 'Семен', 'Арина', 'Лариса',\n",
       "       'Есения', 'Галина', 'Кирилл', 'Игнат', 'Виталий', 'Эмилия',\n",
       "       'Виолетта', 'Яромир', 'Софья', 'Мирослава', 'Евгений', 'Варвара',\n",
       "       'Платон', 'Наталия', 'Анатолий', 'Кристина', 'Всеволод', 'Дарья',\n",
       "       'Наташа', 'Мария', 'Марина', 'Василиса', 'Юлия', 'Илья', 'Злата',\n",
       "       'Роман', 'Наталья', 'Элина', 'Арсен', 'Айдар', 'Алия', 'Виктор',\n",
       "       'Мирон', 'Ульяна', 'Георгий', 'Петр', 'Эльмира', 'Олег', 'Дамир',\n",
       "       'Самир', 'Ярослав', 'Камилла', 'Сергей', 'Эмиль', 'Радмир',\n",
       "       'Савелий', 'Елена', 'Антон', 'Мирослав', 'София', 'Тихон', 'Артём',\n",
       "       'Давид', 'Григорий', 'Алёна', 'Светлана', 'Леонид', 'Александра',\n",
       "       'Василина', 'Милана', 'Матвей'], dtype=object)"
      ]
     },
     "execution_count": 11,
     "metadata": {},
     "output_type": "execute_result"
    }
   ],
   "source": [
    "users['name'].unique()"
   ]
  },
  {
   "cell_type": "code",
   "execution_count": 12,
   "id": "c30093af-2227-413f-8102-6950c72cbd19",
   "metadata": {},
   "outputs": [
    {
     "name": "stdout",
     "output_type": "stream",
     "text": [
      "194\n"
     ]
    },
    {
     "data": {
      "text/plain": [
       "194"
      ]
     },
     "execution_count": 12,
     "metadata": {},
     "output_type": "execute_result"
    }
   ],
   "source": [
    "print(len(users['name'].unique()))\n",
    "users['name'] = users['name'].replace('ё','е')\n",
    "len(users['name'].unique())"
   ]
  },
  {
   "cell_type": "markdown",
   "id": "806f931d-1cf1-454d-8b82-9d38211915ad",
   "metadata": {},
   "source": [
    "__Выводы__  \n",
    "В данной части проекта были решены следующие задачи:\n",
    "* добавлен новый столбец с номером месяца month\n",
    "* данные были проверены на пропуски и дубликаты, в результате чего из users было удалено 31 явный дубликат"
   ]
  },
  {
   "cell_type": "markdown",
   "id": "ebdd0800-5afc-49cb-b549-d450c3afbbe2",
   "metadata": {},
   "source": [
    "## Исследовательский анализ данных"
   ]
  },
  {
   "cell_type": "code",
   "execution_count": 13,
   "id": "f73d1919-4c40-48c1-9f11-d5ae379e2ebe",
   "metadata": {},
   "outputs": [],
   "source": [
    "def count_plot(x,data,order,title='Название',ylabel='Y',xlabel='X'):\n",
    "    plt.figure(figsize=(15,5))\n",
    "    sns.countplot(x=x, data=data, palette=['#F0E68C','#bdb76b'],order = order)\n",
    "    plt.title(title,fontsize=18);\n",
    "    plt.ylabel(ylabel,fontsize=14)\n",
    "    plt.xlabel(xlabel,fontsize=14)\n",
    "    plt.show()\n",
    "    display(data[x].describe())\n",
    "\n",
    "def graf_ik_pie(c,data=users,tr=False,h=5,w=15):\n",
    "    \n",
    "    data_p = [len(data[data['chain']==0]),len(data[data['chain'] == 1])]\n",
    "    labels = ['Не в сети','Сетевое']\n",
    "    plt.figure(figsize=(w,h))\n",
    "\n",
    "    plt.pie(x=data_p,labels=labels, autopct='%1.1f%%',colors=['khaki','darkkhaki'])\n",
    "\n",
    "    plt.title(c,fontsize=18)\n",
    "\n",
    "    plt.show()\n",
    "\n",
    "def histplot(x,bins=50,title='Название',ylabel='Y',xlabel='X'):\n",
    "    f, (ax_box, ax_hist) = plt.subplots(2, sharex=True, gridspec_kw={\"height_ratios\": (.15, .85)},figsize=(15,5))\n",
    "\n",
    "    sns.boxplot(x=x, ax=ax_box,color='khaki')\n",
    "    sns.histplot(x=x,bins=bins,color='darkkhaki',kde=True,ax=ax_hist)\n",
    "\n",
    "    ax_box.set_xlabel('')\n",
    "    \n",
    "    plt.suptitle(title,fontsize=18);\n",
    "    plt.ylabel(ylabel,fontsize=14)\n",
    "    plt.xlabel(xlabel,fontsize=14)\n",
    "    plt.show()\n",
    "    display(x.describe())"
   ]
  },
  {
   "cell_type": "markdown",
   "id": "f4977ace-c651-4000-83fd-b9ffa1c7e109",
   "metadata": {},
   "source": [
    "### Частота встречаемости городов"
   ]
  },
  {
   "cell_type": "code",
   "execution_count": 14,
   "id": "211aff58-ec15-4167-8a60-619acd3cd243",
   "metadata": {},
   "outputs": [],
   "source": [
    "users_city_top = users['city'].value_counts().sort_values(ascending=False)"
   ]
  },
  {
   "cell_type": "code",
   "execution_count": 15,
   "id": "29b9e8d3-eb39-411a-8cfa-ed87fc4be63b",
   "metadata": {},
   "outputs": [
    {
     "data": {
      "image/png": "[encoded data removed]",
      "text/plain": [
       "<Figure size 1080x360 with 1 Axes>"
      ]
     },
     "metadata": {
      "needs_background": "light"
     },
     "output_type": "display_data"
    },
    {
     "data": {
      "text/plain": [
       "count          1534\n",
       "unique            8\n",
       "top       Пятигорск\n",
       "freq            219\n",
       "Name: city, dtype: object"
      ]
     },
     "metadata": {},
     "output_type": "display_data"
    }
   ],
   "source": [
    "count_plot(x='city',data=users,order=users['city'].value_counts().index,\n",
    "           title='Частота встречаемости городов', ylabel='Количество поездок',\n",
    "           xlabel='Города')"
   ]
  },
  {
   "cell_type": "markdown",
   "id": "e83f3210",
   "metadata": {},
   "source": [
    "В топ 3 городов по количеству поездок входят Пятигорск, Екатеринбург и Ростов-на-Дону"
   ]
  },
  {
   "cell_type": "markdown",
   "id": "33c9e33c-3a44-4556-9b76-8addd06b9600",
   "metadata": {},
   "source": [
    "### Соотношение пользователей с подпиской и без подписки"
   ]
  },
  {
   "cell_type": "code",
   "execution_count": 16,
   "id": "75a3b31c-d10b-45ab-a4b4-473e4ae8f57a",
   "metadata": {},
   "outputs": [
    {
     "data": {
      "image/png": "[encoded data removed]",
      "text/plain": [
       "<Figure size 1080x360 with 1 Axes>"
      ]
     },
     "metadata": {},
     "output_type": "display_data"
    }
   ],
   "source": [
    "data_p = [len(users[users['subscription_type']=='ultra']),len(users[users['subscription_type'] != 'ultra'])]\n",
    "labels = ['Подписка','Без подписки']\n",
    "plt.figure(figsize=(15,5))\n",
    "\n",
    "plt.pie(x=data_p,labels=labels, autopct='%1.1f%%',colors=['khaki','darkkhaki'])\n",
    "\n",
    "plt.title('Соотношение пользователей с подпиской и без подписки',fontsize=18)\n",
    "\n",
    "plt.show()"
   ]
  },
  {
   "cell_type": "markdown",
   "id": "9db0704b",
   "metadata": {},
   "source": [
    "В целом, количество пользователей с подпиской и без примерно одинаковое (с небольшим перевесом в пользу отсутствия подписки)"
   ]
  },
  {
   "cell_type": "markdown",
   "id": "45769d65-64d2-4e0c-a153-9c53090df128",
   "metadata": {},
   "source": [
    "### Возраст пользователей"
   ]
  },
  {
   "cell_type": "code",
   "execution_count": 17,
   "id": "73789909-8063-4197-9f1d-2b057283e1f3",
   "metadata": {},
   "outputs": [
    {
     "data": {
      "image/png": "[encoded data removed]",
      "text/plain": [
       "<Figure size 1080x360 with 1 Axes>"
      ]
     },
     "metadata": {
      "needs_background": "light"
     },
     "output_type": "display_data"
    },
    {
     "data": {
      "text/plain": [
       "count    1534.000000\n",
       "mean       24.903520\n",
       "std         4.572367\n",
       "min        12.000000\n",
       "25%        22.000000\n",
       "50%        25.000000\n",
       "75%        28.000000\n",
       "max        43.000000\n",
       "Name: age, dtype: float64"
      ]
     },
     "metadata": {},
     "output_type": "display_data"
    }
   ],
   "source": [
    "count_plot(x='age',data=users,order=None,title='Распределение возраста пользователей', \n",
    "           ylabel='Количество поездок', xlabel='Возраст')"
   ]
  },
  {
   "cell_type": "markdown",
   "id": "9ba1fefa",
   "metadata": {},
   "source": [
    "Распределение возраста пользователей представляет собой классический колокол нормального распределения с центром в 25 лет. Аномалий в распределении не обнаружено"
   ]
  },
  {
   "cell_type": "markdown",
   "id": "07a4efb3-6c7c-450b-a809-99886e795e8a",
   "metadata": {},
   "source": [
    "### Расстояние, которое пользователь преодолел за одну поездку"
   ]
  },
  {
   "cell_type": "code",
   "execution_count": 18,
   "id": "d9696701-4d31-4a80-b02a-ab1d92798936",
   "metadata": {},
   "outputs": [],
   "source": [
    "# обработаем стобец с растоянием поездок, округляя значения до десятков\n",
    "rides['distance'] = rides['distance'].apply(lambda x: round(x/10,0) * 10)"
   ]
  },
  {
   "cell_type": "code",
   "execution_count": 19,
   "id": "b406ff42-dca8-4802-a97e-19ca51472589",
   "metadata": {},
   "outputs": [],
   "source": [
    "rides['distance'] = rides['distance'].replace([np.inf, -np.inf], np.nan)"
   ]
  },
  {
   "cell_type": "code",
   "execution_count": 20,
   "id": "a93f5321-a3d2-4ca0-9181-9c104649c376",
   "metadata": {},
   "outputs": [
    {
     "data": {
      "image/png": "[encoded data removed]",
      "text/plain": [
       "<Figure size 1080x360 with 2 Axes>"
      ]
     },
     "metadata": {
      "needs_background": "light"
     },
     "output_type": "display_data"
    },
    {
     "data": {
      "text/plain": [
       "count    18068.000000\n",
       "mean      3070.648661\n",
       "std       1116.847321\n",
       "min          0.000000\n",
       "25%       2540.000000\n",
       "50%       3130.000000\n",
       "75%       3780.000000\n",
       "max       7210.000000\n",
       "Name: distance, dtype: float64"
      ]
     },
     "metadata": {},
     "output_type": "display_data"
    }
   ],
   "source": [
    "histplot(x=rides['distance'],title='Расстояние, которое пользователь преодолел за одну поездку',\n",
    "         ylabel='Количество поездок',xlabel='Расстояние')"
   ]
  },
  {
   "cell_type": "markdown",
   "id": "cb581a8f",
   "metadata": {},
   "source": [
    "Распределение расстояния за одну поездку представляет собой нормальное распределение с центром в отметке 3130 метров. Также есть нобольшой колокол в районе 550-600 метров (возможно, поездки до станций метро или автобусних остановок до дома/работы). Есть небольшое количество выбивающихся значений свыше 6000 метров"
   ]
  },
  {
   "cell_type": "markdown",
   "id": "639a9d98-89d0-4cfc-8a3e-12bc48f98323",
   "metadata": {},
   "source": [
    "### Продолжительность поездок"
   ]
  },
  {
   "cell_type": "code",
   "execution_count": 21,
   "id": "578d7fa0-4f52-4e76-8b35-223acb8494a3",
   "metadata": {},
   "outputs": [],
   "source": [
    "# Округлим продожитенльность поездок до целых\n",
    "rides['duration'] = round(rides['duration'],0)"
   ]
  },
  {
   "cell_type": "code",
   "execution_count": 22,
   "id": "242e215a-8fcc-424c-b1a1-fd94be10208f",
   "metadata": {},
   "outputs": [
    {
     "data": {
      "image/png": "[encoded data removed]",
      "text/plain": [
       "<Figure size 1080x360 with 2 Axes>"
      ]
     },
     "metadata": {
      "needs_background": "light"
     },
     "output_type": "display_data"
    },
    {
     "data": {
      "text/plain": [
       "count    18068.000000\n",
       "mean        17.803852\n",
       "std          6.104153\n",
       "min          0.000000\n",
       "25%         14.000000\n",
       "50%         18.000000\n",
       "75%         22.000000\n",
       "max         41.000000\n",
       "Name: duration, dtype: float64"
      ]
     },
     "metadata": {},
     "output_type": "display_data"
    }
   ],
   "source": [
    "histplot(x=rides['duration'],bins=40,title='Распределение продолжительности поездок',\n",
    "         ylabel='Количество поездок',xlabel='Продолжительность поездки')"
   ]
  },
  {
   "cell_type": "markdown",
   "id": "c8a24e67",
   "metadata": {},
   "source": [
    "Распределение продолжительности поездки - нормальное распределение с центром в 18 минутах"
   ]
  },
  {
   "cell_type": "markdown",
   "id": "7cd5e70c-696d-40ca-864b-ba41eb62c814",
   "metadata": {},
   "source": [
    "__Выводы__\n",
    "В данной части проекта были решены следующие задачи:\n",
    "* Самым популярным по количеству поездок городом является Пятигорск\n",
    "* Пользователи без подписки являются большинством (54%)\n",
    "* Средним воздрастом пользователя является 25 лет\n",
    "* Среднее расстояние поездки 3130 метров\n",
    "* Средняя продолжительность поездки 18 минут"
   ]
  },
  {
   "cell_type": "markdown",
   "id": "514d01bd-bc20-47f5-a37d-7800c689de19",
   "metadata": {},
   "source": [
    "## Объединение данных"
   ]
  },
  {
   "cell_type": "code",
   "execution_count": 23,
   "id": "d84fae9e",
   "metadata": {},
   "outputs": [
    {
     "name": "stdout",
     "output_type": "stream",
     "text": [
      "rides:  18068\n",
      "users:  1534\n",
      "subscriptions:  2\n"
     ]
    }
   ],
   "source": [
    "# выведем размеры объединяемых датафреймов\n",
    "print('rides: ', len(rides))\n",
    "print('users: ', len(users))\n",
    "print('subscriptions: ', len(subscriptions))"
   ]
  },
  {
   "cell_type": "code",
   "execution_count": 24,
   "id": "2cf6008d-b445-445b-aefa-228944fbc952",
   "metadata": {},
   "outputs": [
    {
     "name": "stdout",
     "output_type": "stream",
     "text": [
      "размеры объединенного и исходного датафрейма совпадают и равны  18068\n"
     ]
    },
    {
     "data": {
      "text/html": [
       "<div>\n",
       "<style scoped>\n",
       "    .dataframe tbody tr th:only-of-type {\n",
       "        vertical-align: middle;\n",
       "    }\n",
       "\n",
       "    .dataframe tbody tr th {\n",
       "        vertical-align: top;\n",
       "    }\n",
       "\n",
       "    .dataframe thead th {\n",
       "        text-align: right;\n",
       "    }\n",
       "</style>\n",
       "<table border=\"1\" class=\"dataframe\">\n",
       "  <thead>\n",
       "    <tr style=\"text-align: right;\">\n",
       "      <th></th>\n",
       "      <th>user_id</th>\n",
       "      <th>distance</th>\n",
       "      <th>duration</th>\n",
       "      <th>date</th>\n",
       "      <th>month</th>\n",
       "      <th>name</th>\n",
       "      <th>age</th>\n",
       "      <th>city</th>\n",
       "      <th>subscription_type</th>\n",
       "      <th>minute_price</th>\n",
       "      <th>start_ride_price</th>\n",
       "      <th>subscription_fee</th>\n",
       "    </tr>\n",
       "  </thead>\n",
       "  <tbody>\n",
       "    <tr>\n",
       "      <th>0</th>\n",
       "      <td>1</td>\n",
       "      <td>4410.0</td>\n",
       "      <td>26.0</td>\n",
       "      <td>2021-01-01</td>\n",
       "      <td>1</td>\n",
       "      <td>Кира</td>\n",
       "      <td>22</td>\n",
       "      <td>Тюмень</td>\n",
       "      <td>ultra</td>\n",
       "      <td>6</td>\n",
       "      <td>0</td>\n",
       "      <td>199</td>\n",
       "    </tr>\n",
       "    <tr>\n",
       "      <th>1</th>\n",
       "      <td>1</td>\n",
       "      <td>2620.0</td>\n",
       "      <td>16.0</td>\n",
       "      <td>2021-01-18</td>\n",
       "      <td>1</td>\n",
       "      <td>Кира</td>\n",
       "      <td>22</td>\n",
       "      <td>Тюмень</td>\n",
       "      <td>ultra</td>\n",
       "      <td>6</td>\n",
       "      <td>0</td>\n",
       "      <td>199</td>\n",
       "    </tr>\n",
       "    <tr>\n",
       "      <th>2</th>\n",
       "      <td>1</td>\n",
       "      <td>750.0</td>\n",
       "      <td>6.0</td>\n",
       "      <td>2021-04-20</td>\n",
       "      <td>4</td>\n",
       "      <td>Кира</td>\n",
       "      <td>22</td>\n",
       "      <td>Тюмень</td>\n",
       "      <td>ultra</td>\n",
       "      <td>6</td>\n",
       "      <td>0</td>\n",
       "      <td>199</td>\n",
       "    </tr>\n",
       "    <tr>\n",
       "      <th>3</th>\n",
       "      <td>1</td>\n",
       "      <td>2690.0</td>\n",
       "      <td>19.0</td>\n",
       "      <td>2021-08-11</td>\n",
       "      <td>8</td>\n",
       "      <td>Кира</td>\n",
       "      <td>22</td>\n",
       "      <td>Тюмень</td>\n",
       "      <td>ultra</td>\n",
       "      <td>6</td>\n",
       "      <td>0</td>\n",
       "      <td>199</td>\n",
       "    </tr>\n",
       "    <tr>\n",
       "      <th>4</th>\n",
       "      <td>1</td>\n",
       "      <td>4030.0</td>\n",
       "      <td>26.0</td>\n",
       "      <td>2021-08-28</td>\n",
       "      <td>8</td>\n",
       "      <td>Кира</td>\n",
       "      <td>22</td>\n",
       "      <td>Тюмень</td>\n",
       "      <td>ultra</td>\n",
       "      <td>6</td>\n",
       "      <td>0</td>\n",
       "      <td>199</td>\n",
       "    </tr>\n",
       "  </tbody>\n",
       "</table>\n",
       "</div>"
      ],
      "text/plain": [
       "   user_id  distance  duration       date  month  name  age    city  \\\n",
       "0        1    4410.0      26.0 2021-01-01      1  Кира   22  Тюмень   \n",
       "1        1    2620.0      16.0 2021-01-18      1  Кира   22  Тюмень   \n",
       "2        1     750.0       6.0 2021-04-20      4  Кира   22  Тюмень   \n",
       "3        1    2690.0      19.0 2021-08-11      8  Кира   22  Тюмень   \n",
       "4        1    4030.0      26.0 2021-08-28      8  Кира   22  Тюмень   \n",
       "\n",
       "  subscription_type  minute_price  start_ride_price  subscription_fee  \n",
       "0             ultra             6                 0               199  \n",
       "1             ultra             6                 0               199  \n",
       "2             ultra             6                 0               199  \n",
       "3             ultra             6                 0               199  \n",
       "4             ultra             6                 0               199  "
      ]
     },
     "execution_count": 24,
     "metadata": {},
     "output_type": "execute_result"
    }
   ],
   "source": [
    "# Объединим все датафреймы\n",
    "rides = rides.merge(users, on='user_id')\n",
    "data = rides.merge(subscriptions, on='subscription_type')\n",
    "# Проверим\n",
    "# выведем \n",
    "if len(data) == len(rides):\n",
    "    print('размеры объединенного и исходного датафрейма совпадают и равны ', len(data))\n",
    "else:\n",
    "    print('ошибка при объединении')\n",
    "data.head()"
   ]
  },
  {
   "cell_type": "code",
   "execution_count": 25,
   "id": "4bd88e9c-0434-4736-8e8e-bbd9d7595117",
   "metadata": {},
   "outputs": [
    {
     "data": {
      "text/html": [
       "<div>\n",
       "<style scoped>\n",
       "    .dataframe tbody tr th:only-of-type {\n",
       "        vertical-align: middle;\n",
       "    }\n",
       "\n",
       "    .dataframe tbody tr th {\n",
       "        vertical-align: top;\n",
       "    }\n",
       "\n",
       "    .dataframe thead th {\n",
       "        text-align: right;\n",
       "    }\n",
       "</style>\n",
       "<table border=\"1\" class=\"dataframe\">\n",
       "  <thead>\n",
       "    <tr style=\"text-align: right;\">\n",
       "      <th></th>\n",
       "      <th>user_id</th>\n",
       "      <th>distance</th>\n",
       "      <th>duration</th>\n",
       "      <th>date</th>\n",
       "      <th>month</th>\n",
       "      <th>name</th>\n",
       "      <th>age</th>\n",
       "      <th>city</th>\n",
       "      <th>subscription_type</th>\n",
       "      <th>minute_price</th>\n",
       "      <th>start_ride_price</th>\n",
       "      <th>subscription_fee</th>\n",
       "    </tr>\n",
       "  </thead>\n",
       "  <tbody>\n",
       "    <tr>\n",
       "      <th>0</th>\n",
       "      <td>1</td>\n",
       "      <td>4410.0</td>\n",
       "      <td>26.0</td>\n",
       "      <td>2021-01-01</td>\n",
       "      <td>1</td>\n",
       "      <td>Кира</td>\n",
       "      <td>22</td>\n",
       "      <td>Тюмень</td>\n",
       "      <td>ultra</td>\n",
       "      <td>6</td>\n",
       "      <td>0</td>\n",
       "      <td>199</td>\n",
       "    </tr>\n",
       "    <tr>\n",
       "      <th>1</th>\n",
       "      <td>1</td>\n",
       "      <td>2620.0</td>\n",
       "      <td>16.0</td>\n",
       "      <td>2021-01-18</td>\n",
       "      <td>1</td>\n",
       "      <td>Кира</td>\n",
       "      <td>22</td>\n",
       "      <td>Тюмень</td>\n",
       "      <td>ultra</td>\n",
       "      <td>6</td>\n",
       "      <td>0</td>\n",
       "      <td>199</td>\n",
       "    </tr>\n",
       "    <tr>\n",
       "      <th>2</th>\n",
       "      <td>1</td>\n",
       "      <td>750.0</td>\n",
       "      <td>6.0</td>\n",
       "      <td>2021-04-20</td>\n",
       "      <td>4</td>\n",
       "      <td>Кира</td>\n",
       "      <td>22</td>\n",
       "      <td>Тюмень</td>\n",
       "      <td>ultra</td>\n",
       "      <td>6</td>\n",
       "      <td>0</td>\n",
       "      <td>199</td>\n",
       "    </tr>\n",
       "    <tr>\n",
       "      <th>3</th>\n",
       "      <td>1</td>\n",
       "      <td>2690.0</td>\n",
       "      <td>19.0</td>\n",
       "      <td>2021-08-11</td>\n",
       "      <td>8</td>\n",
       "      <td>Кира</td>\n",
       "      <td>22</td>\n",
       "      <td>Тюмень</td>\n",
       "      <td>ultra</td>\n",
       "      <td>6</td>\n",
       "      <td>0</td>\n",
       "      <td>199</td>\n",
       "    </tr>\n",
       "    <tr>\n",
       "      <th>4</th>\n",
       "      <td>1</td>\n",
       "      <td>4030.0</td>\n",
       "      <td>26.0</td>\n",
       "      <td>2021-08-28</td>\n",
       "      <td>8</td>\n",
       "      <td>Кира</td>\n",
       "      <td>22</td>\n",
       "      <td>Тюмень</td>\n",
       "      <td>ultra</td>\n",
       "      <td>6</td>\n",
       "      <td>0</td>\n",
       "      <td>199</td>\n",
       "    </tr>\n",
       "  </tbody>\n",
       "</table>\n",
       "</div>"
      ],
      "text/plain": [
       "   user_id  distance  duration       date  month  name  age    city  \\\n",
       "0        1    4410.0      26.0 2021-01-01      1  Кира   22  Тюмень   \n",
       "1        1    2620.0      16.0 2021-01-18      1  Кира   22  Тюмень   \n",
       "2        1     750.0       6.0 2021-04-20      4  Кира   22  Тюмень   \n",
       "3        1    2690.0      19.0 2021-08-11      8  Кира   22  Тюмень   \n",
       "4        1    4030.0      26.0 2021-08-28      8  Кира   22  Тюмень   \n",
       "\n",
       "  subscription_type  minute_price  start_ride_price  subscription_fee  \n",
       "0             ultra             6                 0               199  \n",
       "1             ultra             6                 0               199  \n",
       "2             ultra             6                 0               199  \n",
       "3             ultra             6                 0               199  \n",
       "4             ultra             6                 0               199  "
      ]
     },
     "metadata": {},
     "output_type": "display_data"
    },
    {
     "data": {
      "text/html": [
       "<div>\n",
       "<style scoped>\n",
       "    .dataframe tbody tr th:only-of-type {\n",
       "        vertical-align: middle;\n",
       "    }\n",
       "\n",
       "    .dataframe tbody tr th {\n",
       "        vertical-align: top;\n",
       "    }\n",
       "\n",
       "    .dataframe thead th {\n",
       "        text-align: right;\n",
       "    }\n",
       "</style>\n",
       "<table border=\"1\" class=\"dataframe\">\n",
       "  <thead>\n",
       "    <tr style=\"text-align: right;\">\n",
       "      <th></th>\n",
       "      <th>user_id</th>\n",
       "      <th>distance</th>\n",
       "      <th>duration</th>\n",
       "      <th>date</th>\n",
       "      <th>month</th>\n",
       "      <th>name</th>\n",
       "      <th>age</th>\n",
       "      <th>city</th>\n",
       "      <th>subscription_type</th>\n",
       "      <th>minute_price</th>\n",
       "      <th>start_ride_price</th>\n",
       "      <th>subscription_fee</th>\n",
       "    </tr>\n",
       "  </thead>\n",
       "  <tbody>\n",
       "    <tr>\n",
       "      <th>6500</th>\n",
       "      <td>700</td>\n",
       "      <td>2520.0</td>\n",
       "      <td>15.0</td>\n",
       "      <td>2021-01-02</td>\n",
       "      <td>1</td>\n",
       "      <td>Айдар</td>\n",
       "      <td>22</td>\n",
       "      <td>Омск</td>\n",
       "      <td>free</td>\n",
       "      <td>8</td>\n",
       "      <td>50</td>\n",
       "      <td>0</td>\n",
       "    </tr>\n",
       "    <tr>\n",
       "      <th>6501</th>\n",
       "      <td>700</td>\n",
       "      <td>850.0</td>\n",
       "      <td>16.0</td>\n",
       "      <td>2021-02-01</td>\n",
       "      <td>2</td>\n",
       "      <td>Айдар</td>\n",
       "      <td>22</td>\n",
       "      <td>Омск</td>\n",
       "      <td>free</td>\n",
       "      <td>8</td>\n",
       "      <td>50</td>\n",
       "      <td>0</td>\n",
       "    </tr>\n",
       "    <tr>\n",
       "      <th>6502</th>\n",
       "      <td>700</td>\n",
       "      <td>4000.0</td>\n",
       "      <td>20.0</td>\n",
       "      <td>2021-02-04</td>\n",
       "      <td>2</td>\n",
       "      <td>Айдар</td>\n",
       "      <td>22</td>\n",
       "      <td>Омск</td>\n",
       "      <td>free</td>\n",
       "      <td>8</td>\n",
       "      <td>50</td>\n",
       "      <td>0</td>\n",
       "    </tr>\n",
       "    <tr>\n",
       "      <th>6503</th>\n",
       "      <td>700</td>\n",
       "      <td>1210.0</td>\n",
       "      <td>10.0</td>\n",
       "      <td>2021-02-10</td>\n",
       "      <td>2</td>\n",
       "      <td>Айдар</td>\n",
       "      <td>22</td>\n",
       "      <td>Омск</td>\n",
       "      <td>free</td>\n",
       "      <td>8</td>\n",
       "      <td>50</td>\n",
       "      <td>0</td>\n",
       "    </tr>\n",
       "    <tr>\n",
       "      <th>6504</th>\n",
       "      <td>700</td>\n",
       "      <td>3050.0</td>\n",
       "      <td>17.0</td>\n",
       "      <td>2021-02-14</td>\n",
       "      <td>2</td>\n",
       "      <td>Айдар</td>\n",
       "      <td>22</td>\n",
       "      <td>Омск</td>\n",
       "      <td>free</td>\n",
       "      <td>8</td>\n",
       "      <td>50</td>\n",
       "      <td>0</td>\n",
       "    </tr>\n",
       "  </tbody>\n",
       "</table>\n",
       "</div>"
      ],
      "text/plain": [
       "      user_id  distance  duration       date  month   name  age  city  \\\n",
       "6500      700    2520.0      15.0 2021-01-02      1  Айдар   22  Омск   \n",
       "6501      700     850.0      16.0 2021-02-01      2  Айдар   22  Омск   \n",
       "6502      700    4000.0      20.0 2021-02-04      2  Айдар   22  Омск   \n",
       "6503      700    1210.0      10.0 2021-02-10      2  Айдар   22  Омск   \n",
       "6504      700    3050.0      17.0 2021-02-14      2  Айдар   22  Омск   \n",
       "\n",
       "     subscription_type  minute_price  start_ride_price  subscription_fee  \n",
       "6500              free             8                50                 0  \n",
       "6501              free             8                50                 0  \n",
       "6502              free             8                50                 0  \n",
       "6503              free             8                50                 0  \n",
       "6504              free             8                50                 0  "
      ]
     },
     "metadata": {},
     "output_type": "display_data"
    }
   ],
   "source": [
    "# Создаем 2 датафрейма с разными типами подписок\n",
    "data_ultra = data.query('subscription_type == \"ultra\"')\n",
    "data_free = data.query('subscription_type != \"ultra\"')\n",
    "\n",
    "display(data_ultra.head())\n",
    "display(data_free.head())"
   ]
  },
  {
   "cell_type": "code",
   "execution_count": 26,
   "id": "a03c4733-b3c3-4e19-b220-5ed8ab761b50",
   "metadata": {},
   "outputs": [
    {
     "data": {
      "image/png": "[encoded data removed]",
      "text/plain": [
       "<Figure size 1080x360 with 2 Axes>"
      ]
     },
     "metadata": {
      "needs_background": "light"
     },
     "output_type": "display_data"
    },
    {
     "data": {
      "text/plain": [
       "count    6500.000000\n",
       "mean     3115.418462\n",
       "std       836.901498\n",
       "min       240.000000\n",
       "25%      2790.000000\n",
       "50%      3150.000000\n",
       "75%      3560.000000\n",
       "max      5700.000000\n",
       "Name: distance, dtype: float64"
      ]
     },
     "metadata": {},
     "output_type": "display_data"
    },
    {
     "data": {
      "image/png": "[encoded data removed]",
      "text/plain": [
       "<Figure size 1080x360 with 2 Axes>"
      ]
     },
     "metadata": {
      "needs_background": "light"
     },
     "output_type": "display_data"
    },
    {
     "data": {
      "text/plain": [
       "count    6500.000000\n",
       "mean       18.549231\n",
       "std         5.575445\n",
       "min         4.000000\n",
       "25%        15.000000\n",
       "50%        18.000000\n",
       "75%        22.000000\n",
       "max        41.000000\n",
       "Name: duration, dtype: float64"
      ]
     },
     "metadata": {},
     "output_type": "display_data"
    }
   ],
   "source": [
    "# Визуализируем информацию о расстоянии и времени поездок для каждой группы\n",
    "# Пользователи с подпиской\n",
    "histplot(x=data_ultra['distance'],title='Расстояние, которое пользователь преодолел за одну поездку',\n",
    "         ylabel='Количество поездок',xlabel='Расстояние')\n",
    "\n",
    "histplot(x=data_ultra['duration'],bins=37,title='Распределение продолжительности поездок',\n",
    "         ylabel='Количество поездок',xlabel='Продолжительность поездки')"
   ]
  },
  {
   "cell_type": "markdown",
   "id": "8110395b",
   "metadata": {},
   "source": [
    "Расстояние для пользователей с подпиской распределено по схеме нормамального распределение с центром в отметке 3150 метров. При этом после расстояния в 4700 метров количество поездок резко сокращается\n",
    "\n",
    "Продолжительность поездки также распределена нормально с центром в 18 минут. После отметки в 32 поездок крайне мало"
   ]
  },
  {
   "cell_type": "code",
   "execution_count": 27,
   "id": "bdaa2e7d-0a4e-4dcd-ac90-2021dcea6cee",
   "metadata": {},
   "outputs": [
    {
     "data": {
      "image/png": "[encoded data removed]",
      "text/plain": [
       "<Figure size 1080x360 with 2 Axes>"
      ]
     },
     "metadata": {
      "needs_background": "light"
     },
     "output_type": "display_data"
    },
    {
     "data": {
      "text/plain": [
       "count    11568.000000\n",
       "mean      3045.492739\n",
       "std       1246.194525\n",
       "min          0.000000\n",
       "25%       2370.000000\n",
       "50%       3110.000000\n",
       "75%       3910.000000\n",
       "max       7210.000000\n",
       "Name: distance, dtype: float64"
      ]
     },
     "metadata": {},
     "output_type": "display_data"
    },
    {
     "data": {
      "image/png": "[encoded data removed]",
      "text/plain": [
       "<Figure size 1080x360 with 2 Axes>"
      ]
     },
     "metadata": {
      "needs_background": "light"
     },
     "output_type": "display_data"
    },
    {
     "data": {
      "text/plain": [
       "count    11568.000000\n",
       "mean        17.385028\n",
       "std          6.343957\n",
       "min          0.000000\n",
       "25%         13.000000\n",
       "50%         17.000000\n",
       "75%         22.000000\n",
       "max         35.000000\n",
       "Name: duration, dtype: float64"
      ]
     },
     "metadata": {},
     "output_type": "display_data"
    }
   ],
   "source": [
    "# Пользователи без подписки\n",
    "histplot(x=data_free['distance'],title='Расстояние, которое пользователь преодолел за одну поездку',\n",
    "         ylabel='Количество поездок',xlabel='Расстояние')\n",
    "\n",
    "histplot(x=data_free['duration'],bins=35,title='Распределение продолжительности поездок',\n",
    "         ylabel='Количество поездок',xlabel='Продолжительность поездки')"
   ]
  },
  {
   "cell_type": "markdown",
   "id": "a361e87c",
   "metadata": {},
   "source": [
    "Расстояние для пользователей без подпиской распределено по схеме нормамального распределение с центром в отметке 3110 метров. Второй колокол в районе до 1000 метров становится отчетливее. При этом после расстояния в 6000 метров количество поездок резко сокращается\n",
    "\n",
    "Продолжительность поездки также распределена нормально с центром в 17 минут. Аномалий не обнаружено"
   ]
  },
  {
   "cell_type": "markdown",
   "id": "3c12669b-3cbd-4685-90da-96e75948e336",
   "metadata": {},
   "source": [
    "__Выводы__  \n",
    "В данной части проекта были решены следующие задачи:\n",
    "* Все исходные датафремы были объеденены в один\n",
    "* На основе этого датафрейма было созданы датафреймы для пользователей с подпиской и без нее\n",
    "* были визуализированы распределения расстояний и времени поездки для каждой из групп пользователей"
   ]
  },
  {
   "cell_type": "markdown",
   "id": "323c82b8-7ab9-4d4a-9e82-dfae4c9f1cb0",
   "metadata": {},
   "source": [
    "## Подсчет выручки"
   ]
  },
  {
   "cell_type": "code",
   "execution_count": 28,
   "id": "c629b52d-6c7c-4865-836c-9ec0fe229c27",
   "metadata": {},
   "outputs": [
    {
     "name": "stderr",
     "output_type": "stream",
     "text": [
      "/tmp/ipykernel_86/2166490091.py:2: SettingWithCopyWarning: \n",
      "A value is trying to be set on a copy of a slice from a DataFrame.\n",
      "Try using .loc[row_indexer,col_indexer] = value instead\n",
      "\n",
      "See the caveats in the documentation: https://pandas.pydata.org/pandas-docs/stable/user_guide/indexing.html#returning-a-view-versus-a-copy\n",
      "  data_free['duration'] = data_free['duration'].apply(math.ceil)\n",
      "/tmp/ipykernel_86/2166490091.py:3: SettingWithCopyWarning: \n",
      "A value is trying to be set on a copy of a slice from a DataFrame.\n",
      "Try using .loc[row_indexer,col_indexer] = value instead\n",
      "\n",
      "See the caveats in the documentation: https://pandas.pydata.org/pandas-docs/stable/user_guide/indexing.html#returning-a-view-versus-a-copy\n",
      "  data_ultra['duration'] = data_ultra['duration'].apply(math.ceil)\n"
     ]
    }
   ],
   "source": [
    "# округлим время поездки в большую сторону\n",
    "data_free['duration'] = data_free['duration'].apply(math.ceil)\n",
    "data_ultra['duration'] = data_ultra['duration'].apply(math.ceil)\n",
    "\n",
    "# создадим 2 датафрейма с агрегированными данными о поездках для разных групп пользователей\n",
    "data_gr_free = data_free.groupby(['user_id','month']).agg({'duration':'sum','distance':'sum','age':'count'}).reset_index()\n",
    "data_gr_free = data_gr_free.rename(columns={'age':'count_of_rides'})\n",
    "\n",
    "data_gr_ultra = data_ultra.groupby(['user_id','month']).agg({'duration':'sum','distance':'sum','age':'count'}).reset_index()\n",
    "data_gr_ultra = data_gr_ultra.rename(columns={'age':'count_of_rides'})"
   ]
  },
  {
   "cell_type": "code",
   "execution_count": 29,
   "id": "cdfe4749",
   "metadata": {},
   "outputs": [
    {
     "name": "stdout",
     "output_type": "stream",
     "text": [
      "<class 'pandas.core.frame.DataFrame'>\n",
      "RangeIndex: 6798 entries, 0 to 6797\n",
      "Data columns (total 5 columns):\n",
      " #   Column          Non-Null Count  Dtype  \n",
      "---  ------          --------------  -----  \n",
      " 0   user_id         6798 non-null   int64  \n",
      " 1   month           6798 non-null   int64  \n",
      " 2   duration        6798 non-null   int64  \n",
      " 3   distance        6798 non-null   float64\n",
      " 4   count_of_rides  6798 non-null   int64  \n",
      "dtypes: float64(1), int64(4)\n",
      "memory usage: 265.7 KB\n"
     ]
    },
    {
     "data": {
      "text/plain": [
       "None"
      ]
     },
     "metadata": {},
     "output_type": "display_data"
    },
    {
     "name": "stdout",
     "output_type": "stream",
     "text": [
      "<class 'pandas.core.frame.DataFrame'>\n",
      "RangeIndex: 4533 entries, 0 to 4532\n",
      "Data columns (total 5 columns):\n",
      " #   Column          Non-Null Count  Dtype  \n",
      "---  ------          --------------  -----  \n",
      " 0   user_id         4533 non-null   int64  \n",
      " 1   month           4533 non-null   int64  \n",
      " 2   duration        4533 non-null   int64  \n",
      " 3   distance        4533 non-null   float64\n",
      " 4   count_of_rides  4533 non-null   int64  \n",
      "dtypes: float64(1), int64(4)\n",
      "memory usage: 177.2 KB\n"
     ]
    },
    {
     "data": {
      "text/plain": [
       "None"
      ]
     },
     "metadata": {},
     "output_type": "display_data"
    }
   ],
   "source": [
    "# Проверим получившиеся датафреймы на пропуски\n",
    "display(data_gr_free.info())\n",
    "display(data_gr_ultra.info())"
   ]
  },
  {
   "cell_type": "markdown",
   "id": "9fb2cc28",
   "metadata": {},
   "source": [
    "Пустых строк не обнаружено"
   ]
  },
  {
   "cell_type": "code",
   "execution_count": 30,
   "id": "994869cf-82a6-46f0-b564-e84b784fa1be",
   "metadata": {},
   "outputs": [
    {
     "name": "stdout",
     "output_type": "stream",
     "text": [
      "Пересечений не найдено\n"
     ]
    }
   ],
   "source": [
    "# добавим столбец с помесячной выручкой\n",
    "# проверим, изменяли ли пользователи статус подписки в течении сбора данных\n",
    "# для этого создадим списки уникальных пользователей и найдем их пересечение\n",
    "us_id_free = data_free['user_id'].unique()\n",
    "us_id_ultra = data_ultra['user_id'].unique()\n",
    "\n",
    "pr_list = list(set(us_id_free) & set(us_id_ultra))\n",
    "if len(pr_list) == 0:\n",
    "    print('Пересечений не найдено')\n",
    "else:\n",
    "    print('Пересечения есть(')"
   ]
  },
  {
   "cell_type": "code",
   "execution_count": 31,
   "id": "b604e411-a963-43db-a585-20cabc3c26b4",
   "metadata": {},
   "outputs": [],
   "source": [
    "# создадим функцию для подсчета ежемесячной выручки для каждого пользователя\n",
    "def rev(dt):\n",
    "    if dt['user_id'] in us_id_free: # проверим подписку пользователя\n",
    "        a = dt['count_of_rides'] * 50 # стоимость начала поездки\n",
    "        b = dt['duration'] * 8 # стоимость минуты\n",
    "        rev = math.ceil(a + b) # месячная выручка\n",
    "    else:\n",
    "        a = 0 # стоимость начала поездки\n",
    "        b = dt['duration'] * 6 # стоимость минуты\n",
    "        c = 199 # стоимость подписки\n",
    "        rev = math.ceil(a + b + c) # месячная выручка\n",
    "    return(rev)"
   ]
  },
  {
   "cell_type": "code",
   "execution_count": 32,
   "id": "df3d4e61-1064-43d0-9ba1-e7e522f17a0c",
   "metadata": {},
   "outputs": [
    {
     "data": {
      "text/html": [
       "<div>\n",
       "<style scoped>\n",
       "    .dataframe tbody tr th:only-of-type {\n",
       "        vertical-align: middle;\n",
       "    }\n",
       "\n",
       "    .dataframe tbody tr th {\n",
       "        vertical-align: top;\n",
       "    }\n",
       "\n",
       "    .dataframe thead th {\n",
       "        text-align: right;\n",
       "    }\n",
       "</style>\n",
       "<table border=\"1\" class=\"dataframe\">\n",
       "  <thead>\n",
       "    <tr style=\"text-align: right;\">\n",
       "      <th></th>\n",
       "      <th>user_id</th>\n",
       "      <th>month</th>\n",
       "      <th>duration</th>\n",
       "      <th>distance</th>\n",
       "      <th>count_of_rides</th>\n",
       "      <th>revenue</th>\n",
       "    </tr>\n",
       "  </thead>\n",
       "  <tbody>\n",
       "    <tr>\n",
       "      <th>0</th>\n",
       "      <td>700</td>\n",
       "      <td>1</td>\n",
       "      <td>15</td>\n",
       "      <td>2520.0</td>\n",
       "      <td>1</td>\n",
       "      <td>170</td>\n",
       "    </tr>\n",
       "    <tr>\n",
       "      <th>1</th>\n",
       "      <td>700</td>\n",
       "      <td>2</td>\n",
       "      <td>85</td>\n",
       "      <td>13450.0</td>\n",
       "      <td>5</td>\n",
       "      <td>930</td>\n",
       "    </tr>\n",
       "    <tr>\n",
       "      <th>2</th>\n",
       "      <td>700</td>\n",
       "      <td>3</td>\n",
       "      <td>18</td>\n",
       "      <td>3800.0</td>\n",
       "      <td>1</td>\n",
       "      <td>194</td>\n",
       "    </tr>\n",
       "    <tr>\n",
       "      <th>3</th>\n",
       "      <td>700</td>\n",
       "      <td>4</td>\n",
       "      <td>15</td>\n",
       "      <td>2980.0</td>\n",
       "      <td>1</td>\n",
       "      <td>170</td>\n",
       "    </tr>\n",
       "    <tr>\n",
       "      <th>4</th>\n",
       "      <td>700</td>\n",
       "      <td>6</td>\n",
       "      <td>28</td>\n",
       "      <td>5930.0</td>\n",
       "      <td>2</td>\n",
       "      <td>324</td>\n",
       "    </tr>\n",
       "  </tbody>\n",
       "</table>\n",
       "</div>"
      ],
      "text/plain": [
       "   user_id  month  duration  distance  count_of_rides  revenue\n",
       "0      700      1        15    2520.0               1      170\n",
       "1      700      2        85   13450.0               5      930\n",
       "2      700      3        18    3800.0               1      194\n",
       "3      700      4        15    2980.0               1      170\n",
       "4      700      6        28    5930.0               2      324"
      ]
     },
     "execution_count": 32,
     "metadata": {},
     "output_type": "execute_result"
    }
   ],
   "source": [
    "# создадим столбец с выручкой\n",
    "data_gr_free['revenue'] = data_gr_free.apply(rev,axis=1)\n",
    "data_gr_free.head()"
   ]
  },
  {
   "cell_type": "code",
   "execution_count": 33,
   "id": "35a04c24-6d76-4666-8493-3a49abad2250",
   "metadata": {},
   "outputs": [
    {
     "data": {
      "text/html": [
       "<div>\n",
       "<style scoped>\n",
       "    .dataframe tbody tr th:only-of-type {\n",
       "        vertical-align: middle;\n",
       "    }\n",
       "\n",
       "    .dataframe tbody tr th {\n",
       "        vertical-align: top;\n",
       "    }\n",
       "\n",
       "    .dataframe thead th {\n",
       "        text-align: right;\n",
       "    }\n",
       "</style>\n",
       "<table border=\"1\" class=\"dataframe\">\n",
       "  <thead>\n",
       "    <tr style=\"text-align: right;\">\n",
       "      <th></th>\n",
       "      <th>user_id</th>\n",
       "      <th>month</th>\n",
       "      <th>duration</th>\n",
       "      <th>distance</th>\n",
       "      <th>count_of_rides</th>\n",
       "      <th>revenue</th>\n",
       "    </tr>\n",
       "  </thead>\n",
       "  <tbody>\n",
       "    <tr>\n",
       "      <th>0</th>\n",
       "      <td>1</td>\n",
       "      <td>1</td>\n",
       "      <td>42</td>\n",
       "      <td>7030.0</td>\n",
       "      <td>2</td>\n",
       "      <td>451</td>\n",
       "    </tr>\n",
       "    <tr>\n",
       "      <th>1</th>\n",
       "      <td>1</td>\n",
       "      <td>4</td>\n",
       "      <td>6</td>\n",
       "      <td>750.0</td>\n",
       "      <td>1</td>\n",
       "      <td>235</td>\n",
       "    </tr>\n",
       "    <tr>\n",
       "      <th>2</th>\n",
       "      <td>1</td>\n",
       "      <td>8</td>\n",
       "      <td>45</td>\n",
       "      <td>6720.0</td>\n",
       "      <td>2</td>\n",
       "      <td>469</td>\n",
       "    </tr>\n",
       "    <tr>\n",
       "      <th>3</th>\n",
       "      <td>1</td>\n",
       "      <td>10</td>\n",
       "      <td>32</td>\n",
       "      <td>5810.0</td>\n",
       "      <td>2</td>\n",
       "      <td>391</td>\n",
       "    </tr>\n",
       "    <tr>\n",
       "      <th>4</th>\n",
       "      <td>1</td>\n",
       "      <td>11</td>\n",
       "      <td>53</td>\n",
       "      <td>7000.0</td>\n",
       "      <td>3</td>\n",
       "      <td>517</td>\n",
       "    </tr>\n",
       "  </tbody>\n",
       "</table>\n",
       "</div>"
      ],
      "text/plain": [
       "   user_id  month  duration  distance  count_of_rides  revenue\n",
       "0        1      1        42    7030.0               2      451\n",
       "1        1      4         6     750.0               1      235\n",
       "2        1      8        45    6720.0               2      469\n",
       "3        1     10        32    5810.0               2      391\n",
       "4        1     11        53    7000.0               3      517"
      ]
     },
     "execution_count": 33,
     "metadata": {},
     "output_type": "execute_result"
    }
   ],
   "source": [
    "data_gr_ultra['revenue'] = data_gr_ultra.apply(rev,axis=1)\n",
    "data_gr_ultra.head()"
   ]
  },
  {
   "cell_type": "markdown",
   "id": "ad33023c-4c37-4cd0-ab66-cea9d3131f4e",
   "metadata": {},
   "source": [
    "__Выводы__  \n",
    "В результате данной части проекта:\n",
    "* было создано 2 датафрейма с агрегированными данными о поездках(помесячно для каждого пользователя)\n",
    "* в каждый из них добавлен стобец с выручкой revenue"
   ]
  },
  {
   "cell_type": "markdown",
   "id": "66869283-d9eb-4583-9f8f-2da3ae3a9b8c",
   "metadata": {},
   "source": [
    "## Проверка гипотез"
   ]
  },
  {
   "cell_type": "markdown",
   "id": "b2e65a42-da58-4bf9-b962-68e393eb2083",
   "metadata": {},
   "source": [
    "### Первая гипотеза"
   ]
  },
  {
   "cell_type": "markdown",
   "id": "56217688-f14c-4232-9ad1-9891cce9594b",
   "metadata": {},
   "source": [
    "__Исходный запрос:__  \n",
    "Важно понять, тратят ли пользователи с подпиской больше времени на поездки? Если да, то пользователи с подпиской могут быть «выгоднее» для компании. Проверьте гипотезу. Используйте исходные данные о продолжительности каждой сессии — отдельно для подписчиков и тех, у кого нет подписки."
   ]
  },
  {
   "cell_type": "markdown",
   "id": "e8471713",
   "metadata": {},
   "source": [
    "Ho: пользователи с подпиской и без нее тратят одинаковое количество времени на поездки  \n",
    "H1: пользователи с подпиской тратят больше времени, чем без нее"
   ]
  },
  {
   "cell_type": "code",
   "execution_count": 34,
   "id": "75c807bf-c924-4470-a7bc-22c7a9572d6b",
   "metadata": {},
   "outputs": [
    {
     "name": "stdout",
     "output_type": "stream",
     "text": [
      "p-значение: 3.1600689435611813e-35\n",
      "Отвергаем нулевую гипотезу\n"
     ]
    }
   ],
   "source": [
    "# зададим уровень статистической значимости\n",
    "alpha = .01\n",
    "# Проверим гипотезу\n",
    "results = st.ttest_ind(data_ultra['duration'], data_free['duration'], alternative='greater')\n",
    "print('p-значение:', results.pvalue)\n",
    "\n",
    "if results.pvalue < alpha:\n",
    "    print('Отвергаем нулевую гипотезу')\n",
    "else:\n",
    "    print('Не получилось отвергнуть нулевую гипотезу') "
   ]
  },
  {
   "cell_type": "markdown",
   "id": "b20dca07-c4d6-470a-8aa7-5c6003adb3f9",
   "metadata": {},
   "source": [
    "Вероятность того, что пользователи с подпиской тратят больше времени в поездках, достаточно велика"
   ]
  },
  {
   "cell_type": "markdown",
   "id": "80814886-60fd-4357-8b3b-ac228d29aefb",
   "metadata": {},
   "source": [
    "### Вторая гипотеза"
   ]
  },
  {
   "cell_type": "markdown",
   "id": "c9423f23",
   "metadata": {},
   "source": [
    "__Исходный запрос:__  \n",
    "Расстояние одной поездки в 3130 метров — оптимальное с точки зрения износа самоката. Можно ли сказать, что среднее расстояние, которое проезжают пользователи с подпиской за одну поездку, не превышает 3130 метров? "
   ]
  },
  {
   "cell_type": "markdown",
   "id": "76934f59",
   "metadata": {},
   "source": [
    "Ho: среднее расстояние которое проезжают пользователи с подпиской = 3130  \n",
    "H1: среднее расстояние которое проезжают пользователи с подпиской больше 3130"
   ]
  },
  {
   "cell_type": "code",
   "execution_count": 35,
   "id": "c6ec4aa0-fea0-4963-9f73-5165a7d3c5c9",
   "metadata": {},
   "outputs": [
    {
     "name": "stdout",
     "output_type": "stream",
     "text": [
      "p-значение: 0.9199218607432156\n",
      "Не отвергаем нулевую гипотезу\n"
     ]
    }
   ],
   "source": [
    "# пороговое значение\n",
    "value_1 = 3130\n",
    "# зададим уровень статистической значимости\n",
    "alpha = .01\n",
    "# Проверим гипотезу\n",
    "results = st.ttest_1samp(\n",
    "    data_ultra['distance'], \n",
    "    value_1,\n",
    "      alternative='greater')\n",
    "\n",
    "print('p-значение:', results.pvalue)\n",
    "\n",
    "if (results.pvalue < alpha):\n",
    "    print('Отвергаем нулевую гипотезу')\n",
    "else:\n",
    "    print('Не отвергаем нулевую гипотезу')"
   ]
  },
  {
   "cell_type": "code",
   "execution_count": 36,
   "id": "a58ab51d",
   "metadata": {},
   "outputs": [
    {
     "name": "stdout",
     "output_type": "stream",
     "text": [
      "p-value 0.9199218607432156\n",
      "Опровергнуть нулевую гипотезу нельзя\n"
     ]
    }
   ],
   "source": [
    "null_hypothesis = 3130\n",
    "\n",
    "results = st.ttest_1samp(data_ultra['distance'], null_hypothesis, alternative='greater')\n",
    "\n",
    "print('p-value', results.pvalue)\n",
    "\n",
    "if results.pvalue < alpha:\n",
    "    print(\"Отвергаем нулевую\")\n",
    "else:\n",
    "    print(\"Опровергнуть нулевую гипотезу нельзя\")\n",
    "\n",
    "\n"
   ]
  },
  {
   "cell_type": "markdown",
   "id": "7a88634e-a1f9-4ddf-86dd-33924cd94ef2",
   "metadata": {},
   "source": [
    "Вероятность того что среднее расстояние, которое проезжают пользователи с подпиской за одну поездку, не превышает 3130 метров, достаточно велика"
   ]
  },
  {
   "cell_type": "markdown",
   "id": "c30c16bd-f91e-4020-8c75-6b7917a345ce",
   "metadata": {},
   "source": [
    "### Третья гипотеза"
   ]
  },
  {
   "cell_type": "markdown",
   "id": "7b3cba0c-11fb-4690-969f-bd5f76094a31",
   "metadata": {},
   "source": [
    "__Исходный запрос:__  \n",
    "Проверьте гипотезу о том, будет ли помесячная выручка от пользователей с подпиской по месяцам выше, чем выручка от пользователей без подписки."
   ]
  },
  {
   "cell_type": "markdown",
   "id": "ec3f27e9",
   "metadata": {},
   "source": [
    "Ho: помесячная выручка от пользователей с подпиской и без равны  \n",
    "H1: помесячная выручка от пользователей с подпиской больше чем без нее"
   ]
  },
  {
   "cell_type": "code",
   "execution_count": 37,
   "id": "2a84b60b-ee82-443d-be0a-b35ff77edfef",
   "metadata": {},
   "outputs": [
    {
     "name": "stdout",
     "output_type": "stream",
     "text": [
      "p-значение: 1.7274069878387966e-37\n",
      "Отвергаем нулевую гипотезу\n"
     ]
    }
   ],
   "source": [
    "# зададим уровень статистической значимости\n",
    "alpha = .01\n",
    "# Проверим гипотезу\n",
    "results = st.ttest_ind(data_gr_ultra['revenue'], data_gr_free['revenue'], alternative='greater')\n",
    "print('p-значение:', results.pvalue)\n",
    "\n",
    "if results.pvalue < alpha:\n",
    "    print('Отвергаем нулевую гипотезу')\n",
    "else:\n",
    "    print('Не получилось отвергнуть гипотезу') "
   ]
  },
  {
   "cell_type": "markdown",
   "id": "a562cc9a-7d42-4b31-94df-39ab874dc963",
   "metadata": {},
   "source": [
    "Вероятность того, что выручка от пользователей с подпиской больше, довольно высока"
   ]
  },
  {
   "cell_type": "markdown",
   "id": "3884dd39-44ee-44b1-bff9-334f99e9a1e8",
   "metadata": {},
   "source": [
    "### Четвертая гипотеза"
   ]
  },
  {
   "cell_type": "markdown",
   "id": "6781bc0c-15b4-453d-9a50-4b948d978491",
   "metadata": {},
   "source": [
    "Представьте такую ситуацию: техническая команда сервиса обновила сервера, с которыми взаимодействует мобильное приложение. Она надеется, что из-за этого количество обращений в техподдержку значимо снизилось. Некоторый файл содержит для каждого пользователя данные о количестве обращений до обновления и после него. Какой тест вам понадобился бы для проверки этой гипотезы?"
   ]
  },
  {
   "cell_type": "markdown",
   "id": "5b1e3782-8e26-4b46-8298-d63892e70ed7",
   "metadata": {},
   "source": [
    "Для проверки данной гипотезы целессобразным будет использование метода __scipy.stats.ttest_rel()__, так как выборки будут являться созависимыми"
   ]
  },
  {
   "cell_type": "markdown",
   "id": "611451a4-002f-4a07-ba82-2be275bc035d",
   "metadata": {},
   "source": [
    "__Выводы__  \n",
    "В данной части проекта было проверено несколько гипотез:\n",
    "* Вероятность того, что пользователи с подпиской тратят больше времени в поездках, достаточно велика\n",
    "* Вероятность того что среднее расстояние, которое проезжают пользователи с подпиской за одну поездку, не превышает 3130 метров, достаточно велика\n",
    "* Вероятность того, что выручка от пользователей с подпиской больше, довольно высока\n",
    "* Для проверки четвертой гипотезы небходимо использовать метод __scipy.stats.ttest_rel()__"
   ]
  },
  {
   "cell_type": "markdown",
   "id": "a1d9b79d-3664-4fbb-b6d6-6ff3f3e64b96",
   "metadata": {},
   "source": [
    "## Заключение"
   ]
  },
  {
   "cell_type": "markdown",
   "id": "6e1eb3d0-64d8-4bc3-aeb7-8dcdf578c0c6",
   "metadata": {},
   "source": [
    "Рассмотрим итоги проекта \"Статистический анализ данных\"\n",
    "\n",
    "В части __Предобработка данных__:\n",
    "* добавлен новый столбец с номером месяца month\n",
    "* данные были проверены на пропуски и дубликаты, в результате чего из users было удалено 31 явный дубликат\n",
    "\n",
    "В __Исследовательской__ части:\n",
    "* Самым популярным по количеству поездок городом является Пятигорск\n",
    "* Пользователи без подписки являются большинством (54%)\n",
    "* Средним воздрастом пользователя является 25 лет\n",
    "* Среднее расстояние поездки 3130 метров\n",
    "* Средняя продолжительность поездки 18 минут\n",
    "\n",
    "В части __Объединение данных__:\n",
    "* Все исходные датафремы были объеденены в один\n",
    "* На основе этого датафрейма было созданы датафреймы для пользователей с подпиской и без нее\n",
    "* были визуализированы распределения расстояний и времени поездки для каждой из групп пользователей\n",
    "\n",
    "В части __Подсчет выручки__:\n",
    "* было создано 2 датафрейма с агрегированными данными о поездках(помесячно для каждого пользователя)\n",
    "* в каждый из них добавлен стобец с выручкой revenue\n",
    "\n",
    "В части __Проверка гипотез__ было проверено несколько гипотез, в результате чего выяснилось что:\n",
    "* Вероятность того, что пользователи с подпиской тратят больше времени в поездках, достаточно велика\n",
    "* Вероятность того что среднее расстояние, которое проезжают пользователи с подпиской за одну поездку, не превышает 3130 метров, достаточно велика\n",
    "* Вероятность того, что выручка от пользователей с подпиской больше, довольно высока\n",
    "* Для проверки четвертой гипотезы небходимо использовать метод __scipy.stats.ttest_rel()__\n",
    "\n",
    "***\n",
    "__Выводы__  \n",
    "- Для увеличения прибыли необходимо повысить количество людей с подпиской(снижение стомости или система накопительных баллов).   \n",
    "- Также стоить обратить внимание на то, что пользователи, предпочитающие короткие поездки (до 1000), предпочтитают оставаться без подписки. Возможно стоит придумать вариант подписки для коротких поездок."
   ]
  }
 ],
 "metadata": {
  "ExecuteTimeLog": [
   {
    "duration": 1182,
    "start_time": "2024-09-03T17:04:38.753Z"
   },
   {
    "duration": 245,
    "start_time": "2024-09-03T17:04:39.938Z"
   },
   {
    "duration": 22,
    "start_time": "2024-09-03T17:04:40.185Z"
   },
   {
    "duration": 17,
    "start_time": "2024-09-03T17:04:40.209Z"
   },
   {
    "duration": 14,
    "start_time": "2024-09-03T17:04:40.228Z"
   },
   {
    "duration": 22,
    "start_time": "2024-09-03T17:04:40.244Z"
   },
   {
    "duration": 39,
    "start_time": "2024-09-03T17:04:40.268Z"
   },
   {
    "duration": 26,
    "start_time": "2024-09-03T17:04:40.309Z"
   },
   {
    "duration": 16,
    "start_time": "2024-09-03T17:04:40.336Z"
   },
   {
    "duration": 14,
    "start_time": "2024-09-03T17:04:40.353Z"
   },
   {
    "duration": 19,
    "start_time": "2024-09-03T17:04:40.369Z"
   },
   {
    "duration": 8,
    "start_time": "2024-09-03T17:04:40.390Z"
   },
   {
    "duration": 8,
    "start_time": "2024-09-03T17:04:40.406Z"
   },
   {
    "duration": 18,
    "start_time": "2024-09-03T17:04:40.417Z"
   },
   {
    "duration": 177,
    "start_time": "2024-09-03T17:04:40.437Z"
   },
   {
    "duration": 103,
    "start_time": "2024-09-03T17:04:40.615Z"
   },
   {
    "duration": 305,
    "start_time": "2024-09-03T17:04:40.720Z"
   },
   {
    "duration": 26,
    "start_time": "2024-09-03T17:04:41.027Z"
   },
   {
    "duration": 4,
    "start_time": "2024-09-03T17:04:41.055Z"
   },
   {
    "duration": 549,
    "start_time": "2024-09-03T17:04:41.061Z"
   },
   {
    "duration": 4,
    "start_time": "2024-09-03T17:04:41.612Z"
   },
   {
    "duration": 565,
    "start_time": "2024-09-03T17:04:41.617Z"
   },
   {
    "duration": 38,
    "start_time": "2024-09-03T17:04:42.183Z"
   },
   {
    "duration": 100,
    "start_time": "2024-09-03T17:04:42.223Z"
   },
   {
    "duration": 627,
    "start_time": "2024-09-03T17:04:42.325Z"
   },
   {
    "duration": 1103,
    "start_time": "2024-09-03T17:04:42.956Z"
   },
   {
    "duration": 18,
    "start_time": "2024-09-03T17:04:44.061Z"
   },
   {
    "duration": 5,
    "start_time": "2024-09-03T17:04:44.081Z"
   },
   {
    "duration": 19,
    "start_time": "2024-09-03T17:04:44.087Z"
   },
   {
    "duration": 167,
    "start_time": "2024-09-03T17:04:44.108Z"
   },
   {
    "duration": 158,
    "start_time": "2024-09-03T17:04:44.277Z"
   },
   {
    "duration": 311,
    "start_time": "2024-09-03T17:04:44.437Z"
   },
   {
    "duration": 108,
    "start_time": "2024-09-03T17:04:44.749Z"
   },
   {
    "duration": 3,
    "start_time": "2024-09-03T17:04:44.859Z"
   },
   {
    "duration": 223,
    "start_time": "2024-09-03T17:04:44.864Z"
   },
   {
    "duration": 15,
    "start_time": "2024-09-03T17:20:21.267Z"
   },
   {
    "duration": 12,
    "start_time": "2024-09-03T17:20:30.364Z"
   },
   {
    "duration": 5,
    "start_time": "2024-09-03T17:21:17.003Z"
   },
   {
    "duration": 1361,
    "start_time": "2024-09-06T16:26:57.030Z"
   },
   {
    "duration": 377,
    "start_time": "2024-09-06T16:26:58.393Z"
   },
   {
    "duration": 22,
    "start_time": "2024-09-06T16:26:58.771Z"
   },
   {
    "duration": 17,
    "start_time": "2024-09-06T16:26:58.794Z"
   },
   {
    "duration": 14,
    "start_time": "2024-09-06T16:26:58.813Z"
   },
   {
    "duration": 14,
    "start_time": "2024-09-06T16:26:58.829Z"
   },
   {
    "duration": 12,
    "start_time": "2024-09-06T16:26:58.844Z"
   },
   {
    "duration": 52,
    "start_time": "2024-09-06T16:26:58.858Z"
   },
   {
    "duration": 13,
    "start_time": "2024-09-06T16:26:58.911Z"
   },
   {
    "duration": 3,
    "start_time": "2024-09-06T16:26:58.926Z"
   },
   {
    "duration": 5,
    "start_time": "2024-09-06T16:26:58.931Z"
   },
   {
    "duration": 6,
    "start_time": "2024-09-06T16:26:58.937Z"
   },
   {
    "duration": 8,
    "start_time": "2024-09-06T16:26:58.944Z"
   },
   {
    "duration": 23,
    "start_time": "2024-09-06T16:26:58.954Z"
   },
   {
    "duration": 204,
    "start_time": "2024-09-06T16:26:58.978Z"
   },
   {
    "duration": 97,
    "start_time": "2024-09-06T16:26:59.184Z"
   },
   {
    "duration": 300,
    "start_time": "2024-09-06T16:26:59.282Z"
   },
   {
    "duration": 25,
    "start_time": "2024-09-06T16:26:59.584Z"
   },
   {
    "duration": 11,
    "start_time": "2024-09-06T16:26:59.610Z"
   },
   {
    "duration": 595,
    "start_time": "2024-09-06T16:26:59.623Z"
   },
   {
    "duration": 3,
    "start_time": "2024-09-06T16:27:00.219Z"
   },
   {
    "duration": 557,
    "start_time": "2024-09-06T16:27:00.223Z"
   },
   {
    "duration": 118,
    "start_time": "2024-09-06T16:27:00.782Z"
   },
   {
    "duration": 0,
    "start_time": "2024-09-06T16:27:00.905Z"
   },
   {
    "duration": 0,
    "start_time": "2024-09-06T16:27:00.906Z"
   },
   {
    "duration": 0,
    "start_time": "2024-09-06T16:27:00.908Z"
   },
   {
    "duration": 0,
    "start_time": "2024-09-06T16:27:00.909Z"
   },
   {
    "duration": 0,
    "start_time": "2024-09-06T16:27:00.910Z"
   },
   {
    "duration": 0,
    "start_time": "2024-09-06T16:27:00.912Z"
   },
   {
    "duration": 0,
    "start_time": "2024-09-06T16:27:00.913Z"
   },
   {
    "duration": 0,
    "start_time": "2024-09-06T16:27:00.914Z"
   },
   {
    "duration": 0,
    "start_time": "2024-09-06T16:27:00.915Z"
   },
   {
    "duration": 1,
    "start_time": "2024-09-06T16:27:00.916Z"
   },
   {
    "duration": 0,
    "start_time": "2024-09-06T16:27:00.918Z"
   },
   {
    "duration": 0,
    "start_time": "2024-09-06T16:27:00.919Z"
   },
   {
    "duration": 0,
    "start_time": "2024-09-06T16:27:00.920Z"
   },
   {
    "duration": 1223,
    "start_time": "2024-09-06T16:27:43.811Z"
   },
   {
    "duration": 100,
    "start_time": "2024-09-06T16:27:45.035Z"
   },
   {
    "duration": 20,
    "start_time": "2024-09-06T16:27:45.136Z"
   },
   {
    "duration": 18,
    "start_time": "2024-09-06T16:27:45.159Z"
   },
   {
    "duration": 43,
    "start_time": "2024-09-06T16:27:45.179Z"
   },
   {
    "duration": 91,
    "start_time": "2024-09-06T16:27:45.224Z"
   },
   {
    "duration": 28,
    "start_time": "2024-09-06T16:27:45.317Z"
   },
   {
    "duration": 54,
    "start_time": "2024-09-06T16:27:45.347Z"
   },
   {
    "duration": 27,
    "start_time": "2024-09-06T16:27:45.403Z"
   },
   {
    "duration": 17,
    "start_time": "2024-09-06T16:27:45.434Z"
   },
   {
    "duration": 24,
    "start_time": "2024-09-06T16:27:45.453Z"
   },
   {
    "duration": 151,
    "start_time": "2024-09-06T16:27:45.479Z"
   },
   {
    "duration": 47,
    "start_time": "2024-09-06T16:27:45.632Z"
   },
   {
    "duration": 60,
    "start_time": "2024-09-06T16:27:45.680Z"
   },
   {
    "duration": 188,
    "start_time": "2024-09-06T16:27:45.741Z"
   },
   {
    "duration": 108,
    "start_time": "2024-09-06T16:27:45.931Z"
   },
   {
    "duration": 305,
    "start_time": "2024-09-06T16:27:46.040Z"
   },
   {
    "duration": 19,
    "start_time": "2024-09-06T16:27:46.347Z"
   },
   {
    "duration": 12,
    "start_time": "2024-09-06T16:27:46.367Z"
   },
   {
    "duration": 543,
    "start_time": "2024-09-06T16:27:46.380Z"
   },
   {
    "duration": 4,
    "start_time": "2024-09-06T16:27:46.925Z"
   },
   {
    "duration": 551,
    "start_time": "2024-09-06T16:27:46.931Z"
   },
   {
    "duration": 119,
    "start_time": "2024-09-06T16:27:47.484Z"
   },
   {
    "duration": 0,
    "start_time": "2024-09-06T16:27:47.604Z"
   },
   {
    "duration": 0,
    "start_time": "2024-09-06T16:27:47.606Z"
   },
   {
    "duration": 0,
    "start_time": "2024-09-06T16:27:47.607Z"
   },
   {
    "duration": 0,
    "start_time": "2024-09-06T16:27:47.608Z"
   },
   {
    "duration": 0,
    "start_time": "2024-09-06T16:27:47.609Z"
   },
   {
    "duration": 0,
    "start_time": "2024-09-06T16:27:47.610Z"
   },
   {
    "duration": 0,
    "start_time": "2024-09-06T16:27:47.611Z"
   },
   {
    "duration": 0,
    "start_time": "2024-09-06T16:27:47.612Z"
   },
   {
    "duration": 0,
    "start_time": "2024-09-06T16:27:47.613Z"
   },
   {
    "duration": 0,
    "start_time": "2024-09-06T16:27:47.614Z"
   },
   {
    "duration": 0,
    "start_time": "2024-09-06T16:27:47.616Z"
   },
   {
    "duration": 0,
    "start_time": "2024-09-06T16:27:47.616Z"
   },
   {
    "duration": 0,
    "start_time": "2024-09-06T16:27:47.617Z"
   },
   {
    "duration": 1239,
    "start_time": "2024-09-06T16:28:15.575Z"
   },
   {
    "duration": 95,
    "start_time": "2024-09-06T16:28:16.815Z"
   },
   {
    "duration": 21,
    "start_time": "2024-09-06T16:28:16.912Z"
   },
   {
    "duration": 71,
    "start_time": "2024-09-06T16:28:16.935Z"
   },
   {
    "duration": 18,
    "start_time": "2024-09-06T16:28:17.008Z"
   },
   {
    "duration": 28,
    "start_time": "2024-09-06T16:28:17.027Z"
   },
   {
    "duration": 27,
    "start_time": "2024-09-06T16:28:17.057Z"
   },
   {
    "duration": 24,
    "start_time": "2024-09-06T16:28:17.086Z"
   },
   {
    "duration": 13,
    "start_time": "2024-09-06T16:28:17.111Z"
   },
   {
    "duration": 17,
    "start_time": "2024-09-06T16:28:17.126Z"
   },
   {
    "duration": 25,
    "start_time": "2024-09-06T16:28:17.145Z"
   },
   {
    "duration": 15,
    "start_time": "2024-09-06T16:28:17.172Z"
   },
   {
    "duration": 8,
    "start_time": "2024-09-06T16:28:17.189Z"
   },
   {
    "duration": 55,
    "start_time": "2024-09-06T16:28:17.200Z"
   },
   {
    "duration": 245,
    "start_time": "2024-09-06T16:28:17.257Z"
   },
   {
    "duration": 93,
    "start_time": "2024-09-06T16:28:17.504Z"
   },
   {
    "duration": 295,
    "start_time": "2024-09-06T16:28:17.599Z"
   },
   {
    "duration": 25,
    "start_time": "2024-09-06T16:28:17.895Z"
   },
   {
    "duration": 71,
    "start_time": "2024-09-06T16:28:17.921Z"
   },
   {
    "duration": 611,
    "start_time": "2024-09-06T16:28:17.994Z"
   },
   {
    "duration": 4,
    "start_time": "2024-09-06T16:28:18.606Z"
   },
   {
    "duration": 556,
    "start_time": "2024-09-06T16:28:18.611Z"
   },
   {
    "duration": 108,
    "start_time": "2024-09-06T16:28:19.169Z"
   },
   {
    "duration": 0,
    "start_time": "2024-09-06T16:28:19.279Z"
   },
   {
    "duration": 0,
    "start_time": "2024-09-06T16:28:19.280Z"
   },
   {
    "duration": 0,
    "start_time": "2024-09-06T16:28:19.281Z"
   },
   {
    "duration": 1,
    "start_time": "2024-09-06T16:28:19.281Z"
   },
   {
    "duration": 0,
    "start_time": "2024-09-06T16:28:19.282Z"
   },
   {
    "duration": 0,
    "start_time": "2024-09-06T16:28:19.284Z"
   },
   {
    "duration": 0,
    "start_time": "2024-09-06T16:28:19.285Z"
   },
   {
    "duration": 0,
    "start_time": "2024-09-06T16:28:19.286Z"
   },
   {
    "duration": 0,
    "start_time": "2024-09-06T16:28:19.287Z"
   },
   {
    "duration": 0,
    "start_time": "2024-09-06T16:28:19.305Z"
   },
   {
    "duration": 0,
    "start_time": "2024-09-06T16:28:19.306Z"
   },
   {
    "duration": 0,
    "start_time": "2024-09-06T16:28:19.307Z"
   },
   {
    "duration": 0,
    "start_time": "2024-09-06T16:28:19.308Z"
   },
   {
    "duration": 1211,
    "start_time": "2024-09-06T16:28:53.398Z"
   },
   {
    "duration": 97,
    "start_time": "2024-09-06T16:28:54.611Z"
   },
   {
    "duration": 19,
    "start_time": "2024-09-06T16:28:54.710Z"
   },
   {
    "duration": 32,
    "start_time": "2024-09-06T16:28:54.731Z"
   },
   {
    "duration": 14,
    "start_time": "2024-09-06T16:28:54.765Z"
   },
   {
    "duration": 27,
    "start_time": "2024-09-06T16:28:54.781Z"
   },
   {
    "duration": 12,
    "start_time": "2024-09-06T16:28:54.809Z"
   },
   {
    "duration": 23,
    "start_time": "2024-09-06T16:28:54.822Z"
   },
   {
    "duration": 13,
    "start_time": "2024-09-06T16:28:54.846Z"
   },
   {
    "duration": 36,
    "start_time": "2024-09-06T16:28:54.861Z"
   },
   {
    "duration": 24,
    "start_time": "2024-09-06T16:28:54.899Z"
   },
   {
    "duration": 11,
    "start_time": "2024-09-06T16:28:54.925Z"
   },
   {
    "duration": 8,
    "start_time": "2024-09-06T16:28:54.938Z"
   },
   {
    "duration": 11,
    "start_time": "2024-09-06T16:28:54.949Z"
   },
   {
    "duration": 182,
    "start_time": "2024-09-06T16:28:54.961Z"
   },
   {
    "duration": 93,
    "start_time": "2024-09-06T16:28:55.145Z"
   },
   {
    "duration": 350,
    "start_time": "2024-09-06T16:28:55.240Z"
   },
   {
    "duration": 26,
    "start_time": "2024-09-06T16:28:55.591Z"
   },
   {
    "duration": 5,
    "start_time": "2024-09-06T16:28:55.619Z"
   },
   {
    "duration": 582,
    "start_time": "2024-09-06T16:28:55.626Z"
   },
   {
    "duration": 4,
    "start_time": "2024-09-06T16:28:56.210Z"
   },
   {
    "duration": 550,
    "start_time": "2024-09-06T16:28:56.216Z"
   },
   {
    "duration": 108,
    "start_time": "2024-09-06T16:28:56.767Z"
   },
   {
    "duration": 0,
    "start_time": "2024-09-06T16:28:56.876Z"
   },
   {
    "duration": 0,
    "start_time": "2024-09-06T16:28:56.877Z"
   },
   {
    "duration": 0,
    "start_time": "2024-09-06T16:28:56.878Z"
   },
   {
    "duration": 0,
    "start_time": "2024-09-06T16:28:56.879Z"
   },
   {
    "duration": 0,
    "start_time": "2024-09-06T16:28:56.880Z"
   },
   {
    "duration": 0,
    "start_time": "2024-09-06T16:28:56.881Z"
   },
   {
    "duration": 0,
    "start_time": "2024-09-06T16:28:56.882Z"
   },
   {
    "duration": 0,
    "start_time": "2024-09-06T16:28:56.883Z"
   },
   {
    "duration": 0,
    "start_time": "2024-09-06T16:28:56.884Z"
   },
   {
    "duration": 0,
    "start_time": "2024-09-06T16:28:56.885Z"
   },
   {
    "duration": 0,
    "start_time": "2024-09-06T16:28:56.905Z"
   },
   {
    "duration": 0,
    "start_time": "2024-09-06T16:28:56.906Z"
   },
   {
    "duration": 0,
    "start_time": "2024-09-06T16:28:56.907Z"
   },
   {
    "duration": 1238,
    "start_time": "2024-09-06T16:29:10.887Z"
   },
   {
    "duration": 93,
    "start_time": "2024-09-06T16:29:12.127Z"
   },
   {
    "duration": 20,
    "start_time": "2024-09-06T16:29:12.221Z"
   },
   {
    "duration": 51,
    "start_time": "2024-09-06T16:29:12.243Z"
   },
   {
    "duration": 26,
    "start_time": "2024-09-06T16:29:12.296Z"
   },
   {
    "duration": 25,
    "start_time": "2024-09-06T16:29:12.324Z"
   },
   {
    "duration": 52,
    "start_time": "2024-09-06T16:29:12.350Z"
   },
   {
    "duration": 24,
    "start_time": "2024-09-06T16:29:12.403Z"
   },
   {
    "duration": 29,
    "start_time": "2024-09-06T16:29:12.429Z"
   },
   {
    "duration": 12,
    "start_time": "2024-09-06T16:29:12.459Z"
   },
   {
    "duration": 11,
    "start_time": "2024-09-06T16:29:12.473Z"
   },
   {
    "duration": 8,
    "start_time": "2024-09-06T16:29:12.485Z"
   },
   {
    "duration": 12,
    "start_time": "2024-09-06T16:29:12.494Z"
   },
   {
    "duration": 20,
    "start_time": "2024-09-06T16:29:12.509Z"
   },
   {
    "duration": 175,
    "start_time": "2024-09-06T16:29:12.530Z"
   },
   {
    "duration": 99,
    "start_time": "2024-09-06T16:29:12.706Z"
   },
   {
    "duration": 301,
    "start_time": "2024-09-06T16:29:12.807Z"
   },
   {
    "duration": 17,
    "start_time": "2024-09-06T16:29:13.110Z"
   },
   {
    "duration": 20,
    "start_time": "2024-09-06T16:29:13.129Z"
   },
   {
    "duration": 557,
    "start_time": "2024-09-06T16:29:13.151Z"
   },
   {
    "duration": 4,
    "start_time": "2024-09-06T16:29:13.709Z"
   },
   {
    "duration": 565,
    "start_time": "2024-09-06T16:29:13.714Z"
   },
   {
    "duration": 110,
    "start_time": "2024-09-06T16:29:14.280Z"
   },
   {
    "duration": 0,
    "start_time": "2024-09-06T16:29:14.392Z"
   },
   {
    "duration": 0,
    "start_time": "2024-09-06T16:29:14.393Z"
   },
   {
    "duration": 0,
    "start_time": "2024-09-06T16:29:14.394Z"
   },
   {
    "duration": 0,
    "start_time": "2024-09-06T16:29:14.394Z"
   },
   {
    "duration": 0,
    "start_time": "2024-09-06T16:29:14.396Z"
   },
   {
    "duration": 0,
    "start_time": "2024-09-06T16:29:14.406Z"
   },
   {
    "duration": 0,
    "start_time": "2024-09-06T16:29:14.407Z"
   },
   {
    "duration": 0,
    "start_time": "2024-09-06T16:29:14.408Z"
   },
   {
    "duration": 0,
    "start_time": "2024-09-06T16:29:14.409Z"
   },
   {
    "duration": 0,
    "start_time": "2024-09-06T16:29:14.410Z"
   },
   {
    "duration": 0,
    "start_time": "2024-09-06T16:29:14.411Z"
   },
   {
    "duration": 0,
    "start_time": "2024-09-06T16:29:14.412Z"
   },
   {
    "duration": 0,
    "start_time": "2024-09-06T16:29:14.413Z"
   },
   {
    "duration": 1242,
    "start_time": "2024-09-06T16:29:32.681Z"
   },
   {
    "duration": 97,
    "start_time": "2024-09-06T16:29:33.926Z"
   },
   {
    "duration": 23,
    "start_time": "2024-09-06T16:29:34.024Z"
   },
   {
    "duration": 19,
    "start_time": "2024-09-06T16:29:34.050Z"
   },
   {
    "duration": 15,
    "start_time": "2024-09-06T16:29:34.071Z"
   },
   {
    "duration": 20,
    "start_time": "2024-09-06T16:29:34.104Z"
   },
   {
    "duration": 14,
    "start_time": "2024-09-06T16:29:34.126Z"
   },
   {
    "duration": 27,
    "start_time": "2024-09-06T16:29:34.142Z"
   },
   {
    "duration": 45,
    "start_time": "2024-09-06T16:29:34.171Z"
   },
   {
    "duration": 9,
    "start_time": "2024-09-06T16:29:34.219Z"
   },
   {
    "duration": 6,
    "start_time": "2024-09-06T16:29:34.229Z"
   },
   {
    "duration": 7,
    "start_time": "2024-09-06T16:29:34.237Z"
   },
   {
    "duration": 8,
    "start_time": "2024-09-06T16:29:34.246Z"
   },
   {
    "duration": 35,
    "start_time": "2024-09-06T16:29:34.255Z"
   },
   {
    "duration": 196,
    "start_time": "2024-09-06T16:29:34.292Z"
   },
   {
    "duration": 96,
    "start_time": "2024-09-06T16:29:34.490Z"
   },
   {
    "duration": 293,
    "start_time": "2024-09-06T16:29:34.587Z"
   },
   {
    "duration": 23,
    "start_time": "2024-09-06T16:29:34.882Z"
   },
   {
    "duration": 38,
    "start_time": "2024-09-06T16:29:34.907Z"
   },
   {
    "duration": 620,
    "start_time": "2024-09-06T16:29:34.947Z"
   },
   {
    "duration": 4,
    "start_time": "2024-09-06T16:29:35.569Z"
   },
   {
    "duration": 505,
    "start_time": "2024-09-06T16:29:35.574Z"
   },
   {
    "duration": 4,
    "start_time": "2024-09-06T16:29:36.081Z"
   },
   {
    "duration": 38,
    "start_time": "2024-09-06T16:29:36.087Z"
   },
   {
    "duration": 104,
    "start_time": "2024-09-06T16:29:36.127Z"
   },
   {
    "duration": 605,
    "start_time": "2024-09-06T16:29:36.232Z"
   },
   {
    "duration": 1027,
    "start_time": "2024-09-06T16:29:36.839Z"
   },
   {
    "duration": 17,
    "start_time": "2024-09-06T16:29:37.869Z"
   },
   {
    "duration": 4,
    "start_time": "2024-09-06T16:29:37.888Z"
   },
   {
    "duration": 35,
    "start_time": "2024-09-06T16:29:37.905Z"
   },
   {
    "duration": 197,
    "start_time": "2024-09-06T16:29:37.942Z"
   },
   {
    "duration": 103,
    "start_time": "2024-09-06T16:29:38.140Z"
   },
   {
    "duration": 209,
    "start_time": "2024-09-06T16:29:38.244Z"
   },
   {
    "duration": 87,
    "start_time": "2024-09-06T16:29:38.455Z"
   },
   {
    "duration": 3,
    "start_time": "2024-09-06T16:29:38.543Z"
   },
   {
    "duration": 150,
    "start_time": "2024-09-06T16:29:38.547Z"
   },
   {
    "duration": 1180,
    "start_time": "2024-09-06T16:33:01.760Z"
   },
   {
    "duration": 93,
    "start_time": "2024-09-06T16:33:02.942Z"
   },
   {
    "duration": 19,
    "start_time": "2024-09-06T16:33:03.037Z"
   },
   {
    "duration": 16,
    "start_time": "2024-09-06T16:33:03.057Z"
   },
   {
    "duration": 15,
    "start_time": "2024-09-06T16:33:03.075Z"
   },
   {
    "duration": 24,
    "start_time": "2024-09-06T16:33:03.092Z"
   },
   {
    "duration": 23,
    "start_time": "2024-09-06T16:33:03.118Z"
   },
   {
    "duration": 23,
    "start_time": "2024-09-06T16:33:03.143Z"
   },
   {
    "duration": 13,
    "start_time": "2024-09-06T16:33:03.167Z"
   },
   {
    "duration": 5,
    "start_time": "2024-09-06T16:33:03.181Z"
   },
   {
    "duration": 6,
    "start_time": "2024-09-06T16:33:03.205Z"
   },
   {
    "duration": 36,
    "start_time": "2024-09-06T16:33:03.213Z"
   },
   {
    "duration": 50,
    "start_time": "2024-09-06T16:33:03.250Z"
   },
   {
    "duration": 31,
    "start_time": "2024-09-06T16:33:03.303Z"
   },
   {
    "duration": 180,
    "start_time": "2024-09-06T16:33:03.336Z"
   },
   {
    "duration": 104,
    "start_time": "2024-09-06T16:33:03.518Z"
   },
   {
    "duration": 294,
    "start_time": "2024-09-06T16:33:03.624Z"
   },
   {
    "duration": 17,
    "start_time": "2024-09-06T16:33:03.920Z"
   },
   {
    "duration": 81,
    "start_time": "2024-09-06T16:33:03.938Z"
   },
   {
    "duration": 495,
    "start_time": "2024-09-06T16:33:04.021Z"
   },
   {
    "duration": 3,
    "start_time": "2024-09-06T16:33:04.518Z"
   },
   {
    "duration": 555,
    "start_time": "2024-09-06T16:33:04.522Z"
   },
   {
    "duration": 4,
    "start_time": "2024-09-06T16:33:05.078Z"
   },
   {
    "duration": 39,
    "start_time": "2024-09-06T16:33:05.083Z"
   },
   {
    "duration": 202,
    "start_time": "2024-09-06T16:33:05.123Z"
   },
   {
    "duration": 0,
    "start_time": "2024-09-06T16:33:05.326Z"
   },
   {
    "duration": 0,
    "start_time": "2024-09-06T16:33:05.327Z"
   },
   {
    "duration": 0,
    "start_time": "2024-09-06T16:33:05.328Z"
   },
   {
    "duration": 0,
    "start_time": "2024-09-06T16:33:05.332Z"
   },
   {
    "duration": 0,
    "start_time": "2024-09-06T16:33:05.334Z"
   },
   {
    "duration": 0,
    "start_time": "2024-09-06T16:33:05.336Z"
   },
   {
    "duration": 0,
    "start_time": "2024-09-06T16:33:05.338Z"
   },
   {
    "duration": 0,
    "start_time": "2024-09-06T16:33:05.340Z"
   },
   {
    "duration": 0,
    "start_time": "2024-09-06T16:33:05.341Z"
   },
   {
    "duration": 0,
    "start_time": "2024-09-06T16:33:05.342Z"
   },
   {
    "duration": 0,
    "start_time": "2024-09-06T16:33:05.344Z"
   },
   {
    "duration": 1225,
    "start_time": "2024-09-06T16:33:37.706Z"
   },
   {
    "duration": 94,
    "start_time": "2024-09-06T16:33:38.933Z"
   },
   {
    "duration": 21,
    "start_time": "2024-09-06T16:33:39.031Z"
   },
   {
    "duration": 34,
    "start_time": "2024-09-06T16:33:39.054Z"
   },
   {
    "duration": 23,
    "start_time": "2024-09-06T16:33:39.089Z"
   },
   {
    "duration": 14,
    "start_time": "2024-09-06T16:33:39.114Z"
   },
   {
    "duration": 11,
    "start_time": "2024-09-06T16:33:39.129Z"
   },
   {
    "duration": 22,
    "start_time": "2024-09-06T16:33:39.141Z"
   },
   {
    "duration": 42,
    "start_time": "2024-09-06T16:33:39.165Z"
   },
   {
    "duration": 4,
    "start_time": "2024-09-06T16:33:39.209Z"
   },
   {
    "duration": 22,
    "start_time": "2024-09-06T16:33:39.215Z"
   },
   {
    "duration": 63,
    "start_time": "2024-09-06T16:33:39.239Z"
   },
   {
    "duration": 37,
    "start_time": "2024-09-06T16:33:39.305Z"
   },
   {
    "duration": 8,
    "start_time": "2024-09-06T16:33:39.343Z"
   },
   {
    "duration": 186,
    "start_time": "2024-09-06T16:33:39.353Z"
   },
   {
    "duration": 99,
    "start_time": "2024-09-06T16:33:39.541Z"
   },
   {
    "duration": 309,
    "start_time": "2024-09-06T16:33:39.642Z"
   },
   {
    "duration": 17,
    "start_time": "2024-09-06T16:33:39.953Z"
   },
   {
    "duration": 33,
    "start_time": "2024-09-06T16:33:39.972Z"
   },
   {
    "duration": 532,
    "start_time": "2024-09-06T16:33:40.007Z"
   },
   {
    "duration": 4,
    "start_time": "2024-09-06T16:33:40.540Z"
   },
   {
    "duration": 528,
    "start_time": "2024-09-06T16:33:40.545Z"
   },
   {
    "duration": 4,
    "start_time": "2024-09-06T16:33:41.075Z"
   },
   {
    "duration": 39,
    "start_time": "2024-09-06T16:33:41.081Z"
   },
   {
    "duration": 192,
    "start_time": "2024-09-06T16:33:41.122Z"
   },
   {
    "duration": 0,
    "start_time": "2024-09-06T16:33:41.316Z"
   },
   {
    "duration": 1,
    "start_time": "2024-09-06T16:33:41.317Z"
   },
   {
    "duration": 0,
    "start_time": "2024-09-06T16:33:41.318Z"
   },
   {
    "duration": 0,
    "start_time": "2024-09-06T16:33:41.320Z"
   },
   {
    "duration": 0,
    "start_time": "2024-09-06T16:33:41.321Z"
   },
   {
    "duration": 0,
    "start_time": "2024-09-06T16:33:41.322Z"
   },
   {
    "duration": 0,
    "start_time": "2024-09-06T16:33:41.323Z"
   },
   {
    "duration": 0,
    "start_time": "2024-09-06T16:33:41.324Z"
   },
   {
    "duration": 0,
    "start_time": "2024-09-06T16:33:41.325Z"
   },
   {
    "duration": 0,
    "start_time": "2024-09-06T16:33:41.326Z"
   },
   {
    "duration": 0,
    "start_time": "2024-09-06T16:33:41.327Z"
   },
   {
    "duration": 1162,
    "start_time": "2024-09-06T16:33:57.455Z"
   },
   {
    "duration": 98,
    "start_time": "2024-09-06T16:33:58.619Z"
   },
   {
    "duration": 21,
    "start_time": "2024-09-06T16:33:58.719Z"
   },
   {
    "duration": 17,
    "start_time": "2024-09-06T16:33:58.742Z"
   },
   {
    "duration": 14,
    "start_time": "2024-09-06T16:33:58.761Z"
   },
   {
    "duration": 30,
    "start_time": "2024-09-06T16:33:58.777Z"
   },
   {
    "duration": 11,
    "start_time": "2024-09-06T16:33:58.809Z"
   },
   {
    "duration": 24,
    "start_time": "2024-09-06T16:33:58.822Z"
   },
   {
    "duration": 13,
    "start_time": "2024-09-06T16:33:58.847Z"
   },
   {
    "duration": 4,
    "start_time": "2024-09-06T16:33:58.863Z"
   },
   {
    "duration": 63,
    "start_time": "2024-09-06T16:33:58.868Z"
   },
   {
    "duration": 13,
    "start_time": "2024-09-06T16:33:58.932Z"
   },
   {
    "duration": 8,
    "start_time": "2024-09-06T16:33:58.946Z"
   },
   {
    "duration": 8,
    "start_time": "2024-09-06T16:33:58.955Z"
   },
   {
    "duration": 185,
    "start_time": "2024-09-06T16:33:58.964Z"
   },
   {
    "duration": 103,
    "start_time": "2024-09-06T16:33:59.150Z"
   },
   {
    "duration": 291,
    "start_time": "2024-09-06T16:33:59.254Z"
   },
   {
    "duration": 18,
    "start_time": "2024-09-06T16:33:59.546Z"
   },
   {
    "duration": 66,
    "start_time": "2024-09-06T16:33:59.566Z"
   },
   {
    "duration": 571,
    "start_time": "2024-09-06T16:33:59.634Z"
   },
   {
    "duration": 3,
    "start_time": "2024-09-06T16:34:00.207Z"
   },
   {
    "duration": 559,
    "start_time": "2024-09-06T16:34:00.212Z"
   },
   {
    "duration": 3,
    "start_time": "2024-09-06T16:34:00.773Z"
   },
   {
    "duration": 36,
    "start_time": "2024-09-06T16:34:00.778Z"
   },
   {
    "duration": 104,
    "start_time": "2024-09-06T16:34:00.815Z"
   },
   {
    "duration": 604,
    "start_time": "2024-09-06T16:34:00.921Z"
   },
   {
    "duration": 1056,
    "start_time": "2024-09-06T16:34:01.526Z"
   },
   {
    "duration": 25,
    "start_time": "2024-09-06T16:34:02.585Z"
   },
   {
    "duration": 4,
    "start_time": "2024-09-06T16:34:02.612Z"
   },
   {
    "duration": 9,
    "start_time": "2024-09-06T16:34:02.618Z"
   },
   {
    "duration": 154,
    "start_time": "2024-09-06T16:34:02.629Z"
   },
   {
    "duration": 99,
    "start_time": "2024-09-06T16:34:02.785Z"
   },
   {
    "duration": 238,
    "start_time": "2024-09-06T16:34:02.885Z"
   },
   {
    "duration": 76,
    "start_time": "2024-09-06T16:34:03.125Z"
   },
   {
    "duration": 2,
    "start_time": "2024-09-06T16:34:03.205Z"
   },
   {
    "duration": 216,
    "start_time": "2024-09-06T16:34:03.209Z"
   },
   {
    "duration": 1172,
    "start_time": "2024-09-06T16:34:34.550Z"
   },
   {
    "duration": 95,
    "start_time": "2024-09-06T16:34:35.724Z"
   },
   {
    "duration": 20,
    "start_time": "2024-09-06T16:34:35.821Z"
   },
   {
    "duration": 40,
    "start_time": "2024-09-06T16:34:35.843Z"
   },
   {
    "duration": 38,
    "start_time": "2024-09-06T16:34:35.885Z"
   },
   {
    "duration": 19,
    "start_time": "2024-09-06T16:34:35.925Z"
   },
   {
    "duration": 80,
    "start_time": "2024-09-06T16:34:35.946Z"
   },
   {
    "duration": 33,
    "start_time": "2024-09-06T16:34:36.027Z"
   },
   {
    "duration": 13,
    "start_time": "2024-09-06T16:34:36.062Z"
   },
   {
    "duration": 32,
    "start_time": "2024-09-06T16:34:36.078Z"
   },
   {
    "duration": 29,
    "start_time": "2024-09-06T16:34:36.112Z"
   },
   {
    "duration": 9,
    "start_time": "2024-09-06T16:34:36.143Z"
   },
   {
    "duration": 32,
    "start_time": "2024-09-06T16:34:36.153Z"
   },
   {
    "duration": 28,
    "start_time": "2024-09-06T16:34:36.187Z"
   },
   {
    "duration": 215,
    "start_time": "2024-09-06T16:34:36.216Z"
   },
   {
    "duration": 96,
    "start_time": "2024-09-06T16:34:36.432Z"
   },
   {
    "duration": 297,
    "start_time": "2024-09-06T16:34:36.530Z"
   },
   {
    "duration": 18,
    "start_time": "2024-09-06T16:34:36.829Z"
   },
   {
    "duration": 56,
    "start_time": "2024-09-06T16:34:36.849Z"
   },
   {
    "duration": 606,
    "start_time": "2024-09-06T16:34:36.907Z"
   },
   {
    "duration": 3,
    "start_time": "2024-09-06T16:34:37.514Z"
   },
   {
    "duration": 560,
    "start_time": "2024-09-06T16:34:37.519Z"
   },
   {
    "duration": 4,
    "start_time": "2024-09-06T16:34:38.080Z"
   },
   {
    "duration": 40,
    "start_time": "2024-09-06T16:34:38.086Z"
   },
   {
    "duration": 107,
    "start_time": "2024-09-06T16:34:38.128Z"
   },
   {
    "duration": 610,
    "start_time": "2024-09-06T16:34:38.236Z"
   },
   {
    "duration": 1026,
    "start_time": "2024-09-06T16:34:38.847Z"
   },
   {
    "duration": 17,
    "start_time": "2024-09-06T16:34:39.876Z"
   },
   {
    "duration": 20,
    "start_time": "2024-09-06T16:34:39.895Z"
   },
   {
    "duration": 4,
    "start_time": "2024-09-06T16:34:39.917Z"
   },
   {
    "duration": 168,
    "start_time": "2024-09-06T16:34:39.923Z"
   },
   {
    "duration": 101,
    "start_time": "2024-09-06T16:34:40.093Z"
   },
   {
    "duration": 212,
    "start_time": "2024-09-06T16:34:40.196Z"
   },
   {
    "duration": 76,
    "start_time": "2024-09-06T16:34:40.410Z"
   },
   {
    "duration": 18,
    "start_time": "2024-09-06T16:34:40.488Z"
   },
   {
    "duration": 137,
    "start_time": "2024-09-06T16:34:40.508Z"
   },
   {
    "duration": 21,
    "start_time": "2024-09-06T16:41:59.768Z"
   },
   {
    "duration": 8,
    "start_time": "2024-09-06T16:48:47.825Z"
   },
   {
    "duration": 541,
    "start_time": "2024-09-06T16:49:00.764Z"
   },
   {
    "duration": 8,
    "start_time": "2024-09-06T16:49:21.925Z"
   },
   {
    "duration": 9,
    "start_time": "2024-09-06T16:49:35.522Z"
   },
   {
    "duration": 638,
    "start_time": "2024-09-06T16:49:40.449Z"
   },
   {
    "duration": 8,
    "start_time": "2024-09-06T16:50:12.603Z"
   },
   {
    "duration": 380,
    "start_time": "2024-09-06T16:50:22.043Z"
   },
   {
    "duration": 8,
    "start_time": "2024-09-06T16:50:51.790Z"
   },
   {
    "duration": 283,
    "start_time": "2024-09-06T16:50:57.954Z"
   },
   {
    "duration": 1189,
    "start_time": "2024-09-06T16:51:58.733Z"
   },
   {
    "duration": 95,
    "start_time": "2024-09-06T16:51:59.924Z"
   },
   {
    "duration": 21,
    "start_time": "2024-09-06T16:52:00.020Z"
   },
   {
    "duration": 58,
    "start_time": "2024-09-06T16:52:00.043Z"
   },
   {
    "duration": 13,
    "start_time": "2024-09-06T16:52:00.104Z"
   },
   {
    "duration": 33,
    "start_time": "2024-09-06T16:52:00.119Z"
   },
   {
    "duration": 15,
    "start_time": "2024-09-06T16:52:00.153Z"
   },
   {
    "duration": 45,
    "start_time": "2024-09-06T16:52:00.170Z"
   },
   {
    "duration": 33,
    "start_time": "2024-09-06T16:52:00.218Z"
   },
   {
    "duration": 15,
    "start_time": "2024-09-06T16:52:00.253Z"
   },
   {
    "duration": 79,
    "start_time": "2024-09-06T16:52:00.270Z"
   },
   {
    "duration": 41,
    "start_time": "2024-09-06T16:52:00.351Z"
   },
   {
    "duration": 15,
    "start_time": "2024-09-06T16:52:00.394Z"
   },
   {
    "duration": 15,
    "start_time": "2024-09-06T16:52:00.412Z"
   },
   {
    "duration": 197,
    "start_time": "2024-09-06T16:52:00.429Z"
   },
   {
    "duration": 106,
    "start_time": "2024-09-06T16:52:00.627Z"
   },
   {
    "duration": 301,
    "start_time": "2024-09-06T16:52:00.735Z"
   },
   {
    "duration": 17,
    "start_time": "2024-09-06T16:52:01.038Z"
   },
   {
    "duration": 6,
    "start_time": "2024-09-06T16:52:01.057Z"
   },
   {
    "duration": 553,
    "start_time": "2024-09-06T16:52:01.065Z"
   },
   {
    "duration": 4,
    "start_time": "2024-09-06T16:52:01.620Z"
   },
   {
    "duration": 556,
    "start_time": "2024-09-06T16:52:01.626Z"
   },
   {
    "duration": 4,
    "start_time": "2024-09-06T16:52:02.184Z"
   },
   {
    "duration": 40,
    "start_time": "2024-09-06T16:52:02.190Z"
   },
   {
    "duration": 120,
    "start_time": "2024-09-06T16:52:02.232Z"
   },
   {
    "duration": 634,
    "start_time": "2024-09-06T16:52:02.354Z"
   },
   {
    "duration": 1087,
    "start_time": "2024-09-06T16:52:02.989Z"
   },
   {
    "duration": 32,
    "start_time": "2024-09-06T16:52:04.078Z"
   },
   {
    "duration": 23,
    "start_time": "2024-09-06T16:52:04.112Z"
   },
   {
    "duration": 6,
    "start_time": "2024-09-06T16:52:04.137Z"
   },
   {
    "duration": 24,
    "start_time": "2024-09-06T16:52:04.145Z"
   },
   {
    "duration": 167,
    "start_time": "2024-09-06T16:52:04.170Z"
   },
   {
    "duration": 105,
    "start_time": "2024-09-06T16:52:04.339Z"
   },
   {
    "duration": 211,
    "start_time": "2024-09-06T16:52:04.445Z"
   },
   {
    "duration": 85,
    "start_time": "2024-09-06T16:52:04.658Z"
   },
   {
    "duration": 3,
    "start_time": "2024-09-06T16:52:04.745Z"
   },
   {
    "duration": 170,
    "start_time": "2024-09-06T16:52:04.750Z"
   },
   {
    "duration": 779,
    "start_time": "2024-09-06T17:08:25.227Z"
   },
   {
    "duration": 665,
    "start_time": "2024-09-06T17:08:34.963Z"
   },
   {
    "duration": 1163,
    "start_time": "2024-09-06T17:25:40.453Z"
   },
   {
    "duration": 91,
    "start_time": "2024-09-06T17:25:41.618Z"
   },
   {
    "duration": 22,
    "start_time": "2024-09-06T17:25:41.711Z"
   },
   {
    "duration": 16,
    "start_time": "2024-09-06T17:25:41.735Z"
   },
   {
    "duration": 99,
    "start_time": "2024-09-06T17:25:41.753Z"
   },
   {
    "duration": 13,
    "start_time": "2024-09-06T17:25:41.854Z"
   },
   {
    "duration": 40,
    "start_time": "2024-09-06T17:25:41.869Z"
   },
   {
    "duration": 23,
    "start_time": "2024-09-06T17:25:41.910Z"
   },
   {
    "duration": 22,
    "start_time": "2024-09-06T17:25:41.936Z"
   },
   {
    "duration": 13,
    "start_time": "2024-09-06T17:25:41.962Z"
   },
   {
    "duration": 32,
    "start_time": "2024-09-06T17:25:41.977Z"
   },
   {
    "duration": 30,
    "start_time": "2024-09-06T17:25:42.011Z"
   },
   {
    "duration": 35,
    "start_time": "2024-09-06T17:25:42.043Z"
   },
   {
    "duration": 43,
    "start_time": "2024-09-06T17:25:42.079Z"
   },
   {
    "duration": 188,
    "start_time": "2024-09-06T17:25:42.124Z"
   },
   {
    "duration": 108,
    "start_time": "2024-09-06T17:25:42.314Z"
   },
   {
    "duration": 300,
    "start_time": "2024-09-06T17:25:42.424Z"
   },
   {
    "duration": 19,
    "start_time": "2024-09-06T17:25:42.726Z"
   },
   {
    "duration": 34,
    "start_time": "2024-09-06T17:25:42.747Z"
   },
   {
    "duration": 526,
    "start_time": "2024-09-06T17:25:42.783Z"
   },
   {
    "duration": 4,
    "start_time": "2024-09-06T17:25:43.311Z"
   },
   {
    "duration": 559,
    "start_time": "2024-09-06T17:25:43.317Z"
   },
   {
    "duration": 5,
    "start_time": "2024-09-06T17:25:43.879Z"
   },
   {
    "duration": 29,
    "start_time": "2024-09-06T17:25:43.905Z"
   },
   {
    "duration": 126,
    "start_time": "2024-09-06T17:25:43.936Z"
   },
   {
    "duration": 626,
    "start_time": "2024-09-06T17:25:44.063Z"
   },
   {
    "duration": 1014,
    "start_time": "2024-09-06T17:25:44.691Z"
   },
   {
    "duration": 129,
    "start_time": "2024-09-06T17:25:45.710Z"
   },
   {
    "duration": 0,
    "start_time": "2024-09-06T17:25:45.840Z"
   },
   {
    "duration": 0,
    "start_time": "2024-09-06T17:25:45.841Z"
   },
   {
    "duration": 0,
    "start_time": "2024-09-06T17:25:45.842Z"
   },
   {
    "duration": 0,
    "start_time": "2024-09-06T17:25:45.843Z"
   },
   {
    "duration": 0,
    "start_time": "2024-09-06T17:25:45.844Z"
   },
   {
    "duration": 0,
    "start_time": "2024-09-06T17:25:45.845Z"
   },
   {
    "duration": 0,
    "start_time": "2024-09-06T17:25:45.847Z"
   },
   {
    "duration": 0,
    "start_time": "2024-09-06T17:25:45.848Z"
   },
   {
    "duration": 0,
    "start_time": "2024-09-06T17:25:45.849Z"
   },
   {
    "duration": 10,
    "start_time": "2024-09-06T17:27:49.564Z"
   },
   {
    "duration": 17,
    "start_time": "2024-09-06T17:28:01.050Z"
   },
   {
    "duration": 26,
    "start_time": "2024-09-06T17:28:17.146Z"
   },
   {
    "duration": 20,
    "start_time": "2024-09-06T17:28:31.531Z"
   },
   {
    "duration": 5,
    "start_time": "2024-09-06T17:28:40.585Z"
   },
   {
    "duration": 4,
    "start_time": "2024-09-06T17:28:43.053Z"
   },
   {
    "duration": 1211,
    "start_time": "2024-09-06T17:29:17.317Z"
   },
   {
    "duration": 93,
    "start_time": "2024-09-06T17:29:18.530Z"
   },
   {
    "duration": 21,
    "start_time": "2024-09-06T17:29:18.624Z"
   },
   {
    "duration": 17,
    "start_time": "2024-09-06T17:29:18.646Z"
   },
   {
    "duration": 13,
    "start_time": "2024-09-06T17:29:18.664Z"
   },
   {
    "duration": 31,
    "start_time": "2024-09-06T17:29:18.679Z"
   },
   {
    "duration": 11,
    "start_time": "2024-09-06T17:29:18.711Z"
   },
   {
    "duration": 22,
    "start_time": "2024-09-06T17:29:18.724Z"
   },
   {
    "duration": 13,
    "start_time": "2024-09-06T17:29:18.748Z"
   },
   {
    "duration": 44,
    "start_time": "2024-09-06T17:29:18.762Z"
   },
   {
    "duration": 13,
    "start_time": "2024-09-06T17:29:18.808Z"
   },
   {
    "duration": 7,
    "start_time": "2024-09-06T17:29:18.822Z"
   },
   {
    "duration": 8,
    "start_time": "2024-09-06T17:29:18.831Z"
   },
   {
    "duration": 8,
    "start_time": "2024-09-06T17:29:18.841Z"
   },
   {
    "duration": 207,
    "start_time": "2024-09-06T17:29:18.851Z"
   },
   {
    "duration": 109,
    "start_time": "2024-09-06T17:29:19.060Z"
   },
   {
    "duration": 303,
    "start_time": "2024-09-06T17:29:19.171Z"
   },
   {
    "duration": 18,
    "start_time": "2024-09-06T17:29:19.476Z"
   },
   {
    "duration": 6,
    "start_time": "2024-09-06T17:29:19.504Z"
   },
   {
    "duration": 596,
    "start_time": "2024-09-06T17:29:19.512Z"
   },
   {
    "duration": 3,
    "start_time": "2024-09-06T17:29:20.110Z"
   },
   {
    "duration": 557,
    "start_time": "2024-09-06T17:29:20.115Z"
   },
   {
    "duration": 5,
    "start_time": "2024-09-06T17:29:20.673Z"
   },
   {
    "duration": 46,
    "start_time": "2024-09-06T17:29:20.679Z"
   },
   {
    "duration": 112,
    "start_time": "2024-09-06T17:29:20.727Z"
   },
   {
    "duration": 638,
    "start_time": "2024-09-06T17:29:20.841Z"
   },
   {
    "duration": 996,
    "start_time": "2024-09-06T17:29:21.481Z"
   },
   {
    "duration": 38,
    "start_time": "2024-09-06T17:29:22.479Z"
   },
   {
    "duration": 19,
    "start_time": "2024-09-06T17:29:22.519Z"
   },
   {
    "duration": 12,
    "start_time": "2024-09-06T17:29:22.540Z"
   },
   {
    "duration": 5,
    "start_time": "2024-09-06T17:29:22.554Z"
   },
   {
    "duration": 176,
    "start_time": "2024-09-06T17:29:22.561Z"
   },
   {
    "duration": 102,
    "start_time": "2024-09-06T17:29:22.738Z"
   },
   {
    "duration": 179,
    "start_time": "2024-09-06T17:29:22.841Z"
   },
   {
    "duration": 91,
    "start_time": "2024-09-06T17:29:23.022Z"
   },
   {
    "duration": 3,
    "start_time": "2024-09-06T17:29:23.114Z"
   },
   {
    "duration": 153,
    "start_time": "2024-09-06T17:29:23.118Z"
   },
   {
    "duration": 1219,
    "start_time": "2024-09-06T18:16:28.510Z"
   },
   {
    "duration": 96,
    "start_time": "2024-09-06T18:16:29.731Z"
   },
   {
    "duration": 23,
    "start_time": "2024-09-06T18:16:29.831Z"
   },
   {
    "duration": 19,
    "start_time": "2024-09-06T18:16:29.857Z"
   },
   {
    "duration": 37,
    "start_time": "2024-09-06T18:16:29.878Z"
   },
   {
    "duration": 43,
    "start_time": "2024-09-06T18:16:29.917Z"
   },
   {
    "duration": 12,
    "start_time": "2024-09-06T18:16:29.962Z"
   },
   {
    "duration": 37,
    "start_time": "2024-09-06T18:16:29.975Z"
   },
   {
    "duration": 84,
    "start_time": "2024-09-06T18:16:30.014Z"
   },
   {
    "duration": 33,
    "start_time": "2024-09-06T18:16:30.099Z"
   },
   {
    "duration": 34,
    "start_time": "2024-09-06T18:16:30.133Z"
   },
   {
    "duration": 44,
    "start_time": "2024-09-06T18:16:30.168Z"
   },
   {
    "duration": 52,
    "start_time": "2024-09-06T18:16:30.215Z"
   },
   {
    "duration": 62,
    "start_time": "2024-09-06T18:16:30.269Z"
   },
   {
    "duration": 195,
    "start_time": "2024-09-06T18:16:30.333Z"
   },
   {
    "duration": 110,
    "start_time": "2024-09-06T18:16:30.530Z"
   },
   {
    "duration": 306,
    "start_time": "2024-09-06T18:16:30.642Z"
   },
   {
    "duration": 17,
    "start_time": "2024-09-06T18:16:30.950Z"
   },
   {
    "duration": 7,
    "start_time": "2024-09-06T18:16:30.969Z"
   },
   {
    "duration": 535,
    "start_time": "2024-09-06T18:16:30.978Z"
   },
   {
    "duration": 3,
    "start_time": "2024-09-06T18:16:31.515Z"
   },
   {
    "duration": 563,
    "start_time": "2024-09-06T18:16:31.520Z"
   },
   {
    "duration": 3,
    "start_time": "2024-09-06T18:16:32.085Z"
   },
   {
    "duration": 28,
    "start_time": "2024-09-06T18:16:32.104Z"
   },
   {
    "duration": 132,
    "start_time": "2024-09-06T18:16:32.134Z"
   },
   {
    "duration": 660,
    "start_time": "2024-09-06T18:16:32.269Z"
   },
   {
    "duration": 1050,
    "start_time": "2024-09-06T18:16:32.931Z"
   },
   {
    "duration": 39,
    "start_time": "2024-09-06T18:16:33.983Z"
   },
   {
    "duration": 106,
    "start_time": "2024-09-06T18:16:34.024Z"
   },
   {
    "duration": 5,
    "start_time": "2024-09-06T18:16:34.132Z"
   },
   {
    "duration": 8,
    "start_time": "2024-09-06T18:16:34.138Z"
   },
   {
    "duration": 181,
    "start_time": "2024-09-06T18:16:34.148Z"
   },
   {
    "duration": 110,
    "start_time": "2024-09-06T18:16:34.331Z"
   },
   {
    "duration": 11466,
    "start_time": "2024-09-06T18:16:34.443Z"
   },
   {
    "duration": 80,
    "start_time": "2024-09-06T18:16:45.910Z"
   },
   {
    "duration": 15,
    "start_time": "2024-09-06T18:16:45.991Z"
   },
   {
    "duration": 200,
    "start_time": "2024-09-06T18:16:46.008Z"
   },
   {
    "duration": 3032,
    "start_time": "2024-09-06T18:20:37.069Z"
   },
   {
    "duration": 3037,
    "start_time": "2024-09-06T18:20:53.130Z"
   },
   {
    "duration": 4957,
    "start_time": "2024-09-06T18:29:21.765Z"
   },
   {
    "duration": 5044,
    "start_time": "2024-09-06T18:30:00.676Z"
   },
   {
    "duration": 1233,
    "start_time": "2024-09-06T18:59:01.692Z"
   },
   {
    "duration": 98,
    "start_time": "2024-09-06T18:59:02.927Z"
   },
   {
    "duration": 20,
    "start_time": "2024-09-06T18:59:03.027Z"
   },
   {
    "duration": 47,
    "start_time": "2024-09-06T18:59:03.048Z"
   },
   {
    "duration": 27,
    "start_time": "2024-09-06T18:59:03.097Z"
   },
   {
    "duration": 51,
    "start_time": "2024-09-06T18:59:03.126Z"
   },
   {
    "duration": 29,
    "start_time": "2024-09-06T18:59:03.179Z"
   },
   {
    "duration": 25,
    "start_time": "2024-09-06T18:59:03.209Z"
   },
   {
    "duration": 35,
    "start_time": "2024-09-06T18:59:03.235Z"
   },
   {
    "duration": 20,
    "start_time": "2024-09-06T18:59:03.272Z"
   },
   {
    "duration": 19,
    "start_time": "2024-09-06T18:59:03.294Z"
   },
   {
    "duration": 29,
    "start_time": "2024-09-06T18:59:03.314Z"
   },
   {
    "duration": 30,
    "start_time": "2024-09-06T18:59:03.344Z"
   },
   {
    "duration": 24,
    "start_time": "2024-09-06T18:59:03.377Z"
   },
   {
    "duration": 198,
    "start_time": "2024-09-06T18:59:03.402Z"
   },
   {
    "duration": 103,
    "start_time": "2024-09-06T18:59:03.604Z"
   },
   {
    "duration": 303,
    "start_time": "2024-09-06T18:59:03.709Z"
   },
   {
    "duration": 18,
    "start_time": "2024-09-06T18:59:04.013Z"
   },
   {
    "duration": 15,
    "start_time": "2024-09-06T18:59:04.033Z"
   },
   {
    "duration": 548,
    "start_time": "2024-09-06T18:59:04.049Z"
   },
   {
    "duration": 4,
    "start_time": "2024-09-06T18:59:04.604Z"
   },
   {
    "duration": 563,
    "start_time": "2024-09-06T18:59:04.609Z"
   },
   {
    "duration": 5,
    "start_time": "2024-09-06T18:59:05.173Z"
   },
   {
    "duration": 45,
    "start_time": "2024-09-06T18:59:05.180Z"
   },
   {
    "duration": 118,
    "start_time": "2024-09-06T18:59:05.227Z"
   },
   {
    "duration": 666,
    "start_time": "2024-09-06T18:59:05.347Z"
   },
   {
    "duration": 1057,
    "start_time": "2024-09-06T18:59:06.014Z"
   },
   {
    "duration": 39,
    "start_time": "2024-09-06T18:59:07.073Z"
   },
   {
    "duration": 27,
    "start_time": "2024-09-06T18:59:07.113Z"
   },
   {
    "duration": 17,
    "start_time": "2024-09-06T18:59:07.142Z"
   },
   {
    "duration": 4,
    "start_time": "2024-09-06T18:59:07.161Z"
   },
   {
    "duration": 178,
    "start_time": "2024-09-06T18:59:07.167Z"
   },
   {
    "duration": 107,
    "start_time": "2024-09-06T18:59:07.346Z"
   },
   {
    "duration": 11495,
    "start_time": "2024-09-06T18:59:07.455Z"
   },
   {
    "duration": 3042,
    "start_time": "2024-09-06T18:59:18.952Z"
   },
   {
    "duration": 4990,
    "start_time": "2024-09-06T18:59:21.996Z"
   },
   {
    "duration": 1421,
    "start_time": "2024-09-06T19:26:40.111Z"
   },
   {
    "duration": 218,
    "start_time": "2024-09-06T19:26:41.534Z"
   },
   {
    "duration": 22,
    "start_time": "2024-09-06T19:26:41.754Z"
   },
   {
    "duration": 18,
    "start_time": "2024-09-06T19:26:41.777Z"
   },
   {
    "duration": 13,
    "start_time": "2024-09-06T19:26:41.797Z"
   },
   {
    "duration": 14,
    "start_time": "2024-09-06T19:26:41.812Z"
   },
   {
    "duration": 12,
    "start_time": "2024-09-06T19:26:41.828Z"
   },
   {
    "duration": 24,
    "start_time": "2024-09-06T19:26:41.841Z"
   },
   {
    "duration": 43,
    "start_time": "2024-09-06T19:26:41.867Z"
   },
   {
    "duration": 4,
    "start_time": "2024-09-06T19:26:41.912Z"
   },
   {
    "duration": 8,
    "start_time": "2024-09-06T19:26:41.918Z"
   },
   {
    "duration": 7,
    "start_time": "2024-09-06T19:26:41.928Z"
   },
   {
    "duration": 20,
    "start_time": "2024-09-06T19:26:41.936Z"
   },
   {
    "duration": 7,
    "start_time": "2024-09-06T19:26:41.958Z"
   },
   {
    "duration": 200,
    "start_time": "2024-09-06T19:26:41.966Z"
   },
   {
    "duration": 107,
    "start_time": "2024-09-06T19:26:42.168Z"
   },
   {
    "duration": 294,
    "start_time": "2024-09-06T19:26:42.277Z"
   },
   {
    "duration": 29,
    "start_time": "2024-09-06T19:26:42.573Z"
   },
   {
    "duration": 14,
    "start_time": "2024-09-06T19:26:42.604Z"
   },
   {
    "duration": 583,
    "start_time": "2024-09-06T19:26:42.619Z"
   },
   {
    "duration": 3,
    "start_time": "2024-09-06T19:26:43.204Z"
   },
   {
    "duration": 568,
    "start_time": "2024-09-06T19:26:43.209Z"
   },
   {
    "duration": 4,
    "start_time": "2024-09-06T19:26:43.779Z"
   },
   {
    "duration": 41,
    "start_time": "2024-09-06T19:26:43.784Z"
   },
   {
    "duration": 126,
    "start_time": "2024-09-06T19:26:43.826Z"
   },
   {
    "duration": 646,
    "start_time": "2024-09-06T19:26:43.954Z"
   },
   {
    "duration": 970,
    "start_time": "2024-09-06T19:26:44.602Z"
   },
   {
    "duration": 36,
    "start_time": "2024-09-06T19:26:45.573Z"
   },
   {
    "duration": 21,
    "start_time": "2024-09-06T19:26:45.610Z"
   },
   {
    "duration": 4,
    "start_time": "2024-09-06T19:26:45.633Z"
   },
   {
    "duration": 4,
    "start_time": "2024-09-06T19:26:45.639Z"
   },
   {
    "duration": 196,
    "start_time": "2024-09-06T19:26:45.645Z"
   },
   {
    "duration": 100,
    "start_time": "2024-09-06T19:26:45.843Z"
   },
   {
    "duration": 10841,
    "start_time": "2024-09-06T19:26:45.944Z"
   },
   {
    "duration": 3135,
    "start_time": "2024-09-06T19:26:56.787Z"
   },
   {
    "duration": 4969,
    "start_time": "2024-09-06T19:26:59.923Z"
   },
   {
    "duration": 113,
    "start_time": "2024-09-06T19:28:44.605Z"
   },
   {
    "duration": 6,
    "start_time": "2024-09-06T19:28:49.242Z"
   },
   {
    "duration": 8,
    "start_time": "2024-09-06T19:29:23.666Z"
   },
   {
    "duration": 6,
    "start_time": "2024-09-06T19:29:38.658Z"
   },
   {
    "duration": 6,
    "start_time": "2024-09-06T19:29:40.493Z"
   },
   {
    "duration": 6,
    "start_time": "2024-09-06T19:29:52.016Z"
   },
   {
    "duration": 4,
    "start_time": "2024-09-06T19:30:14.496Z"
   },
   {
    "duration": 46,
    "start_time": "2024-09-07T13:46:22.411Z"
   },
   {
    "duration": 1331,
    "start_time": "2024-09-07T13:46:27.740Z"
   },
   {
    "duration": 320,
    "start_time": "2024-09-07T13:46:29.073Z"
   },
   {
    "duration": 19,
    "start_time": "2024-09-07T13:46:29.395Z"
   },
   {
    "duration": 19,
    "start_time": "2024-09-07T13:46:29.415Z"
   },
   {
    "duration": 12,
    "start_time": "2024-09-07T13:46:29.436Z"
   },
   {
    "duration": 15,
    "start_time": "2024-09-07T13:46:29.450Z"
   },
   {
    "duration": 9,
    "start_time": "2024-09-07T13:46:29.467Z"
   },
   {
    "duration": 21,
    "start_time": "2024-09-07T13:46:29.478Z"
   },
   {
    "duration": 12,
    "start_time": "2024-09-07T13:46:29.500Z"
   },
   {
    "duration": 4,
    "start_time": "2024-09-07T13:46:29.514Z"
   },
   {
    "duration": 99,
    "start_time": "2024-09-07T13:46:29.553Z"
   },
   {
    "duration": 7,
    "start_time": "2024-09-07T13:46:29.654Z"
   },
   {
    "duration": 7,
    "start_time": "2024-09-07T13:46:29.663Z"
   },
   {
    "duration": 131,
    "start_time": "2024-09-07T13:46:29.674Z"
   },
   {
    "duration": 175,
    "start_time": "2024-09-07T13:46:29.807Z"
   },
   {
    "duration": 104,
    "start_time": "2024-09-07T13:46:29.984Z"
   },
   {
    "duration": 300,
    "start_time": "2024-09-07T13:46:30.090Z"
   },
   {
    "duration": 17,
    "start_time": "2024-09-07T13:46:30.392Z"
   },
   {
    "duration": 26,
    "start_time": "2024-09-07T13:46:30.411Z"
   },
   {
    "duration": 498,
    "start_time": "2024-09-07T13:46:30.439Z"
   },
   {
    "duration": 4,
    "start_time": "2024-09-07T13:46:30.939Z"
   },
   {
    "duration": 455,
    "start_time": "2024-09-07T13:46:30.953Z"
   },
   {
    "duration": 4,
    "start_time": "2024-09-07T13:46:31.410Z"
   },
   {
    "duration": 62,
    "start_time": "2024-09-07T13:46:31.415Z"
   },
   {
    "duration": 112,
    "start_time": "2024-09-07T13:46:31.478Z"
   },
   {
    "duration": 645,
    "start_time": "2024-09-07T13:46:31.592Z"
   },
   {
    "duration": 1080,
    "start_time": "2024-09-07T13:46:32.239Z"
   },
   {
    "duration": 32,
    "start_time": "2024-09-07T13:46:33.321Z"
   },
   {
    "duration": 24,
    "start_time": "2024-09-07T13:46:33.355Z"
   },
   {
    "duration": 6,
    "start_time": "2024-09-07T13:46:33.380Z"
   },
   {
    "duration": 71,
    "start_time": "2024-09-07T13:46:33.387Z"
   },
   {
    "duration": 331,
    "start_time": "2024-09-07T13:46:33.460Z"
   },
   {
    "duration": 111,
    "start_time": "2024-09-07T13:46:33.793Z"
   },
   {
    "duration": 5,
    "start_time": "2024-09-07T13:46:33.905Z"
   },
   {
    "duration": 2882,
    "start_time": "2024-09-07T13:46:33.911Z"
   },
   {
    "duration": 4,
    "start_time": "2024-09-07T13:46:36.795Z"
   },
   {
    "duration": 4677,
    "start_time": "2024-09-07T13:46:36.800Z"
   },
   {
    "duration": 7,
    "start_time": "2024-09-07T13:48:04.284Z"
   },
   {
    "duration": 5,
    "start_time": "2024-09-07T13:48:07.200Z"
   },
   {
    "duration": 5,
    "start_time": "2024-09-07T13:48:09.643Z"
   },
   {
    "duration": 4,
    "start_time": "2024-09-07T13:49:05.680Z"
   },
   {
    "duration": 5,
    "start_time": "2024-09-07T13:49:13.211Z"
   },
   {
    "duration": 1069,
    "start_time": "2024-09-07T13:50:42.789Z"
   },
   {
    "duration": 109,
    "start_time": "2024-09-07T13:50:43.860Z"
   },
   {
    "duration": 18,
    "start_time": "2024-09-07T13:50:43.971Z"
   },
   {
    "duration": 15,
    "start_time": "2024-09-07T13:50:43.991Z"
   },
   {
    "duration": 13,
    "start_time": "2024-09-07T13:50:44.008Z"
   },
   {
    "duration": 15,
    "start_time": "2024-09-07T13:50:44.023Z"
   },
   {
    "duration": 11,
    "start_time": "2024-09-07T13:50:44.053Z"
   },
   {
    "duration": 21,
    "start_time": "2024-09-07T13:50:44.066Z"
   },
   {
    "duration": 12,
    "start_time": "2024-09-07T13:50:44.088Z"
   },
   {
    "duration": 4,
    "start_time": "2024-09-07T13:50:44.102Z"
   },
   {
    "duration": 16,
    "start_time": "2024-09-07T13:50:44.107Z"
   },
   {
    "duration": 33,
    "start_time": "2024-09-07T13:50:44.124Z"
   },
   {
    "duration": 8,
    "start_time": "2024-09-07T13:50:44.158Z"
   },
   {
    "duration": 4,
    "start_time": "2024-09-07T13:50:44.168Z"
   },
   {
    "duration": 190,
    "start_time": "2024-09-07T13:50:44.173Z"
   },
   {
    "duration": 92,
    "start_time": "2024-09-07T13:50:44.365Z"
   },
   {
    "duration": 302,
    "start_time": "2024-09-07T13:50:44.458Z"
   },
   {
    "duration": 17,
    "start_time": "2024-09-07T13:50:44.761Z"
   },
   {
    "duration": 4,
    "start_time": "2024-09-07T13:50:44.780Z"
   },
   {
    "duration": 556,
    "start_time": "2024-09-07T13:50:44.786Z"
   },
   {
    "duration": 4,
    "start_time": "2024-09-07T13:50:45.343Z"
   },
   {
    "duration": 474,
    "start_time": "2024-09-07T13:50:45.353Z"
   },
   {
    "duration": 4,
    "start_time": "2024-09-07T13:50:45.829Z"
   },
   {
    "duration": 40,
    "start_time": "2024-09-07T13:50:45.835Z"
   },
   {
    "duration": 115,
    "start_time": "2024-09-07T13:50:45.877Z"
   },
   {
    "duration": 601,
    "start_time": "2024-09-07T13:50:45.994Z"
   },
   {
    "duration": 1010,
    "start_time": "2024-09-07T13:50:46.597Z"
   },
   {
    "duration": 24,
    "start_time": "2024-09-07T13:50:47.609Z"
   },
   {
    "duration": 18,
    "start_time": "2024-09-07T13:50:47.652Z"
   },
   {
    "duration": 4,
    "start_time": "2024-09-07T13:50:47.672Z"
   },
   {
    "duration": 5,
    "start_time": "2024-09-07T13:50:47.677Z"
   },
   {
    "duration": 165,
    "start_time": "2024-09-07T13:50:47.683Z"
   },
   {
    "duration": 88,
    "start_time": "2024-09-07T13:50:47.853Z"
   },
   {
    "duration": 12,
    "start_time": "2024-09-07T13:50:47.943Z"
   },
   {
    "duration": 24,
    "start_time": "2024-09-07T13:50:47.957Z"
   },
   {
    "duration": 5,
    "start_time": "2024-09-07T13:50:47.982Z"
   },
   {
    "duration": 5,
    "start_time": "2024-09-07T13:50:47.989Z"
   }
  ],
  "kernelspec": {
   "display_name": "Python 3 (ipykernel)",
   "language": "python",
   "name": "python3"
  },
  "language_info": {
   "codemirror_mode": {
    "name": "ipython",
    "version": 3
   },
   "file_extension": ".py",
   "mimetype": "text/x-python",
   "name": "python",
   "nbconvert_exporter": "python",
   "pygments_lexer": "ipython3",
   "version": "3.12.7"
  },
  "toc": {
   "base_numbering": 1,
   "nav_menu": {},
   "number_sections": true,
   "sideBar": true,
   "skip_h1_title": true,
   "title_cell": "Table of Contents",
   "title_sidebar": "Contents",
   "toc_cell": false,
   "toc_position": {
    "height": "calc(100% - 180px)",
    "left": "10px",
    "top": "150px",
    "width": "294px"
   },
   "toc_section_display": true,
   "toc_window_display": true
  }
 },
 "nbformat": 4,
 "nbformat_minor": 5
}
