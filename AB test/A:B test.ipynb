{
 "cells": [
  {
   "cell_type": "markdown",
   "id": "eb026cd8-9e90-428e-b50d-19dc98c899c2",
   "metadata": {},
   "source": [
    "# Проект: Принятие решений в бизнесе\n",
    "Вы — аналитик крупного интернет-магазина. Вместе с отделом маркетинга вы подготовили список гипотез для увеличения выручки.\n",
    "Приоритизируйте гипотезы, запустите A/B-тест и проанализируйте результаты. \n",
    "\n",
    "__Цель проекта:__  \n",
    "Данный тренировочный проект направлен на закрепление навыков приоритизации гипотез с помощью фрейморков ICE и RICE, а также навыков анализа результатов A/B тестов. \n",
    "\n",
    "__Ход работы:__  \n",
    "___В первой части___ проекта мы применим фреймфорки ICE и RICE  к датасету с гипотезами и их параметрами, и сравним результаты.  \n",
    "___Во второй части___ проекта мы:\n",
    "1. Построим графики:\n",
    "    - кумулятивной выручки\n",
    "    - кумулятивного среднего чека и его относительного изменения\n",
    "    - кумулятивного среднего количества заказов на посетителя и его относительного изменения\n",
    "    - количества заказов и стоимости заказов\n",
    "2. Расчитаем перцентили для количества заказов и стоимости заказов для нахождения верхних границ\n",
    "3. Расчитаны статистические значимости в среднем количестве заказов на посетителя и в среднем чеке по группам как по сырым данным, так и по очищенным\n",
    "4. И сделаем на основе возникших фактов выводы об остановке (в связи с победой какой то из групп или бессмысленностью продолжения) или продолжении теста"
   ]
  },
  {
   "cell_type": "markdown",
   "id": "d2afbb7a-7a52-4c07-b5a2-f7194b19d612",
   "metadata": {},
   "source": [
    "## Исходные данные"
   ]
  },
  {
   "cell_type": "code",
   "execution_count": 1,
   "id": "14e21b73-9761-40e3-bce7-9dbc094a35de",
   "metadata": {},
   "outputs": [],
   "source": [
    "# Подключаем нужные библиотеки\n",
    "import pandas as pd\n",
    "import matplotlib.pyplot as plt\n",
    "import numpy as np\n",
    "import scipy.stats as stats\n",
    "import datetime as dt"
   ]
  },
  {
   "cell_type": "code",
   "execution_count": 2,
   "id": "7abe087f-3642-4354-a9d1-51d504659769",
   "metadata": {},
   "outputs": [],
   "source": [
    "# Подключаем исходные датафреймы\n",
    "try:\n",
    "    hyp = pd.read_csv('hypothesis.csv')\n",
    "    orders = pd.read_csv('orders.csv')\n",
    "    visitors = pd.read_csv('visitors.csv')\n",
    "except:\n",
    "    hyp = pd.read_csv('/datasets/hypothesis.csv')\n",
    "    orders = pd.read_csv('/datasets/orders.csv')\n",
    "    visitors = pd.read_csv('/datasets/visitors.csv')    "
   ]
  },
  {
   "cell_type": "code",
   "execution_count": 3,
   "id": "ed4e88c5-dc9b-4e19-9231-03054cbd52d4",
   "metadata": {},
   "outputs": [
    {
     "name": "stdout",
     "output_type": "stream",
     "text": [
      "<class 'pandas.core.frame.DataFrame'>\n",
      "RangeIndex: 9 entries, 0 to 8\n",
      "Data columns (total 5 columns):\n",
      " #   Column      Non-Null Count  Dtype \n",
      "---  ------      --------------  ----- \n",
      " 0   Hypothesis  9 non-null      object\n",
      " 1   Reach       9 non-null      int64 \n",
      " 2   Impact      9 non-null      int64 \n",
      " 3   Confidence  9 non-null      int64 \n",
      " 4   Efforts     9 non-null      int64 \n",
      "dtypes: int64(4), object(1)\n",
      "memory usage: 488.0+ bytes\n"
     ]
    },
    {
     "data": {
      "text/plain": [
       "None"
      ]
     },
     "metadata": {},
     "output_type": "display_data"
    },
    {
     "name": "stdout",
     "output_type": "stream",
     "text": [
      "<class 'pandas.core.frame.DataFrame'>\n",
      "RangeIndex: 1197 entries, 0 to 1196\n",
      "Data columns (total 5 columns):\n",
      " #   Column         Non-Null Count  Dtype \n",
      "---  ------         --------------  ----- \n",
      " 0   transactionId  1197 non-null   int64 \n",
      " 1   visitorId      1197 non-null   int64 \n",
      " 2   date           1197 non-null   object\n",
      " 3   revenue        1197 non-null   int64 \n",
      " 4   group          1197 non-null   object\n",
      "dtypes: int64(3), object(2)\n",
      "memory usage: 46.9+ KB\n"
     ]
    },
    {
     "data": {
      "text/plain": [
       "None"
      ]
     },
     "metadata": {},
     "output_type": "display_data"
    },
    {
     "name": "stdout",
     "output_type": "stream",
     "text": [
      "<class 'pandas.core.frame.DataFrame'>\n",
      "RangeIndex: 62 entries, 0 to 61\n",
      "Data columns (total 3 columns):\n",
      " #   Column    Non-Null Count  Dtype \n",
      "---  ------    --------------  ----- \n",
      " 0   date      62 non-null     object\n",
      " 1   group     62 non-null     object\n",
      " 2   visitors  62 non-null     int64 \n",
      "dtypes: int64(1), object(2)\n",
      "memory usage: 1.6+ KB\n"
     ]
    },
    {
     "data": {
      "text/plain": [
       "None"
      ]
     },
     "metadata": {},
     "output_type": "display_data"
    }
   ],
   "source": [
    "# выведем общую информацию\n",
    "display(hyp.info())\n",
    "display(orders.info())\n",
    "display(visitors.info())"
   ]
  },
  {
   "cell_type": "markdown",
   "id": "b75f51e8-9cb0-4288-8648-9ccf6a9ba09e",
   "metadata": {},
   "source": [
    "пустых строк не обнаружено!"
   ]
  },
  {
   "cell_type": "markdown",
   "id": "00e84c28-acc8-418d-b0f4-7bf71192c7e4",
   "metadata": {},
   "source": [
    "## Первая часть: Приоритизация гипотез"
   ]
  },
  {
   "cell_type": "markdown",
   "id": "c4696c15-3df8-4292-9608-8521cc6da012",
   "metadata": {},
   "source": [
    "### Фреймворк ICE"
   ]
  },
  {
   "cell_type": "code",
   "execution_count": 4,
   "id": "44b2d6bd-aa7b-44bb-ada7-91ea14dfc5d4",
   "metadata": {},
   "outputs": [
    {
     "data": {
      "text/html": [
       "<div>\n",
       "<style scoped>\n",
       "    .dataframe tbody tr th:only-of-type {\n",
       "        vertical-align: middle;\n",
       "    }\n",
       "\n",
       "    .dataframe tbody tr th {\n",
       "        vertical-align: top;\n",
       "    }\n",
       "\n",
       "    .dataframe thead th {\n",
       "        text-align: right;\n",
       "    }\n",
       "</style>\n",
       "<table border=\"1\" class=\"dataframe\">\n",
       "  <thead>\n",
       "    <tr style=\"text-align: right;\">\n",
       "      <th></th>\n",
       "      <th>Hypothesis</th>\n",
       "      <th>ICE</th>\n",
       "    </tr>\n",
       "  </thead>\n",
       "  <tbody>\n",
       "    <tr>\n",
       "      <th>8</th>\n",
       "      <td>Запустить акцию, дающую скидку на товар в день...</td>\n",
       "      <td>16.200000</td>\n",
       "    </tr>\n",
       "    <tr>\n",
       "      <th>0</th>\n",
       "      <td>Добавить два новых канала привлечения трафика,...</td>\n",
       "      <td>13.333333</td>\n",
       "    </tr>\n",
       "    <tr>\n",
       "      <th>7</th>\n",
       "      <td>Добавить форму подписки на все основные страни...</td>\n",
       "      <td>11.200000</td>\n",
       "    </tr>\n",
       "    <tr>\n",
       "      <th>6</th>\n",
       "      <td>Показать на главной странице баннеры с актуаль...</td>\n",
       "      <td>8.000000</td>\n",
       "    </tr>\n",
       "    <tr>\n",
       "      <th>2</th>\n",
       "      <td>Добавить блоки рекомендаций товаров на сайт ин...</td>\n",
       "      <td>7.000000</td>\n",
       "    </tr>\n",
       "    <tr>\n",
       "      <th>1</th>\n",
       "      <td>Запустить собственную службу доставки, что сок...</td>\n",
       "      <td>2.000000</td>\n",
       "    </tr>\n",
       "    <tr>\n",
       "      <th>5</th>\n",
       "      <td>Добавить страницу отзывов клиентов о магазине,...</td>\n",
       "      <td>1.333333</td>\n",
       "    </tr>\n",
       "    <tr>\n",
       "      <th>3</th>\n",
       "      <td>Изменить структура категорий, что увеличит кон...</td>\n",
       "      <td>1.125000</td>\n",
       "    </tr>\n",
       "    <tr>\n",
       "      <th>4</th>\n",
       "      <td>Изменить цвет фона главной страницы, чтобы уве...</td>\n",
       "      <td>1.000000</td>\n",
       "    </tr>\n",
       "  </tbody>\n",
       "</table>\n",
       "</div>"
      ],
      "text/plain": [
       "                                          Hypothesis        ICE\n",
       "8  Запустить акцию, дающую скидку на товар в день...  16.200000\n",
       "0  Добавить два новых канала привлечения трафика,...  13.333333\n",
       "7  Добавить форму подписки на все основные страни...  11.200000\n",
       "6  Показать на главной странице баннеры с актуаль...   8.000000\n",
       "2  Добавить блоки рекомендаций товаров на сайт ин...   7.000000\n",
       "1  Запустить собственную службу доставки, что сок...   2.000000\n",
       "5  Добавить страницу отзывов клиентов о магазине,...   1.333333\n",
       "3  Изменить структура категорий, что увеличит кон...   1.125000\n",
       "4  Изменить цвет фона главной страницы, чтобы уве...   1.000000"
      ]
     },
     "execution_count": 4,
     "metadata": {},
     "output_type": "execute_result"
    }
   ],
   "source": [
    "# добавим к датасету hyp стобец ice с результатами метода ICE\n",
    "hyp['ICE'] = (hyp['Impact']*hyp['Confidence'])/hyp['Efforts']\n",
    "hyp[['Hypothesis','ICE']].sort_values(by='ICE', ascending=False)"
   ]
  },
  {
   "cell_type": "markdown",
   "id": "75556a7c-7f18-4de3-86cf-25ba2bccc19a",
   "metadata": {},
   "source": [
    "### Фреймворк RICE"
   ]
  },
  {
   "cell_type": "code",
   "execution_count": 5,
   "id": "5fdfe9e9-6408-48e9-8f9b-b527779d59f1",
   "metadata": {},
   "outputs": [
    {
     "data": {
      "text/html": [
       "<div>\n",
       "<style scoped>\n",
       "    .dataframe tbody tr th:only-of-type {\n",
       "        vertical-align: middle;\n",
       "    }\n",
       "\n",
       "    .dataframe tbody tr th {\n",
       "        vertical-align: top;\n",
       "    }\n",
       "\n",
       "    .dataframe thead th {\n",
       "        text-align: right;\n",
       "    }\n",
       "</style>\n",
       "<table border=\"1\" class=\"dataframe\">\n",
       "  <thead>\n",
       "    <tr style=\"text-align: right;\">\n",
       "      <th></th>\n",
       "      <th>Hypothesis</th>\n",
       "      <th>RICE</th>\n",
       "    </tr>\n",
       "  </thead>\n",
       "  <tbody>\n",
       "    <tr>\n",
       "      <th>7</th>\n",
       "      <td>Добавить форму подписки на все основные страницы, чтобы собрать базу клиентов для email-рассылок</td>\n",
       "      <td>112.0</td>\n",
       "    </tr>\n",
       "    <tr>\n",
       "      <th>2</th>\n",
       "      <td>Добавить блоки рекомендаций товаров на сайт интернет магазина, чтобы повысить конверсию и средний чек заказа</td>\n",
       "      <td>56.0</td>\n",
       "    </tr>\n",
       "    <tr>\n",
       "      <th>0</th>\n",
       "      <td>Добавить два новых канала привлечения трафика, что позволит привлекать на 30% больше пользователей</td>\n",
       "      <td>40.0</td>\n",
       "    </tr>\n",
       "    <tr>\n",
       "      <th>6</th>\n",
       "      <td>Показать на главной странице баннеры с актуальными акциями и распродажами, чтобы увеличить конверсию</td>\n",
       "      <td>40.0</td>\n",
       "    </tr>\n",
       "    <tr>\n",
       "      <th>8</th>\n",
       "      <td>Запустить акцию, дающую скидку на товар в день рождения</td>\n",
       "      <td>16.2</td>\n",
       "    </tr>\n",
       "    <tr>\n",
       "      <th>3</th>\n",
       "      <td>Изменить структура категорий, что увеличит конверсию, т.к. пользователи быстрее найдут нужный товар</td>\n",
       "      <td>9.0</td>\n",
       "    </tr>\n",
       "    <tr>\n",
       "      <th>1</th>\n",
       "      <td>Запустить собственную службу доставки, что сократит срок доставки заказов</td>\n",
       "      <td>4.0</td>\n",
       "    </tr>\n",
       "    <tr>\n",
       "      <th>5</th>\n",
       "      <td>Добавить страницу отзывов клиентов о магазине, что позволит увеличить количество заказов</td>\n",
       "      <td>4.0</td>\n",
       "    </tr>\n",
       "    <tr>\n",
       "      <th>4</th>\n",
       "      <td>Изменить цвет фона главной страницы, чтобы увеличить вовлеченность пользователей</td>\n",
       "      <td>3.0</td>\n",
       "    </tr>\n",
       "  </tbody>\n",
       "</table>\n",
       "</div>"
      ],
      "text/plain": [
       "                                                                                                     Hypothesis  \\\n",
       "7  Добавить форму подписки на все основные страницы, чтобы собрать базу клиентов для email-рассылок               \n",
       "2  Добавить блоки рекомендаций товаров на сайт интернет магазина, чтобы повысить конверсию и средний чек заказа   \n",
       "0  Добавить два новых канала привлечения трафика, что позволит привлекать на 30% больше пользователей             \n",
       "6  Показать на главной странице баннеры с актуальными акциями и распродажами, чтобы увеличить конверсию           \n",
       "8  Запустить акцию, дающую скидку на товар в день рождения                                                        \n",
       "3  Изменить структура категорий, что увеличит конверсию, т.к. пользователи быстрее найдут нужный товар            \n",
       "1  Запустить собственную службу доставки, что сократит срок доставки заказов                                      \n",
       "5  Добавить страницу отзывов клиентов о магазине, что позволит увеличить количество заказов                       \n",
       "4  Изменить цвет фона главной страницы, чтобы увеличить вовлеченность пользователей                               \n",
       "\n",
       "    RICE  \n",
       "7  112.0  \n",
       "2  56.0   \n",
       "0  40.0   \n",
       "6  40.0   \n",
       "8  16.2   \n",
       "3  9.0    \n",
       "1  4.0    \n",
       "5  4.0    \n",
       "4  3.0    "
      ]
     },
     "execution_count": 5,
     "metadata": {},
     "output_type": "execute_result"
    }
   ],
   "source": [
    "pd.options.display.max_colwidth = 1\n",
    "# добавим к датасету hyp стобец RICE с результатами метода RICE\n",
    "hyp['RICE'] = (hyp['Reach'] * hyp['Impact'] * hyp['Confidence'])/hyp['Efforts']\n",
    "hyp[['Hypothesis','RICE']].sort_values(by='RICE', ascending=False)"
   ]
  },
  {
   "cell_type": "markdown",
   "id": "a8dad98a-4ba1-4cc4-847c-f15f77ce0864",
   "metadata": {},
   "source": [
    "### Сравнение результатов"
   ]
  },
  {
   "cell_type": "markdown",
   "id": "d5b18f50-7296-410b-bd5a-62f5c1bbe2ad",
   "metadata": {},
   "source": [
    "При применении методов RICE и ICE в топе 5 оказываются один и тот же набор гипотез, но внутри этого топа распределение довольно сильно разнится.  \n",
    "В отличии от метода ICE, при котором лидирующей гипотезой становится скидка на день рождения, метод RICE выдвигает в качестве лидера добавление формы подписки на все основные страницы. Такая разница обусловлена параметром reach, который прямо пропорционален доли от общего числа пользователей,которую затронут изменения.  \n",
    "Очевидно, что скидка на день рождения будет касаться далеко не всех, а добавление формы подписки затронет большинство."
   ]
  },
  {
   "cell_type": "markdown",
   "id": "9599cb12-f70a-446d-a184-8797099ba7f3",
   "metadata": {},
   "source": [
    "## Вторая часть: Анализ A/B-теста"
   ]
  },
  {
   "cell_type": "markdown",
   "id": "c323f4d6",
   "metadata": {},
   "source": [
    "### Предобработка данных"
   ]
  },
  {
   "cell_type": "code",
   "execution_count": 6,
   "id": "cc078ac8",
   "metadata": {},
   "outputs": [
    {
     "name": "stdout",
     "output_type": "stream",
     "text": [
      "<class 'pandas.core.frame.DataFrame'>\n",
      "RangeIndex: 1197 entries, 0 to 1196\n",
      "Data columns (total 5 columns):\n",
      " #   Column         Non-Null Count  Dtype \n",
      "---  ------         --------------  ----- \n",
      " 0   transactionId  1197 non-null   int64 \n",
      " 1   visitorId      1197 non-null   int64 \n",
      " 2   date           1197 non-null   object\n",
      " 3   revenue        1197 non-null   int64 \n",
      " 4   group          1197 non-null   object\n",
      "dtypes: int64(3), object(2)\n",
      "memory usage: 46.9+ KB\n",
      "None\n",
      "<class 'pandas.core.frame.DataFrame'>\n",
      "RangeIndex: 62 entries, 0 to 61\n",
      "Data columns (total 3 columns):\n",
      " #   Column    Non-Null Count  Dtype \n",
      "---  ------    --------------  ----- \n",
      " 0   date      62 non-null     object\n",
      " 1   group     62 non-null     object\n",
      " 2   visitors  62 non-null     int64 \n",
      "dtypes: int64(1), object(2)\n",
      "memory usage: 1.6+ KB\n",
      "None\n"
     ]
    }
   ],
   "source": [
    "# выведем общую информацию о датафреймах\n",
    "print(orders.info())\n",
    "print(visitors.info())\n",
    "# изменим тип date с object на datetime\n",
    "orders['date'] = orders['date'].map(\n",
    "    lambda x: dt.datetime.strptime(x, '%Y-%m-%d')\n",
    ")\n",
    "visitors['date'] = visitors['date'].map(\n",
    "    lambda x: dt.datetime.strptime(x, '%Y-%m-%d')\n",
    ")"
   ]
  },
  {
   "cell_type": "code",
   "execution_count": 7,
   "id": "9179379f",
   "metadata": {},
   "outputs": [
    {
     "name": "stdout",
     "output_type": "stream",
     "text": [
      "<class 'pandas.core.frame.DataFrame'>\n",
      "RangeIndex: 1197 entries, 0 to 1196\n",
      "Data columns (total 5 columns):\n",
      " #   Column         Non-Null Count  Dtype         \n",
      "---  ------         --------------  -----         \n",
      " 0   transactionId  1197 non-null   int64         \n",
      " 1   visitorId      1197 non-null   int64         \n",
      " 2   date           1197 non-null   datetime64[ns]\n",
      " 3   revenue        1197 non-null   int64         \n",
      " 4   group          1197 non-null   object        \n",
      "dtypes: datetime64[ns](1), int64(3), object(1)\n",
      "memory usage: 46.9+ KB\n",
      "None\n",
      "<class 'pandas.core.frame.DataFrame'>\n",
      "RangeIndex: 62 entries, 0 to 61\n",
      "Data columns (total 3 columns):\n",
      " #   Column    Non-Null Count  Dtype         \n",
      "---  ------    --------------  -----         \n",
      " 0   date      62 non-null     datetime64[ns]\n",
      " 1   group     62 non-null     object        \n",
      " 2   visitors  62 non-null     int64         \n",
      "dtypes: datetime64[ns](1), int64(1), object(1)\n",
      "memory usage: 1.6+ KB\n",
      "None\n"
     ]
    }
   ],
   "source": [
    "# проверим\n",
    "print(orders.info())\n",
    "print(visitors.info())"
   ]
  },
  {
   "cell_type": "code",
   "execution_count": 8,
   "id": "14fb2834",
   "metadata": {},
   "outputs": [
    {
     "data": {
      "text/html": [
       "<div>\n",
       "<style scoped>\n",
       "    .dataframe tbody tr th:only-of-type {\n",
       "        vertical-align: middle;\n",
       "    }\n",
       "\n",
       "    .dataframe tbody tr th {\n",
       "        vertical-align: top;\n",
       "    }\n",
       "\n",
       "    .dataframe thead th {\n",
       "        text-align: right;\n",
       "    }\n",
       "</style>\n",
       "<table border=\"1\" class=\"dataframe\">\n",
       "  <thead>\n",
       "    <tr style=\"text-align: right;\">\n",
       "      <th></th>\n",
       "      <th>transactionId</th>\n",
       "      <th>visitorId</th>\n",
       "      <th>date</th>\n",
       "      <th>revenue</th>\n",
       "      <th>group</th>\n",
       "    </tr>\n",
       "  </thead>\n",
       "  <tbody>\n",
       "    <tr>\n",
       "      <th>0</th>\n",
       "      <td>3667963787</td>\n",
       "      <td>3312258926</td>\n",
       "      <td>2019-08-15</td>\n",
       "      <td>1650</td>\n",
       "      <td>B</td>\n",
       "    </tr>\n",
       "    <tr>\n",
       "      <th>1</th>\n",
       "      <td>2804400009</td>\n",
       "      <td>3642806036</td>\n",
       "      <td>2019-08-15</td>\n",
       "      <td>730</td>\n",
       "      <td>B</td>\n",
       "    </tr>\n",
       "    <tr>\n",
       "      <th>2</th>\n",
       "      <td>2961555356</td>\n",
       "      <td>4069496402</td>\n",
       "      <td>2019-08-15</td>\n",
       "      <td>400</td>\n",
       "      <td>A</td>\n",
       "    </tr>\n",
       "    <tr>\n",
       "      <th>3</th>\n",
       "      <td>3797467345</td>\n",
       "      <td>1196621759</td>\n",
       "      <td>2019-08-15</td>\n",
       "      <td>9759</td>\n",
       "      <td>B</td>\n",
       "    </tr>\n",
       "    <tr>\n",
       "      <th>4</th>\n",
       "      <td>2282983706</td>\n",
       "      <td>2322279887</td>\n",
       "      <td>2019-08-15</td>\n",
       "      <td>2308</td>\n",
       "      <td>B</td>\n",
       "    </tr>\n",
       "  </tbody>\n",
       "</table>\n",
       "</div>"
      ],
      "text/plain": [
       "   transactionId   visitorId       date  revenue group\n",
       "0  3667963787     3312258926 2019-08-15  1650     B   \n",
       "1  2804400009     3642806036 2019-08-15  730      B   \n",
       "2  2961555356     4069496402 2019-08-15  400      A   \n",
       "3  3797467345     1196621759 2019-08-15  9759     B   \n",
       "4  2282983706     2322279887 2019-08-15  2308     B   "
      ]
     },
     "metadata": {},
     "output_type": "display_data"
    },
    {
     "data": {
      "text/html": [
       "<div>\n",
       "<style scoped>\n",
       "    .dataframe tbody tr th:only-of-type {\n",
       "        vertical-align: middle;\n",
       "    }\n",
       "\n",
       "    .dataframe tbody tr th {\n",
       "        vertical-align: top;\n",
       "    }\n",
       "\n",
       "    .dataframe thead th {\n",
       "        text-align: right;\n",
       "    }\n",
       "</style>\n",
       "<table border=\"1\" class=\"dataframe\">\n",
       "  <thead>\n",
       "    <tr style=\"text-align: right;\">\n",
       "      <th></th>\n",
       "      <th>date</th>\n",
       "      <th>group</th>\n",
       "      <th>visitors</th>\n",
       "    </tr>\n",
       "  </thead>\n",
       "  <tbody>\n",
       "    <tr>\n",
       "      <th>0</th>\n",
       "      <td>2019-08-01</td>\n",
       "      <td>A</td>\n",
       "      <td>719</td>\n",
       "    </tr>\n",
       "    <tr>\n",
       "      <th>1</th>\n",
       "      <td>2019-08-02</td>\n",
       "      <td>A</td>\n",
       "      <td>619</td>\n",
       "    </tr>\n",
       "    <tr>\n",
       "      <th>2</th>\n",
       "      <td>2019-08-03</td>\n",
       "      <td>A</td>\n",
       "      <td>507</td>\n",
       "    </tr>\n",
       "    <tr>\n",
       "      <th>3</th>\n",
       "      <td>2019-08-04</td>\n",
       "      <td>A</td>\n",
       "      <td>717</td>\n",
       "    </tr>\n",
       "    <tr>\n",
       "      <th>4</th>\n",
       "      <td>2019-08-05</td>\n",
       "      <td>A</td>\n",
       "      <td>756</td>\n",
       "    </tr>\n",
       "  </tbody>\n",
       "</table>\n",
       "</div>"
      ],
      "text/plain": [
       "        date group  visitors\n",
       "0 2019-08-01  A     719     \n",
       "1 2019-08-02  A     619     \n",
       "2 2019-08-03  A     507     \n",
       "3 2019-08-04  A     717     \n",
       "4 2019-08-05  A     756     "
      ]
     },
     "metadata": {},
     "output_type": "display_data"
    }
   ],
   "source": [
    "display(orders.head())\n",
    "display(visitors.head())"
   ]
  },
  {
   "cell_type": "code",
   "execution_count": 9,
   "id": "8c793cc8",
   "metadata": {},
   "outputs": [
    {
     "name": "stdout",
     "output_type": "stream",
     "text": [
      "0\n",
      "0\n"
     ]
    }
   ],
   "source": [
    "# Проверка на дубликаты\n",
    "print(orders.duplicated().sum())\n",
    "print(visitors.duplicated().sum())"
   ]
  },
  {
   "cell_type": "markdown",
   "id": "67fdbfa2",
   "metadata": {},
   "source": [
    "Пустых строк и дубликатов не обнаружено!  \n",
    "Изменили тип date с object на datetime"
   ]
  },
  {
   "cell_type": "markdown",
   "id": "c0aa4e06",
   "metadata": {},
   "source": [
    "### Проверка уникальности пользователей внутри различных групп"
   ]
  },
  {
   "cell_type": "code",
   "execution_count": 10,
   "id": "763d3a2f",
   "metadata": {},
   "outputs": [
    {
     "name": "stdout",
     "output_type": "stream",
     "text": [
      "58 1089\n"
     ]
    }
   ],
   "source": [
    "# Создадим списки пользователей по группам\n",
    "orA_list = list(orders[orders['group']=='A']['visitorId'].unique())\n",
    "orB_list = list(orders[orders['group']=='B']['visitorId'].unique())\n",
    "# Проверим перечение пользователей между группами\n",
    "per = list(set(orA_list) & set(orB_list))\n",
    "print(len(per),len(orA_list)+len(orB_list))"
   ]
  },
  {
   "cell_type": "markdown",
   "id": "3a0b4981",
   "metadata": {},
   "source": [
    "целых 58 пользователей были включены в обе группы, для корректности анализа необходимо их исключить из датафрейма"
   ]
  },
  {
   "cell_type": "code",
   "execution_count": 11,
   "id": "f1941ebe",
   "metadata": {},
   "outputs": [
    {
     "name": "stdout",
     "output_type": "stream",
     "text": [
      "Датафрейм orders уменьшился на 6.7 %\n"
     ]
    }
   ],
   "source": [
    "# удаляем пересекающихся пользователей\n",
    "orders = orders.query('visitorId not in @per')\n",
    "print('Датафрейм orders уменьшился на', round((len(orA_list)+len(orB_list) - len(orders))*100/ \\\n",
    "      (len(orA_list)+len(orB_list)),1), '%')"
   ]
  },
  {
   "cell_type": "markdown",
   "id": "a380605b-e173-4c78-bc02-87eeae5d6092",
   "metadata": {},
   "source": [
    "### Построение кумулятивной выручки по группам"
   ]
  },
  {
   "cell_type": "code",
   "execution_count": 12,
   "id": "766db148-1d11-4f4c-a41d-01a23d0b6625",
   "metadata": {},
   "outputs": [
    {
     "data": {
      "text/html": [
       "<div>\n",
       "<style scoped>\n",
       "    .dataframe tbody tr th:only-of-type {\n",
       "        vertical-align: middle;\n",
       "    }\n",
       "\n",
       "    .dataframe tbody tr th {\n",
       "        vertical-align: top;\n",
       "    }\n",
       "\n",
       "    .dataframe thead th {\n",
       "        text-align: right;\n",
       "    }\n",
       "</style>\n",
       "<table border=\"1\" class=\"dataframe\">\n",
       "  <thead>\n",
       "    <tr style=\"text-align: right;\">\n",
       "      <th></th>\n",
       "      <th>date</th>\n",
       "      <th>group</th>\n",
       "      <th>orders</th>\n",
       "      <th>buyers</th>\n",
       "      <th>revenue</th>\n",
       "      <th>visitors</th>\n",
       "    </tr>\n",
       "  </thead>\n",
       "  <tbody>\n",
       "    <tr>\n",
       "      <th>0</th>\n",
       "      <td>2019-08-01</td>\n",
       "      <td>A</td>\n",
       "      <td>23</td>\n",
       "      <td>19</td>\n",
       "      <td>142779</td>\n",
       "      <td>719</td>\n",
       "    </tr>\n",
       "    <tr>\n",
       "      <th>1</th>\n",
       "      <td>2019-08-01</td>\n",
       "      <td>B</td>\n",
       "      <td>17</td>\n",
       "      <td>17</td>\n",
       "      <td>59758</td>\n",
       "      <td>713</td>\n",
       "    </tr>\n",
       "    <tr>\n",
       "      <th>2</th>\n",
       "      <td>2019-08-02</td>\n",
       "      <td>A</td>\n",
       "      <td>42</td>\n",
       "      <td>36</td>\n",
       "      <td>234381</td>\n",
       "      <td>1338</td>\n",
       "    </tr>\n",
       "    <tr>\n",
       "      <th>3</th>\n",
       "      <td>2019-08-02</td>\n",
       "      <td>B</td>\n",
       "      <td>40</td>\n",
       "      <td>39</td>\n",
       "      <td>221801</td>\n",
       "      <td>1294</td>\n",
       "    </tr>\n",
       "    <tr>\n",
       "      <th>4</th>\n",
       "      <td>2019-08-03</td>\n",
       "      <td>A</td>\n",
       "      <td>66</td>\n",
       "      <td>60</td>\n",
       "      <td>346854</td>\n",
       "      <td>1845</td>\n",
       "    </tr>\n",
       "  </tbody>\n",
       "</table>\n",
       "</div>"
      ],
      "text/plain": [
       "        date group  orders  buyers  revenue  visitors\n",
       "0 2019-08-01  A     23      19      142779   719     \n",
       "1 2019-08-01  B     17      17      59758    713     \n",
       "2 2019-08-02  A     42      36      234381   1338    \n",
       "3 2019-08-02  B     40      39      221801   1294    \n",
       "4 2019-08-03  A     66      60      346854   1845    "
      ]
     },
     "metadata": {},
     "output_type": "display_data"
    }
   ],
   "source": [
    "# создаем массив уникальных пар значений дат и групп теста\n",
    "datesGroups = orders[['date','group']].drop_duplicates()\n",
    "\n",
    "# получаем агрегированные кумулятивные по дням данные о заказах \n",
    "ordersAggregated = datesGroups.apply(lambda x: orders[np.logical_and(orders['date'] <= x['date'], orders['group'] == x['group'])].agg({'date' : 'max', 'group' : 'max', 'transactionId' : 'nunique', 'visitorId' : 'nunique', 'revenue' : 'sum'}), axis=1).sort_values(by=['date','group'])\n",
    "\n",
    "# получаем агрегированные кумулятивные по дням данные о посетителях интернет-магазина \n",
    "visitorsAggregated = datesGroups.apply(lambda x: visitors[np.logical_and(visitors['date'] <= x['date'], visitors['group'] == x['group'])].agg({'date' : 'max', 'group' : 'max', 'visitors' : 'sum'}), axis=1).sort_values(by=['date','group'])\n",
    "\n",
    "# объединяем кумулятивные данные в одной таблице и присваиваем ее столбцам понятные названия\n",
    "cumulativeData = ordersAggregated.merge(visitorsAggregated, left_on=['date', 'group'], right_on=['date', 'group'])\n",
    "cumulativeData.columns = ['date', 'group', 'orders', 'buyers', 'revenue', 'visitors']\n",
    "\n",
    "display(cumulativeData.head(5))"
   ]
  },
  {
   "cell_type": "code",
   "execution_count": 13,
   "id": "f31918af-183a-4dcb-82f4-2b01da842286",
   "metadata": {},
   "outputs": [
    {
     "data": {
      "image/png": "[encoded data removed]",
      "text/plain": [
       "<Figure size 720x504 with 1 Axes>"
      ]
     },
     "metadata": {
      "needs_background": "light"
     },
     "output_type": "display_data"
    }
   ],
   "source": [
    "# датафрейм с кумулятивным количеством заказов и кумулятивной выручкой по дням в группе А\n",
    "cumulativeRevenueA = cumulativeData[cumulativeData['group']=='A'][['date','revenue', 'orders']]\n",
    "\n",
    "# датафрейм с кумулятивным количеством заказов и кумулятивной выручкой по дням в группе B\n",
    "cumulativeRevenueB = cumulativeData[cumulativeData['group']=='B'][['date','revenue', 'orders']]\n",
    "\n",
    "# Общие настройки графика\n",
    "plt.figure(figsize=(10,7))\n",
    "plt.grid()\n",
    "plt.xticks(rotation=45)\n",
    "plt.xlabel('Дата')\n",
    "plt.ylabel('Выручка')\n",
    "plt.title('Кумулятивная выручка по группам')\n",
    "# Строим график выручки группы А\n",
    "plt.plot(cumulativeRevenueA['date'], cumulativeRevenueA['revenue'], label='A')\n",
    "\n",
    "# Строим график выручки группы B\n",
    "plt.plot(cumulativeRevenueB['date'], cumulativeRevenueB['revenue'], label='B')\n",
    "\n",
    "plt.legend();"
   ]
  },
  {
   "cell_type": "markdown",
   "id": "68a175a8-dedb-49c4-84f6-c9e82b835f5f",
   "metadata": {},
   "source": [
    "Графики обеих групп только растут, при этом подозрение вызывает резкий рост выручки в группе В 18 августа. Это или большое количество заказов в день или несколько(или один) крупных."
   ]
  },
  {
   "cell_type": "markdown",
   "id": "7ec6719a-8a85-48da-8004-dc42a9748cfa",
   "metadata": {},
   "source": [
    "### Построение графика кумулятивного среднего чека по группам"
   ]
  },
  {
   "cell_type": "code",
   "execution_count": 14,
   "id": "20006806-411e-4db9-a134-515669012bb3",
   "metadata": {},
   "outputs": [
    {
     "data": {
      "image/png": "[encoded data removed]",
      "text/plain": [
       "<Figure size 720x504 with 1 Axes>"
      ]
     },
     "metadata": {
      "needs_background": "light"
     },
     "output_type": "display_data"
    }
   ],
   "source": [
    "plt.figure(figsize=(10,7))\n",
    "plt.grid()\n",
    "plt.xticks(rotation=45)\n",
    "plt.xlabel('Дата')\n",
    "plt.ylabel('Средний чек')\n",
    "plt.title('Кумулятивный средний чек по группам')\n",
    "\n",
    "plt.plot(cumulativeRevenueA['date'], cumulativeRevenueA['revenue']/cumulativeRevenueA['orders'], label='A')\n",
    "plt.plot(cumulativeRevenueB['date'], cumulativeRevenueB['revenue']/cumulativeRevenueB['orders'], label='B')\n",
    "plt.legend();"
   ]
  },
  {
   "cell_type": "markdown",
   "id": "31471fa7-30d7-4d3f-b3d0-f173efdca2a5",
   "metadata": {},
   "source": [
    "Изначально, как и на графике выручки, средний чек двух групп не так сильно и отличался и изменял свои значения довольно плавно. Но в группе В 18 августа произошел довольно крупный заказ, из-за которого средний чек вырос почти на 50%."
   ]
  },
  {
   "cell_type": "markdown",
   "id": "233f20e8-b196-474a-aa8e-8173bde31d15",
   "metadata": {},
   "source": [
    "### Построение графика относительного изменения кумулятивного среднего чека группы B к группе A"
   ]
  },
  {
   "cell_type": "code",
   "execution_count": 15,
   "id": "3db14ddf-bf11-469b-835c-59f3dfbc944c",
   "metadata": {},
   "outputs": [
    {
     "data": {
      "image/png": "[encoded data removed]",
      "text/plain": [
       "<Figure size 720x504 with 1 Axes>"
      ]
     },
     "metadata": {
      "needs_background": "light"
     },
     "output_type": "display_data"
    }
   ],
   "source": [
    "# собираем данные в одном датафрейме\n",
    "mergedCumulativeRevenue = cumulativeRevenueA.merge(cumulativeRevenueB, left_on='date', right_on='date', how='left', \\\n",
    "                                                   suffixes=['A', 'B'])\n",
    "\n",
    "plt.figure(figsize=(10,7))\n",
    "plt.grid()\n",
    "plt.xticks(rotation=45)\n",
    "plt.xlabel('Дата')\n",
    "plt.ylabel('Относительное изменение')\n",
    "plt.title('Относительное изменение кумулятивного среднего чека группы B к группе A')\n",
    "\n",
    "# cтроим отношение средних чеков\n",
    "plt.plot(mergedCumulativeRevenue['date'], (mergedCumulativeRevenue['revenueB']/mergedCumulativeRevenue['ordersB'])/ \\\n",
    "         (mergedCumulativeRevenue['revenueA']/mergedCumulativeRevenue['ordersA'])-1)\n",
    "\n",
    "# добавляем ось X\n",
    "plt.axhline(y=0, color='black', linestyle='--');"
   ]
  },
  {
   "cell_type": "markdown",
   "id": "e8689427-8aaa-412f-b3f6-3b22574461bc",
   "metadata": {},
   "source": [
    "График довольно сильно скачет, среди данных наверняка есть выбросы и крупные заказы"
   ]
  },
  {
   "cell_type": "markdown",
   "id": "3e1acdc2-aae4-497e-8b77-63ffee79e8fe",
   "metadata": {},
   "source": [
    "### Построение графика кумулятивного среднего количества заказов на посетителя по группам"
   ]
  },
  {
   "cell_type": "code",
   "execution_count": 16,
   "id": "08faaa59-2db7-4cca-b115-9f058a47af1d",
   "metadata": {},
   "outputs": [
    {
     "data": {
      "image/png": "[encoded data removed]",
      "text/plain": [
       "<Figure size 720x504 with 1 Axes>"
      ]
     },
     "metadata": {
      "needs_background": "light"
     },
     "output_type": "display_data"
    }
   ],
   "source": [
    "# считаем среднее количество заказов на посетителя\n",
    "cumulativeData['conversion'] = cumulativeData['orders']/cumulativeData['visitors']\n",
    "\n",
    "# отделяем данные по группе A\n",
    "cumulativeDataA = cumulativeData[cumulativeData['group']=='A']\n",
    "# cumulativeDataA['date'] = cumulativeDataA.ActivityHour.dt.date\n",
    "\n",
    "# отделяем данные по группе B\n",
    "cumulativeDataB = cumulativeData[cumulativeData['group']=='B']\n",
    "# cumulativeDataB['date'] = cumulativeDataB.ActivityHour.dt.date\n",
    "\n",
    "\n",
    "plt.figure(figsize=(10,7))\n",
    "plt.grid()\n",
    "plt.xticks(rotation=45)\n",
    "plt.xlabel('Дата')\n",
    "plt.ylabel('Количество заказов')\n",
    "plt.title('Кумулятивное среднее количество заказов на посетителя по группам')\n",
    "\n",
    "# строим графики\n",
    "plt.plot(cumulativeDataA['date'], cumulativeDataA['conversion'], label='A')\n",
    "plt.plot(cumulativeDataB['date'], cumulativeDataB['conversion'], label='B')\n",
    "plt.legend()\n",
    "\n",
    "# задаем масштаб осей\n",
    "x_min,x_max = dt.datetime.strptime('2019-08-01', '%Y-%m-%d'),dt.datetime.strptime('2019-08-31', '%Y-%m-%d')\n",
    "\n",
    "plt.axis([x_min, x_max, 0.02, 0.04]);"
   ]
  },
  {
   "cell_type": "markdown",
   "id": "60046345-79d8-48b9-aed2-2cd89e3d7d31",
   "metadata": {},
   "source": [
    "При довольно похожем старте и падении количество заказов на посетителя в группе В выросло и зафискировалось. Значение в группе А также зафискировались, но на меньших значениях."
   ]
  },
  {
   "cell_type": "markdown",
   "id": "0e9009be-84a5-47d2-bc4f-0a3a86d6b42c",
   "metadata": {},
   "source": [
    "### Построение графика относительного изменения кумулятивного среднего количества заказов на посетителя группы B к группе A"
   ]
  },
  {
   "cell_type": "code",
   "execution_count": 17,
   "id": "1a6a1fb8-7f61-4b6f-be91-123182233f13",
   "metadata": {},
   "outputs": [
    {
     "data": {
      "image/png": "[encoded data removed]",
      "text/plain": [
       "<Figure size 720x504 with 1 Axes>"
      ]
     },
     "metadata": {
      "needs_background": "light"
     },
     "output_type": "display_data"
    }
   ],
   "source": [
    "mergedCumulativeConversions = cumulativeDataA[['date','conversion']].merge(cumulativeDataB[['date','conversion']], left_on='date', right_on='date', how='left', suffixes=['A', 'B'])\n",
    "\n",
    "plt.figure(figsize=(10,7))\n",
    "plt.grid()\n",
    "plt.xticks(rotation=45)\n",
    "plt.xlabel('Дата')\n",
    "plt.ylabel('Относительное изменение')\n",
    "plt.title('Относительное изменение кумулятивного среднего количества заказов на посетителя группы B к группе A')\n",
    "\n",
    "plt.plot(mergedCumulativeConversions['date'], mergedCumulativeConversions['conversionB']/mergedCumulativeConversions['conversionA']-1, label=\"Относительный прирост кумулятивного среднего количества заказов на посетителя группы B относительно группы A\")\n",
    "# plt.legend();\n",
    "\n",
    "plt.axhline(y=0, color='black', linestyle='--')\n",
    "plt.axhline(y=-0.1, color='grey', linestyle='--')\n",
    "plt.axis([x_min, x_max, -0.2, 0.3]);"
   ]
  },
  {
   "cell_type": "markdown",
   "id": "d87a7e8f-c587-4c9b-9077-d3b9cdaec6cc",
   "metadata": {},
   "source": [
    " В первые несколько дней группа В незначительно уступала группе А, но потом начала доминировать, что и продолжается до конца периода."
   ]
  },
  {
   "cell_type": "markdown",
   "id": "774aad03-6232-47db-8085-362173cd2273",
   "metadata": {},
   "source": [
    "### Построение точечного графика количества заказов по пользователям"
   ]
  },
  {
   "cell_type": "code",
   "execution_count": 18,
   "id": "e1312efc-feeb-4da9-9d6b-84288990bf0d",
   "metadata": {},
   "outputs": [
    {
     "name": "stdout",
     "output_type": "stream",
     "text": [
      "         userId  orders\n",
      "908  3967698036  3     \n",
      "55   249864742   3     \n",
      "478  2108163459  3     \n",
      "687  2988190573  3     \n",
      "890  3908431265  3     \n",
      "138  611059232   3     \n",
      "632  2742574263  3     \n",
      "157  678354126   2     \n",
      "323  1404560065  2     \n",
      "452  1985475298  2     \n"
     ]
    }
   ],
   "source": [
    "# подсчитаем количество заказов по пользователям\n",
    "ordersByUsers = (\n",
    "    orders.groupby('visitorId', as_index=False)\n",
    "    .agg({'transactionId': 'nunique'})\n",
    ")\n",
    "\n",
    "ordersByUsers.columns = ['userId', 'orders']\n",
    "\n",
    "print(ordersByUsers.sort_values(by='orders', ascending=False).head(10))"
   ]
  },
  {
   "cell_type": "code",
   "execution_count": 19,
   "id": "b7e90100-ee56-40b5-bdc9-e2e838a81d6b",
   "metadata": {},
   "outputs": [
    {
     "data": {
      "image/png": "[encoded data removed]",
      "text/plain": [
       "<Figure size 720x504 with 1 Axes>"
      ]
     },
     "metadata": {
      "needs_background": "light"
     },
     "output_type": "display_data"
    }
   ],
   "source": [
    "# Построим точечную диаграмму\n",
    "x_values = pd.Series(range(0,len(ordersByUsers)))\n",
    "\n",
    "plt.figure(figsize=(10,7))\n",
    "plt.grid()\n",
    "plt.xticks(rotation=45)\n",
    "plt.xlabel('Номер пользователя')\n",
    "plt.ylabel('Количество заказов')\n",
    "plt.title('Количество заказов по пользователям')\n",
    "\n",
    "plt.scatter(x_values, ordersByUsers['orders']);"
   ]
  },
  {
   "cell_type": "markdown",
   "id": "2fa012b4-b649-49dd-91c0-137a6cea5d97",
   "metadata": {},
   "source": [
    "Многие пользователи делают/сделали 1-2 заказов. Все что выше этих значений - кандидаты на аномалии."
   ]
  },
  {
   "cell_type": "markdown",
   "id": "9f2f7ed9-eee7-4fa3-bb2c-cfcc0fd776c9",
   "metadata": {},
   "source": [
    "### Расчет 95-й и 99-й перцентилей количества заказов на пользователя"
   ]
  },
  {
   "cell_type": "code",
   "execution_count": 20,
   "id": "1b466b0d-a449-4185-8d4d-70d131dd7792",
   "metadata": {},
   "outputs": [
    {
     "name": "stdout",
     "output_type": "stream",
     "text": [
      "[1. 2.]\n"
     ]
    }
   ],
   "source": [
    "print(np.percentile(ordersByUsers['orders'], [95, 99]))"
   ]
  },
  {
   "cell_type": "markdown",
   "id": "4ba643a7-12f8-4bc4-91de-49238fa2494c",
   "metadata": {},
   "source": [
    "Не более 5% пользователей оформляли более 1-го заказа и не более 1% пользователей оформляли более 2-ух. Примем за верхнюю границу значение в 2 заказа."
   ]
  },
  {
   "cell_type": "markdown",
   "id": "8a9ed73d-9630-4b06-9d7b-ca15f6d9ceca",
   "metadata": {},
   "source": [
    "### Построение точечного графика стоимостей заказов"
   ]
  },
  {
   "cell_type": "code",
   "execution_count": 21,
   "id": "99bdb8fe-3b5e-4dbc-a68c-5687b9cf3c28",
   "metadata": {},
   "outputs": [
    {
     "data": {
      "image/png": "[encoded data removed]",
      "text/plain": [
       "<Figure size 720x504 with 1 Axes>"
      ]
     },
     "metadata": {
      "needs_background": "light"
     },
     "output_type": "display_data"
    }
   ],
   "source": [
    "x_values = pd.Series(range(0,len(orders)))\n",
    "\n",
    "plt.figure(figsize=(10,7))\n",
    "plt.ylim([0, 100000])\n",
    "plt.grid()\n",
    "plt.xticks(rotation=45)\n",
    "plt.xlabel('Номер заказа')\n",
    "plt.ylabel('Стоимость заказа')\n",
    "plt.title('Стоимость заказа')\n",
    "\n",
    "plt.scatter(x_values, orders['revenue']);"
   ]
  },
  {
   "cell_type": "markdown",
   "id": "2353dd7e-dc75-4f7d-a3d8-9248c7e78958",
   "metadata": {},
   "source": [
    "Стоимости большинства заказов лежат в диапазоне от 0 до 10000, все что выше - аномалии."
   ]
  },
  {
   "cell_type": "markdown",
   "id": "4d4f6ddb-bed4-4c2e-b62f-ee931bae5947",
   "metadata": {},
   "source": [
    "### Расчет 95-й и 99-й перцентилей стоимости заказов"
   ]
  },
  {
   "cell_type": "code",
   "execution_count": 22,
   "id": "b15ff63a-ef5a-4d5c-a20c-3622d93d0633",
   "metadata": {},
   "outputs": [
    {
     "name": "stdout",
     "output_type": "stream",
     "text": [
      "[26785. 53904.]\n"
     ]
    }
   ],
   "source": [
    "print(np.percentile(orders['revenue'], [95, 99]))"
   ]
  },
  {
   "cell_type": "markdown",
   "id": "2219db96-fad8-41c8-8bd9-fc472091059f",
   "metadata": {},
   "source": [
    "Не более 5% стоимостей заказов более 26785, и не более 1% стомостей заказов более 53904  \n",
    "Примем за верхнюю границу значение в 50000"
   ]
  },
  {
   "cell_type": "markdown",
   "id": "662481c8-d445-4dbe-89b4-86b3c38cf407",
   "metadata": {},
   "source": [
    "### Расчет статистическую значимость различий в среднем количестве заказов на посетителя между группами по «сырым» данным"
   ]
  },
  {
   "cell_type": "markdown",
   "id": "518c9371",
   "metadata": {},
   "source": [
    "Уровень статистической зависимости $\\alpha$ = 0.05\n",
    "\n",
    "Используемый статистический критерий для проверки гипотез - U-критерий Манна-Уитни, так как имеем дело с выбросами в данных"
   ]
  },
  {
   "cell_type": "markdown",
   "id": "09275159-f4ef-407d-bbcb-981e50635af3",
   "metadata": {},
   "source": [
    "Формулировка гипотезы  \n",
    "H0 - различий в среднем числе заказов групп A и B нет  \n",
    "H1 - различия в среднем числе заказов групп A и B есть"
   ]
  },
  {
   "cell_type": "code",
   "execution_count": 23,
   "id": "f4cd4fd2-9849-44d4-8791-7abfdce98f34",
   "metadata": {},
   "outputs": [
    {
     "name": "stdout",
     "output_type": "stream",
     "text": [
      "p-value =  0.011\n",
      "0.160\n"
     ]
    }
   ],
   "source": [
    "ordersByUsersA = (\n",
    "    orders[orders['group'] == 'A']\n",
    "    .groupby('visitorId', as_index=False)\n",
    "    .agg({'transactionId': pd.Series.nunique})\n",
    ")\n",
    "ordersByUsersA.columns = ['visitorId', 'orders']\n",
    "\n",
    "ordersByUsersB = (\n",
    "    orders[orders['group'] == 'B']\n",
    "    .groupby('visitorId', as_index=False)\n",
    "    .agg({'transactionId': pd.Series.nunique})\n",
    ")\n",
    "ordersByUsersB.columns = ['visitorId', 'orders']\n",
    "\n",
    "sampleA = pd.concat(\n",
    "    [\n",
    "        ordersByUsersA['orders'],\n",
    "        pd.Series(\n",
    "            0,\n",
    "            index=np.arange(\n",
    "                max(cumulativeDataA['visitors']) - len(ordersByUsersA['orders'])\n",
    "            ),\n",
    "            name='orders',\n",
    "        ),\n",
    "    ],\n",
    "    axis=0,\n",
    ")\n",
    "\n",
    "sampleB = pd.concat(\n",
    "    [\n",
    "        ordersByUsersB['orders'],\n",
    "        pd.Series(\n",
    "            0,\n",
    "            index=np.arange(\n",
    "                max(cumulativeDataB['visitors']) - len(ordersByUsersB['orders'])\n",
    "            ),\n",
    "            name='orders',\n",
    "        ),\n",
    "    ],\n",
    "    axis=0,\n",
    ")\n",
    "\n",
    "print('p-value = ',\"{0:.3f}\".format(stats.mannwhitneyu(sampleA, sampleB)[1]))\n",
    "\n",
    "print(\"{0:.3f}\".format(sampleB.mean() / sampleA.mean() - 1))\n"
   ]
  },
  {
   "cell_type": "markdown",
   "id": "e661598f-7430-49e9-af9d-0d469a909a7c",
   "metadata": {},
   "source": [
    "так p-value = 0.011 < 0.05, то гипотеза о том, что различий в среднем числе заказов нет, маловероятна  \n",
    "Относительный выигрыш группы В = 16%"
   ]
  },
  {
   "cell_type": "markdown",
   "id": "05f0f607-983b-4982-a54b-2a2a543db033",
   "metadata": {},
   "source": [
    "### Расчет статистической значимости различий в среднем чеке заказа между группами по «сырым» данным"
   ]
  },
  {
   "cell_type": "markdown",
   "id": "983dfaef-64f1-4ac6-8775-90277ce40ad8",
   "metadata": {},
   "source": [
    "Формулировка гипотезы  \n",
    "H0 - различий в среднем чеке групп A и B нет  \n",
    "H1 - различия в среднем чеке групп A и B есть"
   ]
  },
  {
   "cell_type": "code",
   "execution_count": 24,
   "id": "a09bd468-1b5e-4787-bc7a-59e4541e0472",
   "metadata": {},
   "outputs": [
    {
     "name": "stdout",
     "output_type": "stream",
     "text": [
      "p-value =  0.829\n",
      "0.287\n"
     ]
    }
   ],
   "source": [
    "print('p-value = ','{0:.3f}'.format(stats.mannwhitneyu(orders[orders['group']=='A']['revenue'], orders[orders['group']=='B']['revenue'])[1]))\n",
    "print('{0:.3f}'.format(orders[orders['group']=='B']['revenue'].mean()/orders[orders['group']=='A']['revenue'].mean()-1))"
   ]
  },
  {
   "cell_type": "markdown",
   "id": "35502821-92fe-4e97-ac81-53aead3d1b2f",
   "metadata": {},
   "source": [
    "так p-value = 0.829 > 0.05, то нет причин отвергать гипотезу об отсутствии различий в средних чеках групп    \n",
    "Относительный выигрыш группы В = 28,7%"
   ]
  },
  {
   "cell_type": "markdown",
   "id": "fed0bffb-7e36-4d5b-b17a-908399e13a03",
   "metadata": {},
   "source": [
    "### Расчет статистической значимости различий в среднем количестве заказов на посетителя между группами по «очищенным» данным"
   ]
  },
  {
   "cell_type": "code",
   "execution_count": 25,
   "id": "b2920f9f-e19d-43e0-97a6-c65bab7ffd1f",
   "metadata": {},
   "outputs": [
    {
     "name": "stdout",
     "output_type": "stream",
     "text": [
      "1099    148427295 \n",
      "1137    759473111 \n",
      "949     887908475 \n",
      "744     888512513 \n",
      "1103    1164614297\n",
      "Name: visitorId, dtype: int64\n",
      "15\n"
     ]
    }
   ],
   "source": [
    "usersWithManyOrders = pd.concat(\n",
    "    [\n",
    "        ordersByUsersA[ordersByUsersA['orders'] > 3]['visitorId'],\n",
    "        ordersByUsersB[ordersByUsersB['orders'] > 3]['visitorId'],\n",
    "    ],\n",
    "    axis=0,\n",
    ")\n",
    "usersWithExpensiveOrders = orders[orders['revenue'] > 50000]['visitorId']\n",
    "abnormalUsers = (\n",
    "    pd.concat([usersWithManyOrders, usersWithExpensiveOrders], axis=0)\n",
    "    .drop_duplicates()\n",
    "    .sort_values()\n",
    ")\n",
    "print(abnormalUsers.head(5))\n",
    "print(abnormalUsers.shape[0])"
   ]
  },
  {
   "cell_type": "markdown",
   "id": "87d4ee9e-e6f1-4f60-9c32-58eea8881fee",
   "metadata": {},
   "source": [
    "Всего 15 аномальных пользователей"
   ]
  },
  {
   "cell_type": "code",
   "execution_count": 26,
   "id": "355daff0-dbbf-4eea-a01a-ad25c49fe865",
   "metadata": {},
   "outputs": [],
   "source": [
    "sampleAFiltered = pd.concat(\n",
    "    [\n",
    "        ordersByUsersA[\n",
    "            np.logical_not(ordersByUsersA['visitorId'].isin(abnormalUsers))\n",
    "        ]['orders'],\n",
    "        pd.Series(\n",
    "            0,\n",
    "            index=np.arange(\n",
    "                max(cumulativeDataA['visitors']) - len(ordersByUsersA['orders'])\n",
    "            ),\n",
    "            name='orders',\n",
    "        ),\n",
    "    ],\n",
    "    axis=0,\n",
    ")\n",
    "\n",
    "sampleBFiltered = pd.concat(\n",
    "    [\n",
    "        ordersByUsersB[\n",
    "            np.logical_not(ordersByUsersB['visitorId'].isin(abnormalUsers))\n",
    "        ]['orders'],\n",
    "        pd.Series(\n",
    "            0,\n",
    "            index=np.arange(\n",
    "                max(cumulativeDataB['visitors']) - len(ordersByUsersB['orders'])\n",
    "            ),\n",
    "            name='orders',\n",
    "        ),\n",
    "    ],\n",
    "    axis=0,\n",
    ")"
   ]
  },
  {
   "cell_type": "code",
   "execution_count": 27,
   "id": "69cdf0ff-0355-4e64-8ace-d6d8ee81ac3d",
   "metadata": {},
   "outputs": [
    {
     "name": "stdout",
     "output_type": "stream",
     "text": [
      "p-value =  0.008\n",
      "0.172\n"
     ]
    }
   ],
   "source": [
    "print('p-value = ','{0:.3f}'.format(stats.mannwhitneyu(sampleAFiltered, sampleBFiltered)[1]))\n",
    "print('{0:.3f}'.format(sampleBFiltered.mean()/sampleAFiltered.mean()-1))"
   ]
  },
  {
   "cell_type": "markdown",
   "id": "1b4f2b0f-c3fa-4351-a6ae-6973a34f6e1e",
   "metadata": {},
   "source": [
    "p-value на чистых данных даже стал немного меньше, и все еще находится на уровне ниже 0.05  \n",
    "Выйгрыш группы В вырос на 1,2% и теперь равен 17,2%"
   ]
  },
  {
   "cell_type": "markdown",
   "id": "1c63791a-017e-4877-9a7a-535ae0407fa8",
   "metadata": {},
   "source": [
    "### Расчет статистической значимости различий в среднем чеке заказа между группами по «очищенным» данным"
   ]
  },
  {
   "cell_type": "code",
   "execution_count": 28,
   "id": "eb74a246-0fa3-409b-8fe6-2f0d4b0465c9",
   "metadata": {},
   "outputs": [
    {
     "name": "stdout",
     "output_type": "stream",
     "text": [
      "0.950\n",
      "0.009\n"
     ]
    }
   ],
   "source": [
    "print(\n",
    "    '{0:.3f}'.format(\n",
    "        stats.mannwhitneyu(\n",
    "            orders[\n",
    "                np.logical_and(\n",
    "                    orders['group'] == 'A',\n",
    "                    np.logical_not(orders['visitorId'].isin(abnormalUsers)),\n",
    "                )\n",
    "            ]['revenue'],\n",
    "            orders[\n",
    "                np.logical_and(\n",
    "                    orders['group'] == 'B',\n",
    "                    np.logical_not(orders['visitorId'].isin(abnormalUsers)),\n",
    "                )\n",
    "            ]['revenue'],\n",
    "        )[1]\n",
    "    )\n",
    ")\n",
    "\n",
    "print(\n",
    "    \"{0:.3f}\".format(\n",
    "        orders[\n",
    "            np.logical_and(\n",
    "                orders['group'] == 'B',\n",
    "                np.logical_not(orders['visitorId'].isin(abnormalUsers)),\n",
    "            )\n",
    "        ]['revenue'].mean()\n",
    "        / orders[\n",
    "            np.logical_and(\n",
    "                orders['group'] == 'A',\n",
    "                np.logical_not(orders['visitorId'].isin(abnormalUsers)),\n",
    "            )\n",
    "        ]['revenue'].mean()\n",
    "        - 1\n",
    "    )\n",
    ")"
   ]
  },
  {
   "cell_type": "markdown",
   "id": "8a18e4dd-bfe0-4df5-b6ab-8989bbdbb5cf",
   "metadata": {},
   "source": [
    "p-value как и был высоким, так и остался, нулевую гипотезу не отвергаем  \n",
    "Преймущество группы В по сравнению с группой А существенно сократилось и остановилось на отметке в 0,9%"
   ]
  },
  {
   "cell_type": "markdown",
   "id": "e2a9f0e1-ba10-421e-a8fb-64bcd99fdccf",
   "metadata": {},
   "source": [
    "### Выводы по тесту"
   ]
  },
  {
   "cell_type": "markdown",
   "id": "b9b8ed37-55d3-4d84-838e-bed3446bf04d",
   "metadata": {},
   "source": [
    " - Есть статистически значимое различие по среднему количеству заказов между группами как по «сырым», так и по данным после фильтрации аномалий\n",
    " - Нет статистически значимого различия по среднему чеку между группами ни по «сырым», ни по данным после фильтрации аномалий\n",
    " - График различия среднего количества заказов между группами сообщает, что результаты группы B лучше группы A и есть тенденции к улучшению\n",
    " - График различия среднего чека говорит о том, что результаты группы B ухудшаются в последнее время, но глобально они уже половину периода наблюдения стабильно выше группы А\n",
    "\n",
    "Принимания во внимания все вышеперечисленные факты, можно сделать вывод __о прекращении теста и победе группы В__"
   ]
  },
  {
   "cell_type": "markdown",
   "id": "bc26956b-d1d7-404e-b007-7a5f4ec224df",
   "metadata": {},
   "source": [
    "## Выводы"
   ]
  },
  {
   "cell_type": "markdown",
   "id": "1e5b7972-fd9d-43d2-8ce4-25def4400c36",
   "metadata": {},
   "source": [
    "В результате данного проекта поставленные цели были выполнены в полном объеме  \n",
    "\n",
    "__Первая часть проекта:__  \n",
    " - К набору гипотез были применены фреймворки ICE и RICE\n",
    " - На основе их значений были построены топы гипотез\n",
    " - Были объяснены различия в составлении топов для данных фреймворков\n",
    "***\n",
    "В результате самой высокооцененой гипотезой методом RICE является добавления нвоого окна подписки на все основные страницы\n",
    "****\n",
    "\n",
    "__Вторая часть проекта:__  \n",
    "- Были построенны графики:\n",
    "   - кумулятивной выручки\n",
    "   - кумулятивного среднего чека и его относительного изменения\n",
    "   - кумулятивного среднего количества заказов на посетителя и его относительного изменения\n",
    "   - количества заказов и стоимости заказов\n",
    "- Расчитаны перцентили для количества заказов и стоимости заказов для нахождения верхних границ\n",
    "- Расчитаны статистические значимости в среднем количестве заказов на посетителя и в среднем чеке по группам как по сырым данным, так и по очищенным\n",
    "\n",
    "***\n",
    "В результате:\n",
    "- Есть статистически значимое различие по среднему количеству заказов между группами как по «сырым», так и по данным после фильтрации аномалий\n",
    "- Нет статистически значимого различия по среднему чеку между группами ни по «сырым», ни по данным после фильтрации аномалий\n",
    "- График различия среднего количества заказов между группами сообщает, что результаты группы B лучше группы A и есть тенденции к улучшению\n",
    "- График различия среднего чека говорит о том, что результаты группы B ухудшаются в последнее время, но глобально они уже половину периода наблюдения стабильно выше группы А\n",
    "  \n",
    "Принимания во внимания все вышеперечисленные факты, можно сделать вывод о __прекращении теста__ и __победе группы В__"
   ]
  },
  {
   "cell_type": "code",
   "execution_count": null,
   "id": "388677bd",
   "metadata": {},
   "outputs": [],
   "source": []
  }
 ],
 "metadata": {
  "ExecuteTimeLog": [
   {
    "duration": 1014,
    "start_time": "2024-09-16T15:57:21.380Z"
   },
   {
    "duration": 258,
    "start_time": "2024-09-16T15:57:22.396Z"
   },
   {
    "duration": 31,
    "start_time": "2024-09-16T15:57:22.655Z"
   },
   {
    "duration": 14,
    "start_time": "2024-09-16T15:57:22.687Z"
   },
   {
    "duration": 11,
    "start_time": "2024-09-16T15:57:22.703Z"
   },
   {
    "duration": 253,
    "start_time": "2024-09-16T15:57:22.715Z"
   },
   {
    "duration": 313,
    "start_time": "2024-09-16T15:57:22.969Z"
   },
   {
    "duration": 299,
    "start_time": "2024-09-16T15:57:23.284Z"
   },
   {
    "duration": 435,
    "start_time": "2024-09-16T15:57:23.584Z"
   },
   {
    "duration": 309,
    "start_time": "2024-09-16T15:57:24.021Z"
   },
   {
    "duration": 382,
    "start_time": "2024-09-16T15:57:24.331Z"
   },
   {
    "duration": 14,
    "start_time": "2024-09-16T15:57:24.714Z"
   },
   {
    "duration": 154,
    "start_time": "2024-09-16T15:57:24.729Z"
   },
   {
    "duration": 4,
    "start_time": "2024-09-16T15:57:24.886Z"
   },
   {
    "duration": 161,
    "start_time": "2024-09-16T15:57:24.891Z"
   },
   {
    "duration": 4,
    "start_time": "2024-09-16T15:57:25.054Z"
   },
   {
    "duration": 221,
    "start_time": "2024-09-16T15:57:25.059Z"
   },
   {
    "duration": 160,
    "start_time": "2024-09-16T15:57:25.282Z"
   },
   {
    "duration": 9,
    "start_time": "2024-09-16T15:57:25.444Z"
   },
   {
    "duration": 12,
    "start_time": "2024-09-16T15:57:25.454Z"
   },
   {
    "duration": 20,
    "start_time": "2024-09-16T15:57:25.467Z"
   },
   {
    "duration": 24,
    "start_time": "2024-09-16T15:57:25.488Z"
   },
   {
    "duration": 21,
    "start_time": "2024-09-16T15:57:25.514Z"
   },
   {
    "duration": 1103,
    "start_time": "2024-09-16T16:05:47.326Z"
   },
   {
    "duration": 104,
    "start_time": "2024-09-16T16:05:48.431Z"
   },
   {
    "duration": 29,
    "start_time": "2024-09-16T16:05:48.537Z"
   },
   {
    "duration": 12,
    "start_time": "2024-09-16T16:05:48.567Z"
   },
   {
    "duration": 10,
    "start_time": "2024-09-16T16:05:48.582Z"
   },
   {
    "duration": 289,
    "start_time": "2024-09-16T16:05:48.594Z"
   },
   {
    "duration": 351,
    "start_time": "2024-09-16T16:05:48.885Z"
   },
   {
    "duration": 300,
    "start_time": "2024-09-16T16:05:49.237Z"
   },
   {
    "duration": 413,
    "start_time": "2024-09-16T16:05:49.539Z"
   },
   {
    "duration": 333,
    "start_time": "2024-09-16T16:05:49.954Z"
   },
   {
    "duration": 437,
    "start_time": "2024-09-16T16:05:50.288Z"
   },
   {
    "duration": 10,
    "start_time": "2024-09-16T16:05:50.727Z"
   },
   {
    "duration": 160,
    "start_time": "2024-09-16T16:05:50.739Z"
   },
   {
    "duration": 4,
    "start_time": "2024-09-16T16:05:50.902Z"
   },
   {
    "duration": 168,
    "start_time": "2024-09-16T16:05:50.908Z"
   },
   {
    "duration": 5,
    "start_time": "2024-09-16T16:05:51.078Z"
   },
   {
    "duration": 245,
    "start_time": "2024-09-16T16:05:51.085Z"
   },
   {
    "duration": 186,
    "start_time": "2024-09-16T16:05:51.331Z"
   },
   {
    "duration": 10,
    "start_time": "2024-09-16T16:05:51.526Z"
   },
   {
    "duration": 9,
    "start_time": "2024-09-16T16:05:51.538Z"
   },
   {
    "duration": 7,
    "start_time": "2024-09-16T16:05:51.549Z"
   },
   {
    "duration": 27,
    "start_time": "2024-09-16T16:05:51.558Z"
   },
   {
    "duration": 38,
    "start_time": "2024-09-16T16:05:51.587Z"
   },
   {
    "duration": 1222,
    "start_time": "2024-09-17T21:47:21.611Z"
   },
   {
    "duration": 247,
    "start_time": "2024-09-17T21:47:22.835Z"
   },
   {
    "duration": 30,
    "start_time": "2024-09-17T21:47:23.083Z"
   },
   {
    "duration": 13,
    "start_time": "2024-09-17T21:47:23.115Z"
   },
   {
    "duration": 11,
    "start_time": "2024-09-17T21:47:23.130Z"
   },
   {
    "duration": 270,
    "start_time": "2024-09-17T21:47:23.143Z"
   },
   {
    "duration": 329,
    "start_time": "2024-09-17T21:47:23.414Z"
   },
   {
    "duration": 303,
    "start_time": "2024-09-17T21:47:23.745Z"
   },
   {
    "duration": 462,
    "start_time": "2024-09-17T21:47:24.049Z"
   },
   {
    "duration": 342,
    "start_time": "2024-09-17T21:47:24.513Z"
   },
   {
    "duration": 389,
    "start_time": "2024-09-17T21:47:24.857Z"
   },
   {
    "duration": 11,
    "start_time": "2024-09-17T21:47:25.248Z"
   },
   {
    "duration": 152,
    "start_time": "2024-09-17T21:47:25.260Z"
   },
   {
    "duration": 4,
    "start_time": "2024-09-17T21:47:25.414Z"
   },
   {
    "duration": 176,
    "start_time": "2024-09-17T21:47:25.419Z"
   },
   {
    "duration": 4,
    "start_time": "2024-09-17T21:47:25.597Z"
   },
   {
    "duration": 215,
    "start_time": "2024-09-17T21:47:25.603Z"
   },
   {
    "duration": 196,
    "start_time": "2024-09-17T21:47:25.820Z"
   },
   {
    "duration": 10,
    "start_time": "2024-09-17T21:47:26.018Z"
   },
   {
    "duration": 24,
    "start_time": "2024-09-17T21:47:26.029Z"
   },
   {
    "duration": 25,
    "start_time": "2024-09-17T21:47:26.055Z"
   },
   {
    "duration": 30,
    "start_time": "2024-09-17T21:47:26.082Z"
   },
   {
    "duration": 13,
    "start_time": "2024-09-17T21:47:26.113Z"
   },
   {
    "duration": 8,
    "start_time": "2024-09-17T22:14:56.882Z"
   },
   {
    "duration": 6,
    "start_time": "2024-09-17T22:15:04.092Z"
   },
   {
    "duration": 6,
    "start_time": "2024-09-17T22:16:22.454Z"
   },
   {
    "duration": 17,
    "start_time": "2024-09-17T22:20:03.164Z"
   },
   {
    "duration": 86,
    "start_time": "2024-09-17T22:44:05.552Z"
   },
   {
    "duration": 363,
    "start_time": "2024-09-17T22:44:15.212Z"
   },
   {
    "duration": 3,
    "start_time": "2024-09-17T22:44:46.070Z"
   },
   {
    "duration": 27,
    "start_time": "2024-09-17T22:45:11.645Z"
   },
   {
    "duration": 260,
    "start_time": "2024-09-17T22:46:33.131Z"
   },
   {
    "duration": 309,
    "start_time": "2024-09-17T22:46:49.237Z"
   },
   {
    "duration": 1137,
    "start_time": "2024-09-17T22:48:27.292Z"
   },
   {
    "duration": 129,
    "start_time": "2024-09-17T22:48:28.431Z"
   },
   {
    "duration": 33,
    "start_time": "2024-09-17T22:48:28.562Z"
   },
   {
    "duration": 14,
    "start_time": "2024-09-17T22:48:28.598Z"
   },
   {
    "duration": 39,
    "start_time": "2024-09-17T22:48:28.614Z"
   },
   {
    "duration": 13,
    "start_time": "2024-09-17T22:48:28.655Z"
   },
   {
    "duration": 52,
    "start_time": "2024-09-17T22:48:28.669Z"
   },
   {
    "duration": 24,
    "start_time": "2024-09-17T22:48:28.723Z"
   },
   {
    "duration": 295,
    "start_time": "2024-09-17T22:48:28.748Z"
   },
   {
    "duration": 305,
    "start_time": "2024-09-17T22:48:29.052Z"
   },
   {
    "duration": 219,
    "start_time": "2024-09-17T22:48:29.359Z"
   },
   {
    "duration": 307,
    "start_time": "2024-09-17T22:48:29.580Z"
   },
   {
    "duration": 385,
    "start_time": "2024-09-17T22:48:29.888Z"
   },
   {
    "duration": 0,
    "start_time": "2024-09-17T22:48:30.275Z"
   },
   {
    "duration": 0,
    "start_time": "2024-09-17T22:48:30.276Z"
   },
   {
    "duration": 0,
    "start_time": "2024-09-17T22:48:30.278Z"
   },
   {
    "duration": 0,
    "start_time": "2024-09-17T22:48:30.280Z"
   },
   {
    "duration": 0,
    "start_time": "2024-09-17T22:48:30.281Z"
   },
   {
    "duration": 0,
    "start_time": "2024-09-17T22:48:30.282Z"
   },
   {
    "duration": 0,
    "start_time": "2024-09-17T22:48:30.283Z"
   },
   {
    "duration": 0,
    "start_time": "2024-09-17T22:48:30.284Z"
   },
   {
    "duration": 0,
    "start_time": "2024-09-17T22:48:30.286Z"
   },
   {
    "duration": 0,
    "start_time": "2024-09-17T22:48:30.287Z"
   },
   {
    "duration": 0,
    "start_time": "2024-09-17T22:48:30.288Z"
   },
   {
    "duration": 0,
    "start_time": "2024-09-17T22:48:30.289Z"
   },
   {
    "duration": 0,
    "start_time": "2024-09-17T22:48:30.290Z"
   },
   {
    "duration": 12,
    "start_time": "2024-09-17T22:49:35.700Z"
   },
   {
    "duration": 265,
    "start_time": "2024-09-17T22:50:21.358Z"
   },
   {
    "duration": 305,
    "start_time": "2024-09-17T22:50:40.487Z"
   },
   {
    "duration": 256,
    "start_time": "2024-09-17T23:01:11.022Z"
   },
   {
    "duration": 255,
    "start_time": "2024-09-17T23:01:29.275Z"
   },
   {
    "duration": 359,
    "start_time": "2024-09-17T23:02:06.909Z"
   },
   {
    "duration": 245,
    "start_time": "2024-09-17T23:02:36.728Z"
   },
   {
    "duration": 245,
    "start_time": "2024-09-17T23:03:07.835Z"
   },
   {
    "duration": 16,
    "start_time": "2024-09-17T23:17:18.278Z"
   },
   {
    "duration": 13,
    "start_time": "2024-09-17T23:17:47.360Z"
   },
   {
    "duration": 275,
    "start_time": "2024-09-17T23:19:24.391Z"
   },
   {
    "duration": 251,
    "start_time": "2024-09-17T23:19:43.872Z"
   },
   {
    "duration": 265,
    "start_time": "2024-09-17T23:22:26.192Z"
   },
   {
    "duration": 1071,
    "start_time": "2024-09-17T23:24:23.465Z"
   },
   {
    "duration": 104,
    "start_time": "2024-09-17T23:24:24.538Z"
   },
   {
    "duration": 31,
    "start_time": "2024-09-17T23:24:24.643Z"
   },
   {
    "duration": 385,
    "start_time": "2024-09-17T23:24:24.676Z"
   },
   {
    "duration": 0,
    "start_time": "2024-09-17T23:24:25.065Z"
   },
   {
    "duration": 0,
    "start_time": "2024-09-17T23:24:25.066Z"
   },
   {
    "duration": 0,
    "start_time": "2024-09-17T23:24:25.067Z"
   },
   {
    "duration": 0,
    "start_time": "2024-09-17T23:24:25.069Z"
   },
   {
    "duration": 0,
    "start_time": "2024-09-17T23:24:25.070Z"
   },
   {
    "duration": 0,
    "start_time": "2024-09-17T23:24:25.072Z"
   },
   {
    "duration": 1,
    "start_time": "2024-09-17T23:24:25.073Z"
   },
   {
    "duration": 0,
    "start_time": "2024-09-17T23:24:25.075Z"
   },
   {
    "duration": 0,
    "start_time": "2024-09-17T23:24:25.076Z"
   },
   {
    "duration": 0,
    "start_time": "2024-09-17T23:24:25.078Z"
   },
   {
    "duration": 0,
    "start_time": "2024-09-17T23:24:25.080Z"
   },
   {
    "duration": 0,
    "start_time": "2024-09-17T23:24:25.081Z"
   },
   {
    "duration": 0,
    "start_time": "2024-09-17T23:24:25.082Z"
   },
   {
    "duration": 0,
    "start_time": "2024-09-17T23:24:25.084Z"
   },
   {
    "duration": 0,
    "start_time": "2024-09-17T23:24:25.085Z"
   },
   {
    "duration": 0,
    "start_time": "2024-09-17T23:24:25.087Z"
   },
   {
    "duration": 0,
    "start_time": "2024-09-17T23:24:25.088Z"
   },
   {
    "duration": 0,
    "start_time": "2024-09-17T23:24:25.089Z"
   },
   {
    "duration": 0,
    "start_time": "2024-09-17T23:24:25.090Z"
   },
   {
    "duration": 0,
    "start_time": "2024-09-17T23:24:25.092Z"
   },
   {
    "duration": 0,
    "start_time": "2024-09-17T23:24:25.093Z"
   },
   {
    "duration": 0,
    "start_time": "2024-09-17T23:24:25.094Z"
   },
   {
    "duration": 0,
    "start_time": "2024-09-17T23:24:25.095Z"
   },
   {
    "duration": 1116,
    "start_time": "2024-09-17T23:25:05.413Z"
   },
   {
    "duration": 107,
    "start_time": "2024-09-17T23:25:06.531Z"
   },
   {
    "duration": 31,
    "start_time": "2024-09-17T23:25:06.640Z"
   },
   {
    "duration": 17,
    "start_time": "2024-09-17T23:25:06.673Z"
   },
   {
    "duration": 32,
    "start_time": "2024-09-17T23:25:06.692Z"
   },
   {
    "duration": 27,
    "start_time": "2024-09-17T23:25:06.725Z"
   },
   {
    "duration": 79,
    "start_time": "2024-09-17T23:25:06.753Z"
   },
   {
    "duration": 82,
    "start_time": "2024-09-17T23:25:06.833Z"
   },
   {
    "duration": 9,
    "start_time": "2024-09-17T23:25:06.917Z"
   },
   {
    "duration": 336,
    "start_time": "2024-09-17T23:25:06.929Z"
   },
   {
    "duration": 318,
    "start_time": "2024-09-17T23:25:07.267Z"
   },
   {
    "duration": 239,
    "start_time": "2024-09-17T23:25:07.586Z"
   },
   {
    "duration": 349,
    "start_time": "2024-09-17T23:25:07.827Z"
   },
   {
    "duration": 370,
    "start_time": "2024-09-17T23:25:08.178Z"
   },
   {
    "duration": 0,
    "start_time": "2024-09-17T23:25:08.550Z"
   },
   {
    "duration": 0,
    "start_time": "2024-09-17T23:25:08.553Z"
   },
   {
    "duration": 0,
    "start_time": "2024-09-17T23:25:08.554Z"
   },
   {
    "duration": 0,
    "start_time": "2024-09-17T23:25:08.555Z"
   },
   {
    "duration": 0,
    "start_time": "2024-09-17T23:25:08.556Z"
   },
   {
    "duration": 0,
    "start_time": "2024-09-17T23:25:08.557Z"
   },
   {
    "duration": 0,
    "start_time": "2024-09-17T23:25:08.558Z"
   },
   {
    "duration": 0,
    "start_time": "2024-09-17T23:25:08.560Z"
   },
   {
    "duration": 0,
    "start_time": "2024-09-17T23:25:08.561Z"
   },
   {
    "duration": 0,
    "start_time": "2024-09-17T23:25:08.562Z"
   },
   {
    "duration": 0,
    "start_time": "2024-09-17T23:25:08.563Z"
   },
   {
    "duration": 0,
    "start_time": "2024-09-17T23:25:08.564Z"
   },
   {
    "duration": 0,
    "start_time": "2024-09-17T23:25:08.565Z"
   },
   {
    "duration": 240,
    "start_time": "2024-09-17T23:27:03.837Z"
   },
   {
    "duration": 1117,
    "start_time": "2024-09-17T23:31:17.066Z"
   },
   {
    "duration": 103,
    "start_time": "2024-09-17T23:31:18.185Z"
   },
   {
    "duration": 30,
    "start_time": "2024-09-17T23:31:18.290Z"
   },
   {
    "duration": 31,
    "start_time": "2024-09-17T23:31:18.322Z"
   },
   {
    "duration": 35,
    "start_time": "2024-09-17T23:31:18.354Z"
   },
   {
    "duration": 11,
    "start_time": "2024-09-17T23:31:18.390Z"
   },
   {
    "duration": 20,
    "start_time": "2024-09-17T23:31:18.402Z"
   },
   {
    "duration": 12,
    "start_time": "2024-09-17T23:31:18.424Z"
   },
   {
    "duration": 5,
    "start_time": "2024-09-17T23:31:18.438Z"
   },
   {
    "duration": 298,
    "start_time": "2024-09-17T23:31:18.455Z"
   },
   {
    "duration": 347,
    "start_time": "2024-09-17T23:31:18.754Z"
   },
   {
    "duration": 320,
    "start_time": "2024-09-17T23:31:19.103Z"
   },
   {
    "duration": 353,
    "start_time": "2024-09-17T23:31:19.424Z"
   },
   {
    "duration": 236,
    "start_time": "2024-09-17T23:31:19.778Z"
   },
   {
    "duration": 347,
    "start_time": "2024-09-17T23:31:20.016Z"
   },
   {
    "duration": 9,
    "start_time": "2024-09-17T23:31:20.364Z"
   },
   {
    "duration": 171,
    "start_time": "2024-09-17T23:31:20.374Z"
   },
   {
    "duration": 9,
    "start_time": "2024-09-17T23:31:20.546Z"
   },
   {
    "duration": 217,
    "start_time": "2024-09-17T23:31:20.556Z"
   },
   {
    "duration": 3,
    "start_time": "2024-09-17T23:31:20.775Z"
   },
   {
    "duration": 228,
    "start_time": "2024-09-17T23:31:20.780Z"
   },
   {
    "duration": 165,
    "start_time": "2024-09-17T23:31:21.010Z"
   },
   {
    "duration": 10,
    "start_time": "2024-09-17T23:31:21.177Z"
   },
   {
    "duration": 39,
    "start_time": "2024-09-17T23:31:21.189Z"
   },
   {
    "duration": 16,
    "start_time": "2024-09-17T23:31:21.230Z"
   },
   {
    "duration": 31,
    "start_time": "2024-09-17T23:31:21.248Z"
   },
   {
    "duration": 14,
    "start_time": "2024-09-17T23:31:21.281Z"
   },
   {
    "duration": 1113,
    "start_time": "2024-09-17T23:38:23.625Z"
   },
   {
    "duration": 111,
    "start_time": "2024-09-17T23:38:24.740Z"
   },
   {
    "duration": 31,
    "start_time": "2024-09-17T23:38:24.853Z"
   },
   {
    "duration": 13,
    "start_time": "2024-09-17T23:38:24.885Z"
   },
   {
    "duration": 11,
    "start_time": "2024-09-17T23:38:24.900Z"
   },
   {
    "duration": 59,
    "start_time": "2024-09-17T23:38:24.912Z"
   },
   {
    "duration": 16,
    "start_time": "2024-09-17T23:38:24.973Z"
   },
   {
    "duration": 15,
    "start_time": "2024-09-17T23:38:24.990Z"
   },
   {
    "duration": 6,
    "start_time": "2024-09-17T23:38:25.006Z"
   },
   {
    "duration": 316,
    "start_time": "2024-09-17T23:38:25.019Z"
   },
   {
    "duration": 303,
    "start_time": "2024-09-17T23:38:25.336Z"
   },
   {
    "duration": 230,
    "start_time": "2024-09-17T23:38:25.641Z"
   },
   {
    "duration": 341,
    "start_time": "2024-09-17T23:38:25.874Z"
   },
   {
    "duration": 260,
    "start_time": "2024-09-17T23:38:26.219Z"
   },
   {
    "duration": 291,
    "start_time": "2024-09-17T23:38:26.480Z"
   },
   {
    "duration": 10,
    "start_time": "2024-09-17T23:38:26.772Z"
   },
   {
    "duration": 169,
    "start_time": "2024-09-17T23:38:26.784Z"
   },
   {
    "duration": 6,
    "start_time": "2024-09-17T23:38:26.954Z"
   },
   {
    "duration": 171,
    "start_time": "2024-09-17T23:38:26.961Z"
   },
   {
    "duration": 5,
    "start_time": "2024-09-17T23:38:27.134Z"
   },
   {
    "duration": 250,
    "start_time": "2024-09-17T23:38:27.154Z"
   },
   {
    "duration": 193,
    "start_time": "2024-09-17T23:38:27.406Z"
   },
   {
    "duration": 12,
    "start_time": "2024-09-17T23:38:27.601Z"
   },
   {
    "duration": 10,
    "start_time": "2024-09-17T23:38:27.614Z"
   },
   {
    "duration": 28,
    "start_time": "2024-09-17T23:38:27.625Z"
   },
   {
    "duration": 26,
    "start_time": "2024-09-17T23:38:27.655Z"
   },
   {
    "duration": 13,
    "start_time": "2024-09-17T23:38:27.683Z"
   },
   {
    "duration": 5,
    "start_time": "2024-09-17T23:47:19.782Z"
   },
   {
    "duration": 7,
    "start_time": "2024-09-17T23:49:05.020Z"
   },
   {
    "duration": 8,
    "start_time": "2024-09-17T23:50:50.437Z"
   },
   {
    "duration": 8,
    "start_time": "2024-09-17T23:54:03.487Z"
   },
   {
    "duration": 8,
    "start_time": "2024-09-17T23:55:18.468Z"
   },
   {
    "duration": 117,
    "start_time": "2024-09-18T00:01:47.342Z"
   },
   {
    "duration": 8,
    "start_time": "2024-09-18T00:01:56.444Z"
   },
   {
    "duration": 1171,
    "start_time": "2024-09-18T00:02:36.160Z"
   },
   {
    "duration": 100,
    "start_time": "2024-09-18T00:02:37.333Z"
   },
   {
    "duration": 29,
    "start_time": "2024-09-18T00:02:37.434Z"
   },
   {
    "duration": 16,
    "start_time": "2024-09-18T00:02:37.465Z"
   },
   {
    "duration": 11,
    "start_time": "2024-09-18T00:02:37.483Z"
   },
   {
    "duration": 45,
    "start_time": "2024-09-18T00:02:37.495Z"
   },
   {
    "duration": 23,
    "start_time": "2024-09-18T00:02:37.542Z"
   },
   {
    "duration": 16,
    "start_time": "2024-09-18T00:02:37.567Z"
   },
   {
    "duration": 7,
    "start_time": "2024-09-18T00:02:37.585Z"
   },
   {
    "duration": 12,
    "start_time": "2024-09-18T00:02:37.594Z"
   },
   {
    "duration": 10,
    "start_time": "2024-09-18T00:02:37.608Z"
   },
   {
    "duration": 303,
    "start_time": "2024-09-18T00:02:37.619Z"
   },
   {
    "duration": 318,
    "start_time": "2024-09-18T00:02:37.924Z"
   },
   {
    "duration": 238,
    "start_time": "2024-09-18T00:02:38.245Z"
   },
   {
    "duration": 290,
    "start_time": "2024-09-18T00:02:38.485Z"
   },
   {
    "duration": 242,
    "start_time": "2024-09-18T00:02:38.777Z"
   },
   {
    "duration": 340,
    "start_time": "2024-09-18T00:02:39.021Z"
   },
   {
    "duration": 9,
    "start_time": "2024-09-18T00:02:39.363Z"
   },
   {
    "duration": 192,
    "start_time": "2024-09-18T00:02:39.373Z"
   },
   {
    "duration": 5,
    "start_time": "2024-09-18T00:02:39.566Z"
   },
   {
    "duration": 164,
    "start_time": "2024-09-18T00:02:39.572Z"
   },
   {
    "duration": 4,
    "start_time": "2024-09-18T00:02:39.738Z"
   },
   {
    "duration": 223,
    "start_time": "2024-09-18T00:02:39.753Z"
   },
   {
    "duration": 154,
    "start_time": "2024-09-18T00:02:39.978Z"
   },
   {
    "duration": 21,
    "start_time": "2024-09-18T00:02:40.134Z"
   },
   {
    "duration": 8,
    "start_time": "2024-09-18T00:02:40.157Z"
   },
   {
    "duration": 9,
    "start_time": "2024-09-18T00:02:40.166Z"
   },
   {
    "duration": 24,
    "start_time": "2024-09-18T00:02:40.176Z"
   },
   {
    "duration": 13,
    "start_time": "2024-09-18T00:02:40.202Z"
   },
   {
    "duration": 263,
    "start_time": "2024-09-18T00:03:30.628Z"
   },
   {
    "duration": 1056,
    "start_time": "2024-09-18T00:03:53.773Z"
   },
   {
    "duration": 118,
    "start_time": "2024-09-18T00:03:54.831Z"
   },
   {
    "duration": 30,
    "start_time": "2024-09-18T00:03:54.951Z"
   },
   {
    "duration": 12,
    "start_time": "2024-09-18T00:03:54.983Z"
   },
   {
    "duration": 11,
    "start_time": "2024-09-18T00:03:54.997Z"
   },
   {
    "duration": 72,
    "start_time": "2024-09-18T00:03:55.010Z"
   },
   {
    "duration": 22,
    "start_time": "2024-09-18T00:03:55.083Z"
   },
   {
    "duration": 12,
    "start_time": "2024-09-18T00:03:55.107Z"
   },
   {
    "duration": 15,
    "start_time": "2024-09-18T00:03:55.120Z"
   },
   {
    "duration": 7,
    "start_time": "2024-09-18T00:03:55.153Z"
   },
   {
    "duration": 6,
    "start_time": "2024-09-18T00:03:55.161Z"
   },
   {
    "duration": 291,
    "start_time": "2024-09-18T00:03:55.169Z"
   },
   {
    "duration": 298,
    "start_time": "2024-09-18T00:03:55.462Z"
   },
   {
    "duration": 223,
    "start_time": "2024-09-18T00:03:55.763Z"
   },
   {
    "duration": 311,
    "start_time": "2024-09-18T00:03:55.987Z"
   },
   {
    "duration": 246,
    "start_time": "2024-09-18T00:03:56.300Z"
   },
   {
    "duration": 319,
    "start_time": "2024-09-18T00:03:56.548Z"
   },
   {
    "duration": 8,
    "start_time": "2024-09-18T00:03:56.869Z"
   },
   {
    "duration": 181,
    "start_time": "2024-09-18T00:03:56.879Z"
   },
   {
    "duration": 4,
    "start_time": "2024-09-18T00:03:57.062Z"
   },
   {
    "duration": 194,
    "start_time": "2024-09-18T00:03:57.068Z"
   },
   {
    "duration": 5,
    "start_time": "2024-09-18T00:03:57.264Z"
   },
   {
    "duration": 282,
    "start_time": "2024-09-18T00:03:57.271Z"
   },
   {
    "duration": 159,
    "start_time": "2024-09-18T00:03:57.555Z"
   },
   {
    "duration": 10,
    "start_time": "2024-09-18T00:03:57.716Z"
   },
   {
    "duration": 26,
    "start_time": "2024-09-18T00:03:57.727Z"
   },
   {
    "duration": 8,
    "start_time": "2024-09-18T00:03:57.755Z"
   },
   {
    "duration": 29,
    "start_time": "2024-09-18T00:03:57.764Z"
   },
   {
    "duration": 13,
    "start_time": "2024-09-18T00:03:57.794Z"
   },
   {
    "duration": 171,
    "start_time": "2024-09-18T00:09:02.402Z"
   },
   {
    "duration": 235,
    "start_time": "2024-09-18T00:09:17.266Z"
   },
   {
    "duration": 150,
    "start_time": "2024-09-18T00:09:27.389Z"
   },
   {
    "duration": 1280,
    "start_time": "2024-09-18T00:13:01.715Z"
   },
   {
    "duration": 516,
    "start_time": "2024-09-18T00:16:54.314Z"
   },
   {
    "duration": 20,
    "start_time": "2024-09-18T00:18:43.403Z"
   },
   {
    "duration": 414,
    "start_time": "2024-09-18T00:18:44.607Z"
   },
   {
    "duration": 1153,
    "start_time": "2024-09-18T00:19:28.169Z"
   },
   {
    "duration": 103,
    "start_time": "2024-09-18T00:19:29.324Z"
   },
   {
    "duration": 32,
    "start_time": "2024-09-18T00:19:29.429Z"
   },
   {
    "duration": 13,
    "start_time": "2024-09-18T00:19:29.463Z"
   },
   {
    "duration": 11,
    "start_time": "2024-09-18T00:19:29.477Z"
   },
   {
    "duration": 37,
    "start_time": "2024-09-18T00:19:29.489Z"
   },
   {
    "duration": 37,
    "start_time": "2024-09-18T00:19:29.528Z"
   },
   {
    "duration": 12,
    "start_time": "2024-09-18T00:19:29.567Z"
   },
   {
    "duration": 6,
    "start_time": "2024-09-18T00:19:29.580Z"
   },
   {
    "duration": 7,
    "start_time": "2024-09-18T00:19:29.588Z"
   },
   {
    "duration": 11,
    "start_time": "2024-09-18T00:19:29.596Z"
   },
   {
    "duration": 306,
    "start_time": "2024-09-18T00:19:29.608Z"
   },
   {
    "duration": 310,
    "start_time": "2024-09-18T00:19:29.916Z"
   },
   {
    "duration": 239,
    "start_time": "2024-09-18T00:19:30.228Z"
   },
   {
    "duration": 311,
    "start_time": "2024-09-18T00:19:30.469Z"
   },
   {
    "duration": 238,
    "start_time": "2024-09-18T00:19:30.781Z"
   },
   {
    "duration": 360,
    "start_time": "2024-09-18T00:19:31.021Z"
   },
   {
    "duration": 9,
    "start_time": "2024-09-18T00:19:31.383Z"
   },
   {
    "duration": 183,
    "start_time": "2024-09-18T00:19:31.393Z"
   },
   {
    "duration": 4,
    "start_time": "2024-09-18T00:19:31.578Z"
   },
   {
    "duration": 179,
    "start_time": "2024-09-18T00:19:31.583Z"
   },
   {
    "duration": 5,
    "start_time": "2024-09-18T00:19:31.763Z"
   },
   {
    "duration": 531,
    "start_time": "2024-09-18T00:19:31.769Z"
   },
   {
    "duration": 11,
    "start_time": "2024-09-18T00:19:32.302Z"
   },
   {
    "duration": 90,
    "start_time": "2024-09-18T00:19:32.315Z"
   },
   {
    "duration": 53,
    "start_time": "2024-09-18T00:19:32.406Z"
   },
   {
    "duration": 399,
    "start_time": "2024-09-18T00:19:32.460Z"
   },
   {
    "duration": 13,
    "start_time": "2024-09-18T00:19:32.862Z"
   },
   {
    "duration": 12,
    "start_time": "2024-09-18T00:24:17.478Z"
   },
   {
    "duration": 16,
    "start_time": "2024-09-18T00:24:34.801Z"
   },
   {
    "duration": 6,
    "start_time": "2024-09-18T00:31:44.018Z"
   },
   {
    "duration": 6,
    "start_time": "2024-09-18T00:32:07.061Z"
   },
   {
    "duration": 7,
    "start_time": "2024-09-18T00:32:55.335Z"
   },
   {
    "duration": 7,
    "start_time": "2024-09-18T00:33:09.874Z"
   },
   {
    "duration": 9,
    "start_time": "2024-09-18T00:33:14.307Z"
   },
   {
    "duration": 7,
    "start_time": "2024-09-18T00:34:00.435Z"
   },
   {
    "duration": 11,
    "start_time": "2024-09-18T00:34:18.127Z"
   },
   {
    "duration": 8,
    "start_time": "2024-09-18T00:34:32.870Z"
   },
   {
    "duration": 237,
    "start_time": "2024-09-18T00:35:26.320Z"
   },
   {
    "duration": 1225,
    "start_time": "2024-09-18T01:00:09.141Z"
   },
   {
    "duration": 111,
    "start_time": "2024-09-18T01:00:10.368Z"
   },
   {
    "duration": 33,
    "start_time": "2024-09-18T01:00:10.481Z"
   },
   {
    "duration": 14,
    "start_time": "2024-09-18T01:00:10.516Z"
   },
   {
    "duration": 13,
    "start_time": "2024-09-18T01:00:10.531Z"
   },
   {
    "duration": 46,
    "start_time": "2024-09-18T01:00:10.552Z"
   },
   {
    "duration": 19,
    "start_time": "2024-09-18T01:00:10.599Z"
   },
   {
    "duration": 34,
    "start_time": "2024-09-18T01:00:10.620Z"
   },
   {
    "duration": 7,
    "start_time": "2024-09-18T01:00:10.656Z"
   },
   {
    "duration": 8,
    "start_time": "2024-09-18T01:00:10.666Z"
   },
   {
    "duration": 9,
    "start_time": "2024-09-18T01:00:10.676Z"
   },
   {
    "duration": 321,
    "start_time": "2024-09-18T01:00:10.687Z"
   },
   {
    "duration": 326,
    "start_time": "2024-09-18T01:00:11.010Z"
   },
   {
    "duration": 241,
    "start_time": "2024-09-18T01:00:11.338Z"
   },
   {
    "duration": 317,
    "start_time": "2024-09-18T01:00:11.582Z"
   },
   {
    "duration": 246,
    "start_time": "2024-09-18T01:00:11.901Z"
   },
   {
    "duration": 329,
    "start_time": "2024-09-18T01:00:12.149Z"
   },
   {
    "duration": 10,
    "start_time": "2024-09-18T01:00:12.480Z"
   },
   {
    "duration": 195,
    "start_time": "2024-09-18T01:00:12.491Z"
   },
   {
    "duration": 4,
    "start_time": "2024-09-18T01:00:12.688Z"
   },
   {
    "duration": 174,
    "start_time": "2024-09-18T01:00:12.694Z"
   },
   {
    "duration": 5,
    "start_time": "2024-09-18T01:00:12.870Z"
   },
   {
    "duration": 564,
    "start_time": "2024-09-18T01:00:12.878Z"
   },
   {
    "duration": 17,
    "start_time": "2024-09-18T01:00:13.444Z"
   },
   {
    "duration": 19,
    "start_time": "2024-09-18T01:00:13.463Z"
   },
   {
    "duration": 26,
    "start_time": "2024-09-18T01:00:13.483Z"
   },
   {
    "duration": 413,
    "start_time": "2024-09-18T01:00:13.510Z"
   },
   {
    "duration": 15,
    "start_time": "2024-09-18T01:00:13.925Z"
   },
   {
    "duration": 1141,
    "start_time": "2024-09-18T09:24:35.755Z"
   },
   {
    "duration": 273,
    "start_time": "2024-09-18T09:24:36.898Z"
   },
   {
    "duration": 28,
    "start_time": "2024-09-18T09:24:37.173Z"
   },
   {
    "duration": 121,
    "start_time": "2024-09-18T09:24:37.203Z"
   },
   {
    "duration": 11,
    "start_time": "2024-09-18T09:24:37.327Z"
   },
   {
    "duration": 64,
    "start_time": "2024-09-18T09:24:37.339Z"
   },
   {
    "duration": 16,
    "start_time": "2024-09-18T09:24:37.404Z"
   },
   {
    "duration": 12,
    "start_time": "2024-09-18T09:24:37.422Z"
   },
   {
    "duration": 22,
    "start_time": "2024-09-18T09:24:37.435Z"
   },
   {
    "duration": 38,
    "start_time": "2024-09-18T09:24:37.459Z"
   },
   {
    "duration": 15,
    "start_time": "2024-09-18T09:24:37.499Z"
   },
   {
    "duration": 278,
    "start_time": "2024-09-18T09:24:37.515Z"
   },
   {
    "duration": 302,
    "start_time": "2024-09-18T09:24:37.795Z"
   },
   {
    "duration": 229,
    "start_time": "2024-09-18T09:24:38.100Z"
   },
   {
    "duration": 326,
    "start_time": "2024-09-18T09:24:38.331Z"
   },
   {
    "duration": 226,
    "start_time": "2024-09-18T09:24:38.659Z"
   },
   {
    "duration": 310,
    "start_time": "2024-09-18T09:24:38.887Z"
   },
   {
    "duration": 9,
    "start_time": "2024-09-18T09:24:39.199Z"
   },
   {
    "duration": 225,
    "start_time": "2024-09-18T09:24:39.209Z"
   },
   {
    "duration": 5,
    "start_time": "2024-09-18T09:24:39.436Z"
   },
   {
    "duration": 153,
    "start_time": "2024-09-18T09:24:39.452Z"
   },
   {
    "duration": 5,
    "start_time": "2024-09-18T09:24:39.607Z"
   },
   {
    "duration": 527,
    "start_time": "2024-09-18T09:24:39.614Z"
   },
   {
    "duration": 16,
    "start_time": "2024-09-18T09:24:40.143Z"
   },
   {
    "duration": 8,
    "start_time": "2024-09-18T09:24:40.161Z"
   },
   {
    "duration": 35,
    "start_time": "2024-09-18T09:24:40.170Z"
   },
   {
    "duration": 397,
    "start_time": "2024-09-18T09:24:40.207Z"
   },
   {
    "duration": 15,
    "start_time": "2024-09-18T09:24:40.605Z"
   },
   {
    "duration": 130,
    "start_time": "2024-09-18T09:26:49.117Z"
   },
   {
    "duration": 1119,
    "start_time": "2024-09-18T09:31:09.585Z"
   },
   {
    "duration": 110,
    "start_time": "2024-09-18T09:31:10.706Z"
   },
   {
    "duration": 29,
    "start_time": "2024-09-18T09:31:10.817Z"
   },
   {
    "duration": 16,
    "start_time": "2024-09-18T09:31:10.848Z"
   },
   {
    "duration": 43,
    "start_time": "2024-09-18T09:31:10.866Z"
   },
   {
    "duration": 87,
    "start_time": "2024-09-18T09:31:10.911Z"
   },
   {
    "duration": 15,
    "start_time": "2024-09-18T09:31:11.000Z"
   },
   {
    "duration": 12,
    "start_time": "2024-09-18T09:31:11.016Z"
   },
   {
    "duration": 6,
    "start_time": "2024-09-18T09:31:11.029Z"
   },
   {
    "duration": 8,
    "start_time": "2024-09-18T09:31:11.037Z"
   },
   {
    "duration": 10,
    "start_time": "2024-09-18T09:31:11.047Z"
   },
   {
    "duration": 282,
    "start_time": "2024-09-18T09:31:11.059Z"
   },
   {
    "duration": 293,
    "start_time": "2024-09-18T09:31:11.343Z"
   },
   {
    "duration": 230,
    "start_time": "2024-09-18T09:31:11.640Z"
   },
   {
    "duration": 295,
    "start_time": "2024-09-18T09:31:11.872Z"
   },
   {
    "duration": 232,
    "start_time": "2024-09-18T09:31:12.169Z"
   },
   {
    "duration": 304,
    "start_time": "2024-09-18T09:31:12.403Z"
   },
   {
    "duration": 10,
    "start_time": "2024-09-18T09:31:12.708Z"
   },
   {
    "duration": 175,
    "start_time": "2024-09-18T09:31:12.719Z"
   },
   {
    "duration": 5,
    "start_time": "2024-09-18T09:31:12.896Z"
   },
   {
    "duration": 177,
    "start_time": "2024-09-18T09:31:12.903Z"
   },
   {
    "duration": 5,
    "start_time": "2024-09-18T09:31:13.082Z"
   },
   {
    "duration": 545,
    "start_time": "2024-09-18T09:31:13.089Z"
   },
   {
    "duration": 17,
    "start_time": "2024-09-18T09:31:13.636Z"
   },
   {
    "duration": 9,
    "start_time": "2024-09-18T09:31:13.654Z"
   },
   {
    "duration": 26,
    "start_time": "2024-09-18T09:31:13.665Z"
   },
   {
    "duration": 407,
    "start_time": "2024-09-18T09:31:13.693Z"
   },
   {
    "duration": 15,
    "start_time": "2024-09-18T09:31:14.101Z"
   },
   {
    "duration": 138,
    "start_time": "2024-09-18T09:31:40.571Z"
   },
   {
    "duration": 1022,
    "start_time": "2024-09-18T09:32:10.401Z"
   },
   {
    "duration": 112,
    "start_time": "2024-09-18T09:32:11.425Z"
   },
   {
    "duration": 27,
    "start_time": "2024-09-18T09:32:11.539Z"
   },
   {
    "duration": 18,
    "start_time": "2024-09-18T09:32:11.567Z"
   },
   {
    "duration": 20,
    "start_time": "2024-09-18T09:32:11.586Z"
   },
   {
    "duration": 47,
    "start_time": "2024-09-18T09:32:11.607Z"
   },
   {
    "duration": 22,
    "start_time": "2024-09-18T09:32:11.656Z"
   },
   {
    "duration": 15,
    "start_time": "2024-09-18T09:32:11.680Z"
   },
   {
    "duration": 6,
    "start_time": "2024-09-18T09:32:11.696Z"
   },
   {
    "duration": 9,
    "start_time": "2024-09-18T09:32:11.703Z"
   },
   {
    "duration": 9,
    "start_time": "2024-09-18T09:32:11.714Z"
   },
   {
    "duration": 279,
    "start_time": "2024-09-18T09:32:11.752Z"
   },
   {
    "duration": 307,
    "start_time": "2024-09-18T09:32:12.032Z"
   },
   {
    "duration": 226,
    "start_time": "2024-09-18T09:32:12.342Z"
   },
   {
    "duration": 305,
    "start_time": "2024-09-18T09:32:12.570Z"
   },
   {
    "duration": 241,
    "start_time": "2024-09-18T09:32:12.877Z"
   },
   {
    "duration": 339,
    "start_time": "2024-09-18T09:32:13.120Z"
   },
   {
    "duration": 10,
    "start_time": "2024-09-18T09:32:13.460Z"
   },
   {
    "duration": 173,
    "start_time": "2024-09-18T09:32:13.471Z"
   },
   {
    "duration": 9,
    "start_time": "2024-09-18T09:32:13.645Z"
   },
   {
    "duration": 155,
    "start_time": "2024-09-18T09:32:13.656Z"
   },
   {
    "duration": 4,
    "start_time": "2024-09-18T09:32:13.812Z"
   },
   {
    "duration": 536,
    "start_time": "2024-09-18T09:32:13.817Z"
   },
   {
    "duration": 10,
    "start_time": "2024-09-18T09:32:14.354Z"
   },
   {
    "duration": 8,
    "start_time": "2024-09-18T09:32:14.365Z"
   },
   {
    "duration": 19,
    "start_time": "2024-09-18T09:32:14.375Z"
   },
   {
    "duration": 407,
    "start_time": "2024-09-18T09:32:14.396Z"
   },
   {
    "duration": 12,
    "start_time": "2024-09-18T09:32:14.805Z"
   },
   {
    "duration": 1210,
    "start_time": "2024-09-18T10:13:15.741Z"
   },
   {
    "duration": 293,
    "start_time": "2024-09-18T10:13:16.953Z"
   },
   {
    "duration": 29,
    "start_time": "2024-09-18T10:13:17.247Z"
   },
   {
    "duration": 12,
    "start_time": "2024-09-18T10:13:17.278Z"
   },
   {
    "duration": 19,
    "start_time": "2024-09-18T10:13:17.291Z"
   },
   {
    "duration": 32,
    "start_time": "2024-09-18T10:13:17.311Z"
   },
   {
    "duration": 17,
    "start_time": "2024-09-18T10:13:17.344Z"
   },
   {
    "duration": 26,
    "start_time": "2024-09-18T10:13:17.363Z"
   },
   {
    "duration": 6,
    "start_time": "2024-09-18T10:13:17.391Z"
   },
   {
    "duration": 6,
    "start_time": "2024-09-18T10:13:17.399Z"
   },
   {
    "duration": 25,
    "start_time": "2024-09-18T10:13:17.406Z"
   },
   {
    "duration": 266,
    "start_time": "2024-09-18T10:13:17.433Z"
   },
   {
    "duration": 291,
    "start_time": "2024-09-18T10:13:17.700Z"
   },
   {
    "duration": 221,
    "start_time": "2024-09-18T10:13:17.992Z"
   },
   {
    "duration": 356,
    "start_time": "2024-09-18T10:13:18.214Z"
   },
   {
    "duration": 220,
    "start_time": "2024-09-18T10:13:18.572Z"
   },
   {
    "duration": 301,
    "start_time": "2024-09-18T10:13:18.793Z"
   },
   {
    "duration": 9,
    "start_time": "2024-09-18T10:13:19.095Z"
   },
   {
    "duration": 162,
    "start_time": "2024-09-18T10:13:19.105Z"
   },
   {
    "duration": 4,
    "start_time": "2024-09-18T10:13:19.269Z"
   },
   {
    "duration": 157,
    "start_time": "2024-09-18T10:13:19.274Z"
   },
   {
    "duration": 4,
    "start_time": "2024-09-18T10:13:19.433Z"
   },
   {
    "duration": 154,
    "start_time": "2024-09-18T10:13:19.438Z"
   },
   {
    "duration": 9,
    "start_time": "2024-09-18T10:13:19.594Z"
   },
   {
    "duration": 8,
    "start_time": "2024-09-18T10:13:19.604Z"
   },
   {
    "duration": 14,
    "start_time": "2024-09-18T10:13:19.613Z"
   },
   {
    "duration": 45,
    "start_time": "2024-09-18T10:13:19.628Z"
   },
   {
    "duration": 11,
    "start_time": "2024-09-18T10:13:19.676Z"
   },
   {
    "duration": 1326,
    "start_time": "2024-09-18T13:20:08.681Z"
   },
   {
    "duration": 267,
    "start_time": "2024-09-18T13:20:10.009Z"
   },
   {
    "duration": 32,
    "start_time": "2024-09-18T13:20:10.280Z"
   },
   {
    "duration": 21,
    "start_time": "2024-09-18T13:20:10.314Z"
   },
   {
    "duration": 12,
    "start_time": "2024-09-18T13:20:10.337Z"
   },
   {
    "duration": 41,
    "start_time": "2024-09-18T13:20:10.351Z"
   },
   {
    "duration": 21,
    "start_time": "2024-09-18T13:20:10.394Z"
   },
   {
    "duration": 137,
    "start_time": "2024-09-18T13:20:10.416Z"
   },
   {
    "duration": 25,
    "start_time": "2024-09-18T13:20:10.555Z"
   },
   {
    "duration": 8,
    "start_time": "2024-09-18T13:20:10.583Z"
   },
   {
    "duration": 23,
    "start_time": "2024-09-18T13:20:10.592Z"
   },
   {
    "duration": 279,
    "start_time": "2024-09-18T13:20:10.617Z"
   },
   {
    "duration": 292,
    "start_time": "2024-09-18T13:20:10.897Z"
   },
   {
    "duration": 223,
    "start_time": "2024-09-18T13:20:11.190Z"
   },
   {
    "duration": 411,
    "start_time": "2024-09-18T13:20:11.414Z"
   },
   {
    "duration": 231,
    "start_time": "2024-09-18T13:20:11.827Z"
   },
   {
    "duration": 311,
    "start_time": "2024-09-18T13:20:12.059Z"
   },
   {
    "duration": 11,
    "start_time": "2024-09-18T13:20:12.372Z"
   },
   {
    "duration": 257,
    "start_time": "2024-09-18T13:20:12.385Z"
   },
   {
    "duration": 4,
    "start_time": "2024-09-18T13:20:12.644Z"
   },
   {
    "duration": 174,
    "start_time": "2024-09-18T13:20:12.650Z"
   },
   {
    "duration": 4,
    "start_time": "2024-09-18T13:20:12.826Z"
   },
   {
    "duration": 174,
    "start_time": "2024-09-18T13:20:12.831Z"
   },
   {
    "duration": 9,
    "start_time": "2024-09-18T13:20:13.007Z"
   },
   {
    "duration": 28,
    "start_time": "2024-09-18T13:20:13.017Z"
   },
   {
    "duration": 27,
    "start_time": "2024-09-18T13:20:13.047Z"
   },
   {
    "duration": 41,
    "start_time": "2024-09-18T13:20:13.076Z"
   },
   {
    "duration": 15,
    "start_time": "2024-09-18T13:20:13.119Z"
   },
   {
    "duration": 1103,
    "start_time": "2024-09-19T09:14:26.124Z"
   },
   {
    "duration": 295,
    "start_time": "2024-09-19T09:14:27.229Z"
   },
   {
    "duration": 30,
    "start_time": "2024-09-19T09:14:27.525Z"
   },
   {
    "duration": 15,
    "start_time": "2024-09-19T09:14:27.557Z"
   },
   {
    "duration": 12,
    "start_time": "2024-09-19T09:14:27.574Z"
   },
   {
    "duration": 48,
    "start_time": "2024-09-19T09:14:27.587Z"
   },
   {
    "duration": 24,
    "start_time": "2024-09-19T09:14:27.637Z"
   },
   {
    "duration": 11,
    "start_time": "2024-09-19T09:14:27.663Z"
   },
   {
    "duration": 9,
    "start_time": "2024-09-19T09:14:27.676Z"
   },
   {
    "duration": 28,
    "start_time": "2024-09-19T09:14:27.687Z"
   },
   {
    "duration": 8,
    "start_time": "2024-09-19T09:14:27.716Z"
   },
   {
    "duration": 308,
    "start_time": "2024-09-19T09:14:27.725Z"
   },
   {
    "duration": 314,
    "start_time": "2024-09-19T09:14:28.035Z"
   },
   {
    "duration": 243,
    "start_time": "2024-09-19T09:14:28.353Z"
   },
   {
    "duration": 328,
    "start_time": "2024-09-19T09:14:28.597Z"
   },
   {
    "duration": 239,
    "start_time": "2024-09-19T09:14:28.927Z"
   },
   {
    "duration": 367,
    "start_time": "2024-09-19T09:14:29.168Z"
   },
   {
    "duration": 8,
    "start_time": "2024-09-19T09:14:29.537Z"
   },
   {
    "duration": 191,
    "start_time": "2024-09-19T09:14:29.546Z"
   },
   {
    "duration": 5,
    "start_time": "2024-09-19T09:14:29.738Z"
   },
   {
    "duration": 170,
    "start_time": "2024-09-19T09:14:29.744Z"
   },
   {
    "duration": 4,
    "start_time": "2024-09-19T09:14:29.915Z"
   },
   {
    "duration": 165,
    "start_time": "2024-09-19T09:14:29.921Z"
   },
   {
    "duration": 10,
    "start_time": "2024-09-19T09:14:30.088Z"
   },
   {
    "duration": 176,
    "start_time": "2024-09-19T09:14:30.099Z"
   },
   {
    "duration": 132,
    "start_time": "2024-09-19T09:14:30.277Z"
   },
   {
    "duration": 77,
    "start_time": "2024-09-19T09:14:30.410Z"
   },
   {
    "duration": 14,
    "start_time": "2024-09-19T09:14:30.489Z"
   },
   {
    "duration": 1088,
    "start_time": "2024-09-19T09:15:29.973Z"
   },
   {
    "duration": 121,
    "start_time": "2024-09-19T09:15:31.063Z"
   },
   {
    "duration": 32,
    "start_time": "2024-09-19T09:15:31.186Z"
   },
   {
    "duration": 32,
    "start_time": "2024-09-19T09:15:31.219Z"
   },
   {
    "duration": 15,
    "start_time": "2024-09-19T09:15:31.253Z"
   },
   {
    "duration": 48,
    "start_time": "2024-09-19T09:15:31.269Z"
   },
   {
    "duration": 14,
    "start_time": "2024-09-19T09:15:31.319Z"
   },
   {
    "duration": 32,
    "start_time": "2024-09-19T09:15:31.335Z"
   },
   {
    "duration": 12,
    "start_time": "2024-09-19T09:15:31.368Z"
   },
   {
    "duration": 19,
    "start_time": "2024-09-19T09:15:31.381Z"
   },
   {
    "duration": 18,
    "start_time": "2024-09-19T09:15:31.402Z"
   },
   {
    "duration": 291,
    "start_time": "2024-09-19T09:15:31.422Z"
   },
   {
    "duration": 300,
    "start_time": "2024-09-19T09:15:31.715Z"
   },
   {
    "duration": 217,
    "start_time": "2024-09-19T09:15:32.018Z"
   },
   {
    "duration": 306,
    "start_time": "2024-09-19T09:15:32.237Z"
   },
   {
    "duration": 226,
    "start_time": "2024-09-19T09:15:32.545Z"
   },
   {
    "duration": 359,
    "start_time": "2024-09-19T09:15:32.772Z"
   },
   {
    "duration": 9,
    "start_time": "2024-09-19T09:15:33.133Z"
   },
   {
    "duration": 180,
    "start_time": "2024-09-19T09:15:33.143Z"
   },
   {
    "duration": 4,
    "start_time": "2024-09-19T09:15:33.324Z"
   },
   {
    "duration": 178,
    "start_time": "2024-09-19T09:15:33.330Z"
   },
   {
    "duration": 4,
    "start_time": "2024-09-19T09:15:33.513Z"
   },
   {
    "duration": 168,
    "start_time": "2024-09-19T09:15:33.518Z"
   },
   {
    "duration": 9,
    "start_time": "2024-09-19T09:15:33.687Z"
   },
   {
    "duration": 33,
    "start_time": "2024-09-19T09:15:33.697Z"
   },
   {
    "duration": 44,
    "start_time": "2024-09-19T09:15:33.731Z"
   },
   {
    "duration": 39,
    "start_time": "2024-09-19T09:15:33.777Z"
   },
   {
    "duration": 28,
    "start_time": "2024-09-19T09:15:33.818Z"
   }
  ],
  "kernelspec": {
   "display_name": "Python 3 (ipykernel)",
   "language": "python",
   "name": "python3"
  },
  "language_info": {
   "codemirror_mode": {
    "name": "ipython",
    "version": 3
   },
   "file_extension": ".py",
   "mimetype": "text/x-python",
   "name": "python",
   "nbconvert_exporter": "python",
   "pygments_lexer": "ipython3",
   "version": "3.12.7"
  },
  "toc": {
   "base_numbering": 1,
   "nav_menu": {
    "height": "168px",
    "width": "845px"
   },
   "number_sections": true,
   "sideBar": true,
   "skip_h1_title": true,
   "title_cell": "Table of Contents",
   "title_sidebar": "Contents",
   "toc_cell": false,
   "toc_position": {},
   "toc_section_display": true,
   "toc_window_display": true
  }
 },
 "nbformat": 4,
 "nbformat_minor": 5
}
